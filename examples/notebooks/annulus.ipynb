{
 "cells": [
  {
   "cell_type": "markdown",
   "metadata": {},
   "source": [
    "# Helmholtz' equation in an annulus using Jaxfun with polar coordinates\n",
    "\n",
    "In this demo we will solve Helmholtz' equation in an annulus domain using polar coordinates and spectral accuracy. Helmholtz' equation reads\n",
    "\n",
    "$$\n",
    "\\nabla^2 u(x, y) + \\alpha u(x, y) = f(x, y),\\quad x, y \\in \\Omega\n",
    "$$\n",
    "\n",
    "where $\\Omega = \\{x, y \\, | \\,  r_0 < \\sqrt{x^2 + y^2} < r_1\\}$ and $r_0 < r_1$ are the inner and outer radii of the annulus. The parameter $\\alpha$ is a constant and $f(x, y)$ is a real function. We use homogeneous Dirichlet boundary conditions on the entire boundary.\n",
    "\n",
    "We start by importing necessary classes and functions"
   ]
  },
  {
   "cell_type": "code",
   "execution_count": 1,
   "metadata": {},
   "outputs": [],
   "source": [
    "from jaxfun import *\n",
    "import jax.numpy as jnp\n",
    "import matplotlib.pyplot as plt\n",
    "import sympy as sp"
   ]
  },
  {
   "cell_type": "markdown",
   "metadata": {},
   "source": [
    "We then create a polar coordinate system"
   ]
  },
  {
   "cell_type": "code",
   "execution_count": 2,
   "metadata": {},
   "outputs": [],
   "source": [
    "r, theta = sp.symbols(\"r,theta\", real=True, positive=True)\n",
    "C = get_CoordSys(\"C\", sp.Lambda((r, theta), (r * sp.cos(theta), r * sp.sin(theta))))"
   ]
  },
  {
   "cell_type": "markdown",
   "metadata": {},
   "source": [
    "This coordinate system is further used to create a tensor product space, where the radial direction uses composite Legendre polynomials (basis functions $\\psi_i=P_i-P_{i+2}$) and the angular direction uses Fourier exponentials."
   ]
  },
  {
   "cell_type": "code",
   "execution_count": 3,
   "metadata": {},
   "outputs": [],
   "source": [
    "r0, r1 = sp.S.Half, 1\n",
    "R = FunctionSpace(\n",
    "    20,\n",
    "    Legendre.Legendre,\n",
    "    bcs={\"left\": {\"D\": 0}, \"right\": {\"D\": 0}},\n",
    "    domain=Domain(r0, r1),\n",
    "    name=\"R\",\n",
    "    fun_str=\"phi\",\n",
    ")\n",
    "F = FunctionSpace(20, Fourier.Fourier, name=\"F\", fun_str=\"E\")\n",
    "P = TensorProductSpace((R, F), system=C, name=\"P\")"
   ]
  },
  {
   "cell_type": "markdown",
   "metadata": {},
   "source": [
    "To implement Helmholtz' equation we need test and trial functions for the tensor product space"
   ]
  },
  {
   "cell_type": "code",
   "execution_count": 4,
   "metadata": {},
   "outputs": [],
   "source": [
    "u = TrialFunction(P, name=\"u\")\n",
    "v = TestFunction(P, name=\"v\")"
   ]
  },
  {
   "cell_type": "markdown",
   "metadata": {},
   "source": [
    "The test and trial functions are subclasses of the Sympy [Function](https://docs.sympy.org/latest/modules/core.html#sympy.core.function.Function)"
   ]
  },
  {
   "cell_type": "code",
   "execution_count": 5,
   "metadata": {},
   "outputs": [
    {
     "name": "stdout",
     "output_type": "stream",
     "text": [
      "u(x, y; P)\n"
     ]
    }
   ],
   "source": [
    "sp.pprint(u)"
   ]
  },
  {
   "cell_type": "markdown",
   "metadata": {},
   "source": [
    "Here we see that the trial function `u` is a function of spatial coordinates `x` and `y`, and it is a trial function of the `P` function space. In computational coordinates `u` is a tensor product function using a tensor product between the trial functions from the one-dimensional `R` and `F` spaces. `u` is evaluated in computational coordinates using the `doit()` method"
   ]
  },
  {
   "cell_type": "code",
   "execution_count": 6,
   "metadata": {},
   "outputs": [
    {
     "data": {
      "text/latex": [
       "$\\displaystyle \\phi_k(r) E_l(\\theta)$"
      ],
      "text/plain": [
       "phi_k(r)*E_l(theta)"
      ]
     },
     "execution_count": 6,
     "metadata": {},
     "output_type": "execute_result"
    }
   ],
   "source": [
    "u.doit()"
   ]
  },
  {
   "cell_type": "markdown",
   "metadata": {},
   "source": [
    "Notice that $\\phi_k(r)$ is component $k$ of the trial functions of the radial coordinate and $E_l(\\theta)=\\exp(\\imath \\underline{l} \\theta)$ is component $l$ of the complex exponentials. (We defined the function names \"phi\" and \"E\" when creating the spaces.) The trial function is actually an expansion\n",
    "\n",
    "$$\n",
    "u(x, y) = U(r, \\theta) = \\sum_{k=0}^{N-3}\\sum_{l=0}^{N-1} \\hat{u}_{kl} \\phi_{k}(r) \\exp(\\imath \\underline{l} \\theta)\n",
    "$$\n",
    "\n",
    "where \n",
    "\n",
    "$$\n",
    "\\underline{l} = \\begin{cases} l, \\quad &\\text{if} \\, l < N/2 \\\\\n",
    "-(N-l) \\quad &\\text{if} \\, l \\ge N/2\n",
    "\\end{cases}\n",
    "$$\n",
    "\n",
    "However, we do not print the expansion factors $\\{\\hat{u}_{kl}\\}$, only the basis functions. The expansion factors are the unknown that we will compute in the end.\n",
    "\n",
    "Helmholtz' equation is now"
   ]
  },
  {
   "cell_type": "code",
   "execution_count": 7,
   "metadata": {},
   "outputs": [
    {
     "name": "stdout",
     "output_type": "stream",
     "text": [
      "u(x, y; P) + ∇⋅(∇(u(x, y; P)))\n"
     ]
    }
   ],
   "source": [
    "alpha = 1\n",
    "eq = Div(Grad(u)) + alpha*u\n",
    "sp.pprint(eq)"
   ]
  },
  {
   "cell_type": "markdown",
   "metadata": {},
   "source": [
    "Like the trial function we can also evaluate the equation in computational coordinates using `doit()`"
   ]
  },
  {
   "cell_type": "code",
   "execution_count": 8,
   "metadata": {},
   "outputs": [
    {
     "data": {
      "text/latex": [
       "$\\displaystyle \\phi_k(r) E_l(\\theta) + E_l(\\theta) \\frac{\\partial^{2}}{\\partial r^{2}} \\phi_k(r) + \\frac{E_l(\\theta) \\frac{\\partial}{\\partial r} \\phi_k(r)}{r} + \\frac{\\phi_k(r) \\frac{\\partial^{2}}{\\partial \\theta^{2}} E_l(\\theta)}{r^{2}}$"
      ],
      "text/plain": [
       "phi_k(r)*E_l(theta) + E_l(theta)*Derivative(phi_k(r), (r, 2)) + E_l(theta)*Derivative(phi_k(r), r)/r + phi_k(r)*Derivative(E_l(theta), (theta, 2))/r**2"
      ]
     },
     "execution_count": 8,
     "metadata": {},
     "output_type": "execute_result"
    }
   ],
   "source": [
    "sp.simplify(eq.doit())"
   ]
  },
  {
   "cell_type": "markdown",
   "metadata": {},
   "source": [
    "Notice that we get the Helmholtz equation in polar computational coordinates, and the trial functions are expanded into tensor products. It looks a bit better if we multiply through with the radius $r^2$:"
   ]
  },
  {
   "cell_type": "code",
   "execution_count": 9,
   "metadata": {},
   "outputs": [
    {
     "data": {
      "text/latex": [
       "$\\displaystyle r^{2} \\phi_k(r) E_l(\\theta) + r \\left(r \\frac{\\partial^{2}}{\\partial r^{2}} \\phi_k(r) + \\frac{\\partial}{\\partial r} \\phi_k(r)\\right) E_l(\\theta) + \\phi_k(r) \\frac{\\partial^{2}}{\\partial \\theta^{2}} E_l(\\theta)$"
      ],
      "text/plain": [
       "r**2*phi_k(r)*E_l(theta) + r*(r*Derivative(phi_k(r), (r, 2)) + Derivative(phi_k(r), r))*E_l(theta) + phi_k(r)*Derivative(E_l(theta), (theta, 2))"
      ]
     },
     "execution_count": 9,
     "metadata": {},
     "output_type": "execute_result"
    }
   ],
   "source": [
    "r, theta = C.base_scalars()\n",
    "sp.simplify((r**2*eq).doit())"
   ]
  },
  {
   "cell_type": "markdown",
   "metadata": {},
   "source": [
    "If you want to see what the Helmholtz equation looks like with a regular (non-tensor-product) function, then you can create a `ScalarFunction` and use that instead of the trial function"
   ]
  },
  {
   "cell_type": "code",
   "execution_count": 10,
   "metadata": {},
   "outputs": [
    {
     "data": {
      "text/latex": [
       "$\\displaystyle H{\\left(r,\\theta \\right)} + \\frac{\\partial^{2}}{\\partial r^{2}} H{\\left(r,\\theta \\right)} + \\frac{\\frac{\\partial}{\\partial r} H{\\left(r,\\theta \\right)}}{r} + \\frac{\\frac{\\partial^{2}}{\\partial \\theta^{2}} H{\\left(r,\\theta \\right)}}{r^{2}}$"
      ],
      "text/plain": [
       "H(r, theta) + Derivative(H(r, theta), (r, 2)) + Derivative(H(r, theta), r)/r + Derivative(H(r, theta), (theta, 2))/r**2"
      ]
     },
     "execution_count": 10,
     "metadata": {},
     "output_type": "execute_result"
    }
   ],
   "source": [
    "h = arguments.ScalarFunction(\"h\", C)\n",
    "sp.simplify((Div(Grad(h))+alpha*h).doit())"
   ]
  },
  {
   "cell_type": "markdown",
   "metadata": {},
   "source": [
    "Notice that the scalar function use a lowercase letter in physical space and an upper case letter in computational space\n",
    "\n",
    "$$\n",
    "h(x, y) = H(r, \\theta).\n",
    "$$"
   ]
  },
  {
   "cell_type": "markdown",
   "metadata": {},
   "source": [
    "In order to solve the Helmholtz equation we need to define $f(x, y)$ and assemble the inner products\n",
    "\n",
    "$$\n",
    "(\\nabla^2u + \\alpha u, v)_{L^2(\\Omega)} = (f, v)_{L^2(\\Omega)}\n",
    "$$\n",
    "\n",
    "Since the Fourier exponentials are complex functions we need to use a complex inner product defined as\n",
    "\n",
    "$$\n",
    "(a, b)_{L^2(\\Omega)} = \\int_{\\Omega} \\,a \\, \\overline{b}\\, d\\Omega,\n",
    "$$\n",
    "\n",
    "where $\\overline{b}$ is the complex conjugate of $b$.\n",
    "\n",
    "We can assemble both sides of Helmholtz' equation in one call. Here we actually assemble all terms in\n",
    "\n",
    "$$\n",
    "(\\nabla^2 u + \\alpha u - f, v)_{L^2(\\Omega)} = 0\n",
    "$$"
   ]
  },
  {
   "cell_type": "code",
   "execution_count": 11,
   "metadata": {},
   "outputs": [],
   "source": [
    "f = 2\n",
    "A, b = inner((eq-f)*sp.conjugate(v))"
   ]
  },
  {
   "cell_type": "markdown",
   "metadata": {},
   "source": [
    "Now all matrices will be collected in `A`, whereas the right hand side vector is collected in `b`"
   ]
  },
  {
   "cell_type": "code",
   "execution_count": 12,
   "metadata": {},
   "outputs": [
    {
     "data": {
      "text/plain": [
       "[<jaxfun.tensorproductspace.TPMatrix at 0x15fb35a00>,\n",
       " <jaxfun.tensorproductspace.TPMatrix at 0x318f606b0>,\n",
       " <jaxfun.tensorproductspace.TPMatrix at 0x318fc7b30>,\n",
       " <jaxfun.tensorproductspace.TPMatrix at 0x15fbfa840>]"
      ]
     },
     "execution_count": 12,
     "metadata": {},
     "output_type": "execute_result"
    }
   ],
   "source": [
    "A"
   ]
  },
  {
   "cell_type": "code",
   "execution_count": 13,
   "metadata": {},
   "outputs": [
    {
     "data": {
      "text/plain": [
       "(18, 20)"
      ]
     },
     "execution_count": 13,
     "metadata": {},
     "output_type": "execute_result"
    }
   ],
   "source": [
    "b.shape"
   ]
  },
  {
   "cell_type": "markdown",
   "metadata": {},
   "source": [
    "The tensor product matrices in A are tensors with four indices, and each item is the outer product of two (1D) matrices. We can see which matrices there are by inspecting the equation in computational space"
   ]
  },
  {
   "cell_type": "code",
   "execution_count": 14,
   "metadata": {},
   "outputs": [
    {
     "data": {
      "text/latex": [
       "$\\displaystyle \\frac{\\left(r^{2} \\phi_k(r) E_l(\\theta) + r \\left(r \\frac{\\partial^{2}}{\\partial r^{2}} \\phi_k(r) + \\frac{\\partial}{\\partial r} \\phi_k(r)\\right) E_l(\\theta) + \\phi_k(r) \\frac{\\partial^{2}}{\\partial \\theta^{2}} E_l(\\theta)\\right) \\overline{\\phi_i(r)} \\overline{E_j(\\theta)}}{r^{2}}$"
      ],
      "text/plain": [
       "(r**2*phi_k(r)*E_l(theta) + r*(r*Derivative(phi_k(r), (r, 2)) + Derivative(phi_k(r), r))*E_l(theta) + phi_k(r)*Derivative(E_l(theta), (theta, 2)))*conjugate(phi_i(r))*conjugate(E_j(theta))/r**2"
      ]
     },
     "execution_count": 14,
     "metadata": {},
     "output_type": "execute_result"
    }
   ],
   "source": [
    "sp.simplify((eq*sp.conjugate(v)).doit())"
   ]
  },
  {
   "cell_type": "markdown",
   "metadata": {},
   "source": [
    "Here the test function uses indices $i$ and $j$, whereas the trial function uses $k$ and $l$. Each term with four indices is one `TPMatrix` in `A`. As seen above, there are 4 tensor product matrices (4 items with 4 indices). Note that the complex conjugate of the test function is evaluated automatically inside the `inner` function and it is not necessary to call it explicitly as above. Hence `eq*v` would produce the same result, but it would not print as nicely (and correctly) as above. Also, when evaluating the inner product, the equation is multiplied by an additional `r`, since the domain measure $d\\Omega = rdrd\\theta$\n",
    "\n",
    "In the end we assemble a Kronecker product matrix from all the items in `A` and then solve the linear system of equations:"
   ]
  },
  {
   "cell_type": "code",
   "execution_count": 15,
   "metadata": {},
   "outputs": [],
   "source": [
    "C = jnp.sum(jnp.array([jnp.kron(*a.mats) for a in A]), axis=0)\n",
    "uh = jnp.linalg.solve(C, b.flatten()).reshape(b.shape)"
   ]
  },
  {
   "cell_type": "markdown",
   "metadata": {},
   "source": [
    "We can plot the solution in Cartesian coordinates on a uniform grid with 100 by 100 points:"
   ]
  },
  {
   "cell_type": "code",
   "execution_count": 16,
   "metadata": {},
   "outputs": [
    {
     "data": {
      "image/png": "[encoded data removed]",
      "text/plain": [
       "<Figure size 800x600 with 1 Axes>"
      ]
     },
     "metadata": {},
     "output_type": "display_data"
    }
   ],
   "source": [
    "xc, yc = P.cartesian_mesh(kind=\"uniform\", N=(100, 100))\n",
    "uj = P.backward(uh, kind=\"uniform\", N=(100, 100))\n",
    "f = plt.figure(figsize=(8, 6))\n",
    "ax = f.gca()\n",
    "ax.contourf(xc, yc, uj.real, 50)\n",
    "h = plt.axis('equal')"
   ]
  }
 ],
 "metadata": {
  "kernelspec": {
   "display_name": "jax-intro",
   "language": "python",
   "name": "python3"
  },
  "language_info": {
   "codemirror_mode": {
    "name": "ipython",
    "version": 3
   },
   "file_extension": ".py",
   "mimetype": "text/x-python",
   "name": "python",
   "nbconvert_exporter": "python",
   "pygments_lexer": "ipython3",
   "version": "3.12.7"
  }
 },
 "nbformat": 4,
 "nbformat_minor": 2
}

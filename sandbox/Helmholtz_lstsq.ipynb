{
 "cells": [
  {
   "cell_type": "markdown",
   "id": "2184f7f4",
   "metadata": {},
   "source": [
    "# Physics informed neural networks\n",
    "\n",
    "In this notebook we will use [Jaxfun](https://github.com/spectralDNS/jaxfun) together with\n",
    "\n",
    "* [Jax](https://docs.jax.dev/en/latest/index.html)\n",
    "* [Optax](https://optax.readthedocs.io/en/latest/)\n",
    "* [Flax](https://github.com/google/flax)\n",
    "\n",
    "in order to solve a differential equation using the least squares minimization formulation of the problem. We will use basis functions based on regular multi layer perceptrons as well as spectral expansions in orthogonal polynomials.\n",
    "\n",
    "The ubiquitous linear Helmholtz equation is defined as\n",
    "\n",
    "$$\n",
    "u^{''}(x) + \\alpha u(x) = f(x), \\quad x \\in (-1, 1), \\, \\alpha \\in \\mathbb{R^+}\n",
    "$$\n",
    "\n",
    "and in this notebook it will be used with boundary conditions $u(-1)=u(1)=0$. The function $u(x)$ represents the unknown solution and the right hand side function $f(x)$ is continuous and known. We can define a residual $\\mathcal{R}u(x)$ for the Helmholtz equation as\n",
    "\n",
    "$$\n",
    "\\mathcal{R}u(x) = u^{''}(x) + \\alpha u(x) - f(x),\n",
    "$$\n",
    "\n",
    "which should be zero for any point in the domain. In this notebook we will approximate $u(x)$ with a neural network $u_{\\theta}(x)$, where $\\theta \\in \\mathbb{R}^M$ represents the unknown weights of the network. In order to find $u_{\\theta}(x)$ we will attempt to force the residual $\\mathcal{R}u_{\\theta}(x_i)$ to zero in a least squares sense for some $N$ chosen training points $\\{x_i\\}_{i=0}^{N-1}$. To this end the least squares problem reads\n",
    "\n",
    "\\begin{equation}\n",
    "\\underset{\\theta \\in \\mathbb{R}^M}{\\text{minimize}}\\, L(\\theta):=\\frac{1}{N}\\sum_{i=0}^{N-1} \\mathcal{R}v(x_i; \\theta)^2 + \\frac{1}{2} \\left(v(-1; \\theta)^2+v(1; \\theta)^2 \\right)\n",
    "\\end{equation}\n",
    "\n",
    "We start by importing necessary functionality from both [jax](https://docs.jax.dev/en/latest/index.html), [optax](https://optax.readthedocs.io/en/latest/), [flax](https://github.com/google/flax) and Jaxfun. We also make use of Sympy in order to describe the equations."
   ]
  },
  {
   "cell_type": "code",
   "execution_count": 1,
   "id": "8ec2a4e7",
   "metadata": {},
   "outputs": [],
   "source": [
    "import jax\n",
    "import jax.numpy as jnp\n",
    "import matplotlib.pyplot as plt\n",
    "import optax\n",
    "import sympy as sp\n",
    "from flax import nnx\n",
    "\n",
    "from jaxfun.operators import Div, Grad\n",
    "from jaxfun.pinns.hessoptimizer import hess\n",
    "from jaxfun.pinns.module import (\n",
    "    MLP,\n",
    "    LSQRes,\n",
    "    NNFunction,\n",
    "    NNSpace,\n",
    "    run_optimizer,\n",
    "    train,\n",
    ")\n",
    "from jaxfun.utils.common import lambdify\n",
    "\n",
    "jax.config.update(\"jax_enable_x64\", True)"
   ]
  },
  {
   "cell_type": "markdown",
   "id": "89431016",
   "metadata": {},
   "source": [
    "Notice the `MLP` class, which is a regular multilayer perceptron subclass of the [flax](https://flax.readthedocs.io/en/latest/) [nnx.Module](https://flax.readthedocs.io/en/latest/nnx_basics.html#the-flax-nnx-module-system) class. \n",
    "\n",
    "We start by creating a Jaxfun functionspace for Neural Networks. The created space holds information about the input, output and hidden layers in the NN. Here we create an MLP using one input, 8 neurons for a single hidden layer, and one output:"
   ]
  },
  {
   "cell_type": "code",
   "execution_count": 2,
   "id": "8e2ff657",
   "metadata": {},
   "outputs": [],
   "source": [
    "V = NNSpace(1, 16, 1, name=\"V\")"
   ]
  },
  {
   "cell_type": "markdown",
   "id": "a4532546",
   "metadata": {},
   "source": [
    "It is possible to use several hidden layers, for example by choosing `V = NNSpace(1, [8, 8, 8], 1)`.\n",
    "\n",
    "The MLP function space is subsequently used to create a trial function for the neural network. The function `v` below holds all the unknown weights in the MLP. We initialize the kernel weights using `nnx.initializers.xavier_uniform`"
   ]
  },
  {
   "cell_type": "code",
   "execution_count": 3,
   "id": "573c1245",
   "metadata": {},
   "outputs": [],
   "source": [
    "v = NNFunction(V, MLP, rngs=nnx.Rngs(1001), kernel_init=nnx.initializers.xavier_uniform(), name='v')"
   ]
  },
  {
   "cell_type": "markdown",
   "id": "f2a96c3c",
   "metadata": {},
   "source": [
    "We will test the solver using a known manufactured solution. We can use any solution, but it should be continuous and the solution needs to use the same symbols as Jaxfun. Below we choose a mixture of a second order polynomial (to get the correct boundary condition) an exponential and a cosine function. This function is continuous, but it requires quite a few unknowns in order to get a decent solution."
   ]
  },
  {
   "cell_type": "code",
   "execution_count": 4,
   "id": "f090c9fb",
   "metadata": {},
   "outputs": [],
   "source": [
    "x = V.system.x\n",
    "ue = (1-x**2) * sp.exp(sp.cos(2 * sp.pi * x))"
   ]
  },
  {
   "cell_type": "markdown",
   "id": "4679c1e7",
   "metadata": {},
   "source": [
    "The equation to solve is now described in strong form using the residual $\\mathcal{R}u_{\\theta}$. Note that we create the right hand side function $f(x)$ from the manufactured solution."
   ]
  },
  {
   "cell_type": "code",
   "execution_count": 5,
   "id": "33f18408",
   "metadata": {},
   "outputs": [],
   "source": [
    "alpha = 1\n",
    "residual = Div(Grad(v)) + alpha*v - (Div(Grad(ue)) + alpha*ue)"
   ]
  },
  {
   "cell_type": "markdown",
   "id": "515de2c1",
   "metadata": {},
   "source": [
    "Note that [Div](https://github.com/spectralDNS/jaxfun/blob/main/jaxfun/operators.py) and [Grad](https://github.com/spectralDNS/jaxfun/blob/main/jaxfun/operators.py) are two operators defined in Jaxfun. For a 1D problem on the straight line there is no difference from writing this simply as \n",
    "\n",
    "residual = sp.diff(v, x, 2) + alpha * v - (sp.diff(ue, x, 2) + alpha*ue)\n",
    "\n",
    "We can look at the residual in code:"
   ]
  },
  {
   "cell_type": "code",
   "execution_count": 6,
   "id": "15724160",
   "metadata": {},
   "outputs": [
    {
     "data": {
      "text/latex": [
       "$\\displaystyle v(x; V) - \\left(\\left(1 - x^{2}\\right) e^{\\cos{\\left(2 x \\pi \\right)}} + \\nabla\\cdot \\nabla \\left(\\left(1 - x^{2}\\right) e^{\\cos{\\left(2 x \\pi \\right)}}\\right)\\right) + \\nabla\\cdot \\nabla v(x; V)$"
      ],
      "text/plain": [
       "v(x; V) - ((1 - x**2)*exp(cos(2*x*pi)) + Div(Grad((1 - x**2)*exp(cos(2*x*pi))))) + Div(Grad(v(x; V)))"
      ]
     },
     "execution_count": 6,
     "metadata": {},
     "output_type": "execute_result"
    }
   ],
   "source": [
    "residual"
   ]
  },
  {
   "cell_type": "markdown",
   "id": "f48c356a",
   "metadata": {},
   "source": [
    "Note that $\\nabla \\cdot$ represents divergence and $\\nabla v$ represents the gradient of the scalar field $v$. The neural network function $v$ is written as $v(x; V)$ since $v$ is a function of $x$ and it is a basis function on the space $V$. The residual above is in unevaluated form. We can evaluate it using the Sympy function `doit`:"
   ]
  },
  {
   "cell_type": "code",
   "execution_count": 7,
   "id": "14683537",
   "metadata": {},
   "outputs": [
    {
     "data": {
      "text/latex": [
       "$\\displaystyle - 8 x \\pi e^{\\cos{\\left(2 x \\pi \\right)}} \\sin{\\left(2 x \\pi \\right)} - 4 \\pi^{2} \\left(1 - x^{2}\\right) e^{\\cos{\\left(2 x \\pi \\right)}} \\sin^{2}{\\left(2 x \\pi \\right)} + 4 \\pi^{2} \\left(1 - x^{2}\\right) e^{\\cos{\\left(2 x \\pi \\right)}} \\cos{\\left(2 x \\pi \\right)} - \\left(1 - x^{2}\\right) e^{\\cos{\\left(2 x \\pi \\right)}} + \\phi(x) + 2 e^{\\cos{\\left(2 x \\pi \\right)}} + \\frac{\\partial^{2}}{\\partial x^{2}} \\phi(x)$"
      ],
      "text/plain": [
       "-8*x*pi*exp(cos(2*x*pi))*sin(2*x*pi) - 4*pi**2*(1 - x**2)*exp(cos(2*x*pi))*sin(2*x*pi)**2 + 4*pi**2*(1 - x**2)*exp(cos(2*x*pi))*cos(2*x*pi) - (1 - x**2)*exp(cos(2*x*pi)) + phi(x) + 2*exp(cos(2*x*pi)) + Derivative(phi(x), (x, 2))"
      ]
     },
     "execution_count": 7,
     "metadata": {},
     "output_type": "execute_result"
    }
   ],
   "source": [
    "residual.doit()"
   ]
  },
  {
   "cell_type": "markdown",
   "id": "ca6918e9",
   "metadata": {},
   "source": [
    "Note that Sympy here evaluates derivatives to the best of its abilities, and the neural network function $v$ has been replaced by the expression $\\phi(x)$. This is because \"phi\" is the default latex symbol used for an `NNFunction`.\n",
    "\n",
    "We need training points inside the domain in order to solve the least squares problem. Create random points using `jax.random.uniform` and an array `xb` that holds the coordinates of the two boundaries"
   ]
  },
  {
   "cell_type": "code",
   "execution_count": 8,
   "id": "33009c0e",
   "metadata": {},
   "outputs": [],
   "source": [
    "xj = (jax.random.uniform(jax.random.PRNGKey(2002), 1200) * 2 - 1)[:, None]\n",
    "xb = jnp.array([[-1.0], [1.0]])"
   ]
  },
  {
   "cell_type": "markdown",
   "id": "ba44f6dd",
   "metadata": {},
   "source": [
    "Define the two equations to solve using the `LSQRes` class and a list `eqs`. The items in this list will be added, just like defined for the least squares problem in Eq. (1)."
   ]
  },
  {
   "cell_type": "code",
   "execution_count": 9,
   "id": "0504d0a6",
   "metadata": {},
   "outputs": [],
   "source": [
    "eqs = [LSQRes(residual, xj), LSQRes(v, xb)]\n",
    "train_step = train(eqs)"
   ]
  },
  {
   "cell_type": "markdown",
   "id": "f56ce21c",
   "metadata": {},
   "source": [
    "To solve the least squares problem we make use of `optax` optimizers. Any optimizers may be used, but we will start with the Adam optimizer, and then switch to a more accurate optimizer after a while. We first run 5000 epochs with Adam"
   ]
  },
  {
   "cell_type": "code",
   "execution_count": 10,
   "id": "8585c8f2",
   "metadata": {},
   "outputs": [
    {
     "name": "stdout",
     "output_type": "stream",
     "text": [
      "Epoch 0 Adam, loss: 1241.4307391386674\n",
      "Epoch 1000 Adam, loss: 26.13524151375604\n",
      "Epoch 2000 Adam, loss: 2.4940830928929643\n",
      "Epoch 3000 Adam, loss: 0.4221754759029637\n",
      "Epoch 4000 Adam, loss: 0.1652112816007701\n",
      "Epoch 5000 Adam, loss: 0.07104881005702084\n"
     ]
    }
   ],
   "source": [
    "opt = optax.adam(learning_rate=optax.linear_schedule(1e-3, 1e-3, 1000))\n",
    "opt_adam = nnx.Optimizer(v.module, opt)\n",
    "run_optimizer(train_step, v.module, opt_adam, 5001, \"Adam\", 1000)"
   ]
  },
  {
   "cell_type": "markdown",
   "id": "d0040905",
   "metadata": {},
   "source": [
    "The Adam optimizer is good at eliminating local minima and as such it is good at finding a solution that is close to the global minimum. However, Adam is only first order and not able to find a very accurate solution. For this we need either a quasi-Newton or a Newton optimizer. We start with the limited-memory BFGS optimizer and take 10000 more epochs."
   ]
  },
  {
   "cell_type": "code",
   "execution_count": 11,
   "id": "1f72a77d",
   "metadata": {},
   "outputs": [
    {
     "name": "stdout",
     "output_type": "stream",
     "text": [
      "Epoch 0 LBFGS, loss: 0.07099269925760135\n",
      "Epoch 1000 LBFGS, loss: 0.0030383101558164797\n",
      "Epoch 2000 LBFGS, loss: 0.0015011667567430239\n",
      "Epoch 3000 LBFGS, loss: 0.0007682271263435482\n",
      "Epoch 4000 LBFGS, loss: 0.0006175901943367421\n",
      "Epoch 5000 LBFGS, loss: 0.0002661801310727622\n",
      "Epoch 6000 LBFGS, loss: 0.000178885367778453\n",
      "Epoch 7000 LBFGS, loss: 0.00014800415429983387\n",
      "Epoch 8000 LBFGS, loss: 0.0001308430129999962\n",
      "Epoch 9000 LBFGS, loss: 0.00010155292108491652\n",
      "Epoch 10000 LBFGS, loss: 9.311057462993854e-05\n"
     ]
    }
   ],
   "source": [
    "optlbfgs = optax.lbfgs(\n",
    "    memory_size=20,\n",
    "    linesearch=optax.scale_by_zoom_linesearch(25, max_learning_rate=1.0),\n",
    ")\n",
    "opt_lbfgs = nnx.Optimizer(v.module, optlbfgs)\n",
    "run_optimizer(train_step, v.module, opt_lbfgs, 10001, \"LBFGS\", 1000)"
   ]
  },
  {
   "cell_type": "markdown",
   "id": "27adc0e2",
   "metadata": {},
   "source": [
    "It is possible to run even more BFGS epoch to further polish this root. However, we will in the end switch to an even more accurate Newton optimizer. Since the Newton optimizer is costly, we run only 101 epochs. The Newton optimizer should only be used when the residual is already close to zero."
   ]
  },
  {
   "cell_type": "code",
   "execution_count": 12,
   "id": "0a1d487f",
   "metadata": {},
   "outputs": [
    {
     "name": "stdout",
     "output_type": "stream",
     "text": [
      "Epoch 0 Hess, loss: 9.310620401021122e-05\n",
      "Epoch 1 Hess, loss: 9.10620686910625e-05\n",
      "Epoch 2 Hess, loss: 8.983609468753777e-05\n",
      "Epoch 3 Hess, loss: 8.924313396218961e-05\n",
      "Epoch 4 Hess, loss: 8.916644391377311e-05\n",
      "Epoch 5 Hess, loss: 8.790000224447806e-05\n",
      "Epoch 6 Hess, loss: 8.58128733570263e-05\n",
      "Epoch 7 Hess, loss: 8.439118850781922e-05\n",
      "Epoch 8 Hess, loss: 8.194601111756531e-05\n",
      "Epoch 9 Hess, loss: 8.00481514213832e-05\n",
      "Epoch 10 Hess, loss: 7.838083204795953e-05\n"
     ]
    }
   ],
   "source": [
    "opthess = hess(\n",
    "    use_lstsq=False,\n",
    "    cg_max_iter=500,\n",
    "    linesearch=optax.scale_by_zoom_linesearch(25, max_learning_rate=1.0),\n",
    ")\n",
    "opt_hess = nnx.Optimizer(v.module, opthess)\n",
    "run_optimizer(train_step, v.module, opt_hess, 11, \"Hess\", 1)"
   ]
  },
  {
   "cell_type": "markdown",
   "id": "8860de5e",
   "metadata": {},
   "source": [
    "Running even more epochs the solution will become even more accurate.\n",
    "\n",
    "We can now compute the $L^2$ error norm by comparing to the exact solution"
   ]
  },
  {
   "cell_type": "code",
   "execution_count": 13,
   "id": "76133512",
   "metadata": {},
   "outputs": [
    {
     "name": "stdout",
     "output_type": "stream",
     "text": [
      "Error 0.0005827531491879256\n"
     ]
    }
   ],
   "source": [
    "uej = lambdify(x, ue)(xj) # Exact\n",
    "print(\n",
    "    \"Error\", jnp.linalg.norm(v.module(xj) - uej) / jnp.sqrt(len(xj)),\n",
    ")"
   ]
  },
  {
   "cell_type": "code",
   "execution_count": 14,
   "id": "7120e625",
   "metadata": {},
   "outputs": [
    {
     "data": {
      "text/plain": [
       "[<matplotlib.lines.Line2D at 0x34836f0e0>,\n",
       " <matplotlib.lines.Line2D at 0x34b2cd070>]"
      ]
     },
     "execution_count": 14,
     "metadata": {},
     "output_type": "execute_result"
    },
    {
     "data": {
      "image/png": "[encoded data removed]",
      "text/plain": [
       "<Figure size 640x480 with 1 Axes>"
      ]
     },
     "metadata": {},
     "output_type": "display_data"
    }
   ],
   "source": [
    "plt.plot(xj, v.module(xj), 'b*', xj, uej, 'ro')"
   ]
  },
  {
   "cell_type": "code",
   "execution_count": 15,
   "id": "33be1f2f",
   "metadata": {},
   "outputs": [
    {
     "data": {
      "image/png": "[encoded data removed]",
      "text/plain": [
       "<Figure size 640x480 with 1 Axes>"
      ]
     },
     "metadata": {},
     "output_type": "display_data"
    }
   ],
   "source": [
    "plt.plot(xj, v.module(xj)-uej, 'b*')\n",
    "plt.title('Error');"
   ]
  },
  {
   "cell_type": "code",
   "execution_count": 16,
   "id": "91e5c29d",
   "metadata": {},
   "outputs": [],
   "source": [
    "gd, st = nnx.split(v.module)\n",
    "pyt, ret = jax.flatten_util.ravel_pytree(st)"
   ]
  },
  {
   "cell_type": "markdown",
   "id": "128d127c",
   "metadata": {},
   "source": [
    "# Spectral least squares solver\n",
    "\n",
    "The neural network is capturing the solution quite well, but the convergence is quite slow. We know that a problem like the Helmholtz equation with a continuous solution should be very well captured using Legendre or Chebyshev basis functions, that have much better approximation properties than the neural network. Using Jaxfun we can solve this problem with the Galerkin method, but we can also use the least squares formulation similar to as above. The main difference is that we use weak formulations and integrate over the domain. \n",
    "\n",
    "The solver below is using simply\n",
    "\n",
    "$$\n",
    "u_{\\theta}(x) = \\sum_{i=0}^{N-1} \\hat{u}_i L_i(x)\n",
    "$$\n",
    "\n",
    "where $L_i(x)$ is the i'th Legendre polynomial and $\\hat{u}_i$ are the unknowns.\n",
    "\n",
    "The least squares implementation goes as follows:"
   ]
  },
  {
   "cell_type": "code",
   "execution_count": 17,
   "id": "e0b43b1a",
   "metadata": {},
   "outputs": [
    {
     "name": "stdout",
     "output_type": "stream",
     "text": [
      "Epoch 0 Adam, loss: 66211069.76438103\n",
      "Epoch 1000 Adam, loss: 576335.5379735745\n",
      "Epoch 2000 Adam, loss: 265562.8252874361\n",
      "Epoch 3000 Adam, loss: 110581.64495475881\n",
      "Epoch 4000 Adam, loss: 48435.77711605648\n",
      "Epoch 5000 Adam, loss: 30071.078875504372\n",
      "Epoch 0 LBFGS, loss: 30061.69973751855\n",
      "Epoch 100 LBFGS, loss: 15289.120480477179\n",
      "Epoch 200 LBFGS, loss: 5194.850291042578\n",
      "Epoch 300 LBFGS, loss: 3454.87001766096\n",
      "Epoch 400 LBFGS, loss: 1725.2766719876167\n",
      "Epoch 500 LBFGS, loss: 1290.6713075845498\n",
      "Epoch 600 LBFGS, loss: 1080.6877146675547\n",
      "Epoch 700 LBFGS, loss: 955.5734590400248\n",
      "Epoch 800 LBFGS, loss: 881.7471829780378\n",
      "Epoch 900 LBFGS, loss: 797.0091947699144\n",
      "Epoch 1000 LBFGS, loss: 724.988257633826\n",
      "Epoch 0 Hess, loss: 724.7684279109635\n",
      "Epoch 1 Hess, loss: 0.01387031112977115\n",
      "Epoch 2 Hess, loss: 1.0878244657721637e-10\n",
      "Epoch 3 Hess, loss: 1.0877690342603775e-10\n"
     ]
    }
   ],
   "source": [
    "from jaxfun.Legendre import Legendre\n",
    "from jaxfun.pinns.module import SpectralModule\n",
    "\n",
    "VN = Legendre(60)\n",
    "v = NNFunction(VN, SpectralModule, rngs=nnx.Rngs(1001), kernel_init=nnx.initializers.xavier_uniform(), name='v')\n",
    "# We can set up the least squares problem as below\n",
    "#res = Div(Grad(v)) + alpha*v - (Div(Grad(ue)) + alpha*ue)\n",
    "#eqs = [LSQRes(res, xj), LSQRes(v, xb)]\n",
    "#train_step = train(eqs)\n",
    "# But we can also just use the definition from above, since the choice of\n",
    "# model is made in the optimizer.\n",
    "\n",
    "opt_adam = nnx.Optimizer(v.module, opt)\n",
    "run_optimizer(train_step, v.module, opt_adam, 5001, \"Adam\", 1000)\n",
    "opt_lbfgs = nnx.Optimizer(v.module, optlbfgs)\n",
    "run_optimizer(train_step, v.module, opt_lbfgs, 1001, \"LBFGS\", 100)\n",
    "opt_hess = nnx.Optimizer(v.module, opthess)\n",
    "run_optimizer(train_step, v.module, opt_hess, 11, \"Hess\", 1)"
   ]
  },
  {
   "cell_type": "markdown",
   "id": "cfc886a7",
   "metadata": {},
   "source": [
    "Note that with only 4 Newton iterations the error plunges to zero. Comparing now with the exact solution we get a very accurate $L^2$ error"
   ]
  },
  {
   "cell_type": "code",
   "execution_count": 18,
   "id": "5b4c2d21",
   "metadata": {},
   "outputs": [
    {
     "name": "stdout",
     "output_type": "stream",
     "text": [
      "Error 8.457823894845964e-08\n"
     ]
    }
   ],
   "source": [
    "print(\n",
    "    \"Error\", jnp.linalg.norm(v.module(xj) - uej) / jnp.sqrt(len(xj)),\n",
    ")"
   ]
  },
  {
   "cell_type": "code",
   "execution_count": 19,
   "id": "ffcfe77c",
   "metadata": {},
   "outputs": [
    {
     "data": {
      "image/png": "[encoded data removed]",
      "text/plain": [
       "<Figure size 640x480 with 1 Axes>"
      ]
     },
     "metadata": {},
     "output_type": "display_data"
    }
   ],
   "source": [
    "plt.plot(xj, v.module(xj)-uej, 'b*')\n",
    "plt.title('Error');"
   ]
  },
  {
   "cell_type": "markdown",
   "id": "d4057c75",
   "metadata": {},
   "source": [
    "# Implicit spectral least squares"
   ]
  },
  {
   "cell_type": "code",
   "execution_count": 20,
   "id": "62ef9b2d",
   "metadata": {},
   "outputs": [
    {
     "name": "stdout",
     "output_type": "stream",
     "text": [
      "2.8732611885768916e-06\n"
     ]
    }
   ],
   "source": [
    "from jaxfun import FunctionSpace, TestFunction, TrialFunction, inner\n",
    "\n",
    "D = FunctionSpace(\n",
    "    60, Legendre, bcs={\"left\": {\"D\": 0}, \"right\": {\"D\": 0}}, name=\"D\", fun_str=\"psi\"\n",
    ")\n",
    "v = TestFunction(D, name=\"v\")\n",
    "u = TrialFunction(D, name=\"u\")\n",
    "\n",
    "A, L = inner(\n",
    "    #v * (Div(Grad(u)) + alpha * u) - v * (Div(Grad(ue)) + alpha * ue), # Galerkin\n",
    "    (Div(Grad(v)) + alpha * v) * (Div(Grad(u)) + alpha * u)\n",
    "    - (Div(Grad(v)) + alpha * v) * (Div(Grad(ue)) + alpha * ue), # LSQ\n",
    "    sparse=True,\n",
    "    sparse_tol=1000,\n",
    "    return_all_items=False,\n",
    ")\n",
    "\n",
    "uh = jnp.linalg.solve(A.todense(), L)\n",
    "uj = D.evaluate(xj, uh)\n",
    "uej = lambdify(x, ue)(xj)\n",
    "error = jnp.linalg.norm(uj - uej) / jnp.sqrt(len(xj))\n",
    "print(error)"
   ]
  },
  {
   "cell_type": "code",
   "execution_count": 21,
   "id": "60683451",
   "metadata": {},
   "outputs": [
    {
     "data": {
      "image/png": "[encoded data removed]",
      "text/plain": [
       "<Figure size 640x480 with 1 Axes>"
      ]
     },
     "metadata": {},
     "output_type": "display_data"
    }
   ],
   "source": [
    "plt.plot(xj, uj-uej, 'b*')\n",
    "plt.title('Error');"
   ]
  },
  {
   "cell_type": "markdown",
   "id": "a689fc80",
   "metadata": {},
   "source": [
    "The solution with implicit Galerkin or least squares is actually less accurate than the regular least squares. The main reason for this is the fact that the implicit makes use of only 60 mesh points in order to compute the integration over the domain, whereas the collocation method uses all the 1200 training points. It is possible to improve the accuracy of the implicit integration, but that is not yet implemented in Jaxfun."
   ]
  },
  {
   "cell_type": "code",
   "execution_count": null,
   "id": "f7c60b03",
   "metadata": {},
   "outputs": [],
   "source": []
  }
 ],
 "metadata": {
  "kernelspec": {
   "display_name": "jax-intro",
   "language": "python",
   "name": "python3"
  },
  "language_info": {
   "codemirror_mode": {
    "name": "ipython",
    "version": 3
   },
   "file_extension": ".py",
   "mimetype": "text/x-python",
   "name": "python",
   "nbconvert_exporter": "python",
   "pygments_lexer": "ipython3",
   "version": "3.12.7"
  }
 },
 "nbformat": 4,
 "nbformat_minor": 5
}

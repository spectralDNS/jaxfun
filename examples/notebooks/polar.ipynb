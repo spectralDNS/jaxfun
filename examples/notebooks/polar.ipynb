{
 "cells": [
  {
   "cell_type": "markdown",
   "metadata": {},
   "source": [
    "# Polar coordinates with jaxfun"
   ]
  },
  {
   "cell_type": "code",
   "execution_count": 1,
   "metadata": {},
   "outputs": [],
   "source": [
    "import numpy as np\n",
    "import sympy as sp\n",
    "\n",
    "from jaxfun import *\n",
    "from jaxfun.Basespace import Domain\n",
    "\n",
    "# system = 'polar'\n",
    "system = \"cylindrical\"\n",
    "r, theta, z = sp.symbols(\"r,theta,z\", real=True, positive=True)\n",
    "\n",
    "if system == \"polar\":\n",
    "    C = get_CoordSys(\"C\", sp.Lambda((r, theta), (r * sp.cos(theta), r * sp.sin(theta))))\n",
    "    R = FunctionSpace(\n",
    "        20,\n",
    "        Legendre.Legendre,\n",
    "        bcs={\"left\": {\"D\": 0}, \"right\": {\"D\": 0}},\n",
    "        domain=Domain(0.5, 1),\n",
    "        name=\"R\",\n",
    "        fun_str=\"phi\",\n",
    "    )\n",
    "    T = FunctionSpace(\n",
    "        20,\n",
    "        Legendre.Legendre,\n",
    "        bcs={\"left\": {\"D\": 0}, \"right\": {\"D\": 0}},\n",
    "        domain=Domain(0, np.pi),\n",
    "        name=\"T\",\n",
    "        fun_str=\"psi\",\n",
    "    )\n",
    "    P = TensorProductSpace((R, T), system=C, name=\"P\")\n",
    "\n",
    "elif system == \"cylindrical\":\n",
    "    C = get_CoordSys(\n",
    "        \"C\", sp.Lambda((r, theta, z), (r * sp.cos(theta), r * sp.sin(theta), z))\n",
    "    )\n",
    "    R = FunctionSpace(\n",
    "        20,\n",
    "        Legendre.Legendre,\n",
    "        bcs={\"left\": {\"D\": 0}, \"right\": {\"D\": 0}},\n",
    "        domain=Domain(0.5, 1),\n",
    "        name=\"R\",\n",
    "        fun_str=\"phi\",\n",
    "    )\n",
    "    T = FunctionSpace(\n",
    "        20,\n",
    "        Legendre.Legendre,\n",
    "        bcs={\"left\": {\"D\": 0}, \"right\": {\"D\": 0}},\n",
    "        domain=Domain(0, np.pi),\n",
    "        name=\"T\",\n",
    "        fun_str=\"psi\",\n",
    "    )\n",
    "    Z = FunctionSpace(20, Legendre.Legendre, domain=Domain(0, 1), name=\"Z\", fun_str=\"L\")\n",
    "    P = TensorProductSpace((R, T, Z), system=C, name=\"P\")"
   ]
  },
  {
   "cell_type": "code",
   "execution_count": 2,
   "metadata": {},
   "outputs": [
    {
     "data": {
      "text/latex": [
       "$\\displaystyle \\nabla\\cdot \\nabla u(x, y, z; P)$"
      ],
      "text/plain": [
       "Div(Grad(u(x, y, z; P)))"
      ]
     },
     "execution_count": 2,
     "metadata": {},
     "output_type": "execute_result"
    }
   ],
   "source": [
    "u = TrialFunction(P, name=\"u\")\n",
    "du = Div(Grad(u))\n",
    "du"
   ]
  },
  {
   "cell_type": "code",
   "execution_count": 3,
   "metadata": {},
   "outputs": [
    {
     "data": {
      "text/latex": [
       "$\\displaystyle \\phi_l(r) \\psi_m(\\theta) \\frac{\\partial^{2}}{\\partial z^{2}} L_n(z) + \\frac{r \\psi_m(\\theta) L_n(z) \\frac{\\partial^{2}}{\\partial r^{2}} \\phi_l(r) + \\psi_m(\\theta) L_n(z) \\frac{\\partial}{\\partial r} \\phi_l(r)}{r} + \\frac{\\phi_l(r) L_n(z) \\frac{\\partial^{2}}{\\partial \\theta^{2}} \\psi_m(\\theta)}{r^{2}}$"
      ],
      "text/plain": [
       "phi_l(r)*psi_m(theta)*Derivative(L_n(z), (z, 2)) + (r*psi_m(theta)*L_n(z)*Derivative(phi_l(r), (r, 2)) + psi_m(theta)*L_n(z)*Derivative(phi_l(r), r))/r + phi_l(r)*L_n(z)*Derivative(psi_m(theta), (theta, 2))/r**2"
      ]
     },
     "execution_count": 3,
     "metadata": {},
     "output_type": "execute_result"
    }
   ],
   "source": [
    "du.doit()"
   ]
  },
  {
   "cell_type": "code",
   "execution_count": 4,
   "metadata": {},
   "outputs": [
    {
     "data": {
      "text/plain": [
       "\"Div(Grad(TrialFunction(x, y, z, Symbol('P'))))\""
      ]
     },
     "execution_count": 4,
     "metadata": {},
     "output_type": "execute_result"
    }
   ],
   "source": [
    "from sympy import srepr\n",
    "\n",
    "srepr(du)"
   ]
  },
  {
   "cell_type": "code",
   "execution_count": 5,
   "metadata": {},
   "outputs": [
    {
     "data": {
      "text/latex": [
       "$\\displaystyle \\left(x + y + z\\right) \\nabla\\cdot \\nabla u(x, y, z; P)$"
      ],
      "text/plain": [
       "(x + y + z)*Div(Grad(u(x, y, z; P)))"
      ]
     },
     "execution_count": 5,
     "metadata": {},
     "output_type": "execute_result"
    }
   ],
   "source": [
    "du = (C.x + C.y + C.z) * Div(Grad(u))\n",
    "du"
   ]
  },
  {
   "cell_type": "code",
   "execution_count": 6,
   "metadata": {},
   "outputs": [
    {
     "data": {
      "text/plain": [
       "\"Mul(Add(x, y, z), Div(Grad(TrialFunction(x, y, z, Symbol('P')))))\""
      ]
     },
     "execution_count": 6,
     "metadata": {},
     "output_type": "execute_result"
    }
   ],
   "source": [
    "srepr(du)"
   ]
  },
  {
   "cell_type": "code",
   "execution_count": 7,
   "metadata": {},
   "outputs": [
    {
     "data": {
      "text/latex": [
       "$\\displaystyle \\left(r \\sin{\\left(\\theta \\right)} + r \\cos{\\left(\\theta \\right)} + z\\right) \\left(\\phi_l(r) \\psi_m(\\theta) \\frac{\\partial^{2}}{\\partial z^{2}} L_n(z) + \\frac{r \\psi_m(\\theta) L_n(z) \\frac{\\partial^{2}}{\\partial r^{2}} \\phi_l(r) + \\psi_m(\\theta) L_n(z) \\frac{\\partial}{\\partial r} \\phi_l(r)}{r} + \\frac{\\phi_l(r) L_n(z) \\frac{\\partial^{2}}{\\partial \\theta^{2}} \\psi_m(\\theta)}{r^{2}}\\right)$"
      ],
      "text/plain": [
       "(r*sin(theta) + r*cos(theta) + z)*(phi_l(r)*psi_m(theta)*Derivative(L_n(z), (z, 2)) + (r*psi_m(theta)*L_n(z)*Derivative(phi_l(r), (r, 2)) + psi_m(theta)*L_n(z)*Derivative(phi_l(r), r))/r + phi_l(r)*L_n(z)*Derivative(psi_m(theta), (theta, 2))/r**2)"
      ]
     },
     "execution_count": 7,
     "metadata": {},
     "output_type": "execute_result"
    }
   ],
   "source": [
    "du.doit()"
   ]
  },
  {
   "cell_type": "code",
   "execution_count": 8,
   "metadata": {},
   "outputs": [
    {
     "data": {
      "text/latex": [
       "$\\displaystyle \\left(\\psi_m(\\theta) L_n(z) \\frac{\\partial}{\\partial r} \\phi_l(r)\\right)\\mathbf{b_{r}} + \\left(\\frac{\\phi_l(r) L_n(z) \\frac{\\partial}{\\partial \\theta} \\psi_m(\\theta)}{r^{2}}\\right)\\mathbf{b_{\\theta}} + \\left(\\phi_l(r) \\psi_m(\\theta) \\frac{\\partial}{\\partial z} L_n(z)\\right)\\mathbf{b_{z}}$"
      ],
      "text/plain": [
       "(psi_m(theta)*L_n(z)*Derivative(phi_l(r), r))*C.b_r + (phi_l(r)*L_n(z)*Derivative(psi_m(theta), theta)/r**2)*C.b_theta + (phi_l(r)*psi_m(theta)*Derivative(L_n(z), z))*C.b_z"
      ]
     },
     "execution_count": 8,
     "metadata": {},
     "output_type": "execute_result"
    }
   ],
   "source": [
    "Grad(u).doit()"
   ]
  },
  {
   "cell_type": "code",
   "execution_count": 9,
   "metadata": {},
   "outputs": [
    {
     "data": {
      "text/latex": [
       "$\\displaystyle g(x, y, z)$"
      ],
      "text/plain": [
       "g(x, y, z)"
      ]
     },
     "execution_count": 9,
     "metadata": {},
     "output_type": "execute_result"
    }
   ],
   "source": [
    "g = arguments.ScalarFunction(\"g\", C)\n",
    "g"
   ]
  },
  {
   "cell_type": "code",
   "execution_count": 10,
   "metadata": {},
   "outputs": [
    {
     "data": {
      "text/latex": [
       "$\\displaystyle G{\\left(r,\\theta,z \\right)}$"
      ],
      "text/plain": [
       "G(r, theta, z)"
      ]
     },
     "execution_count": 10,
     "metadata": {},
     "output_type": "execute_result"
    }
   ],
   "source": [
    "G = g.doit()\n",
    "G"
   ]
  },
  {
   "cell_type": "code",
   "execution_count": 11,
   "metadata": {},
   "outputs": [
    {
     "data": {
      "text/latex": [
       "$\\displaystyle \\nabla\\cdot \\nabla g(x, y, z)$"
      ],
      "text/plain": [
       "Div(Grad(g(x, y, z)))"
      ]
     },
     "execution_count": 11,
     "metadata": {},
     "output_type": "execute_result"
    }
   ],
   "source": [
    "Div(Grad(g))"
   ]
  },
  {
   "cell_type": "code",
   "execution_count": 12,
   "metadata": {},
   "outputs": [
    {
     "data": {
      "text/latex": [
       "$\\displaystyle \\frac{\\partial^{2}}{\\partial z^{2}} G{\\left(r,\\theta,z \\right)} + \\frac{r \\frac{\\partial^{2}}{\\partial r^{2}} G{\\left(r,\\theta,z \\right)} + \\frac{\\partial}{\\partial r} G{\\left(r,\\theta,z \\right)}}{r} + \\frac{\\frac{\\partial^{2}}{\\partial \\theta^{2}} G{\\left(r,\\theta,z \\right)}}{r^{2}}$"
      ],
      "text/plain": [
       "Derivative(G(r, theta, z), (z, 2)) + (r*Derivative(G(r, theta, z), (r, 2)) + Derivative(G(r, theta, z), r))/r + Derivative(G(r, theta, z), (theta, 2))/r**2"
      ]
     },
     "execution_count": 12,
     "metadata": {},
     "output_type": "execute_result"
    }
   ],
   "source": [
    "Div(Grad(g)).doit()"
   ]
  },
  {
   "cell_type": "code",
   "execution_count": 13,
   "metadata": {},
   "outputs": [
    {
     "data": {
      "text/plain": [
       "'R⊗T⊗Z'"
      ]
     },
     "execution_count": 13,
     "metadata": {},
     "output_type": "execute_result"
    }
   ],
   "source": [
    "P.tensorname"
   ]
  },
  {
   "cell_type": "code",
   "execution_count": 14,
   "metadata": {},
   "outputs": [
    {
     "data": {
      "text/plain": [
       "'P×P×P'"
      ]
     },
     "execution_count": 14,
     "metadata": {},
     "output_type": "execute_result"
    }
   ],
   "source": [
    "V = VectorTensorProductSpace(P, name=\"V\")\n",
    "V.tensorname"
   ]
  },
  {
   "cell_type": "code",
   "execution_count": 15,
   "metadata": {},
   "outputs": [
    {
     "data": {
      "text/plain": [
       "'V'"
      ]
     },
     "execution_count": 15,
     "metadata": {},
     "output_type": "execute_result"
    }
   ],
   "source": [
    "V.name"
   ]
  },
  {
   "cell_type": "code",
   "execution_count": 16,
   "metadata": {},
   "outputs": [
    {
     "data": {
      "text/latex": [
       "$\\displaystyle \\mathbf{ {v} }(x, y, z; V)$"
      ],
      "text/plain": [
       "v(x, y, z; V)"
      ]
     },
     "execution_count": 16,
     "metadata": {},
     "output_type": "execute_result"
    }
   ],
   "source": [
    "v = TestFunction(V, name=\"v\")\n",
    "v"
   ]
  },
  {
   "cell_type": "code",
   "execution_count": 17,
   "metadata": {},
   "outputs": [
    {
     "data": {
      "text/latex": [
       "$\\displaystyle \\left(\\phi_i^{(0)}(r) \\psi_j^{(0)}(\\theta) L_k^{(0)}(z)\\right)\\mathbf{b_{r}} + \\left(\\phi_i^{(1)}(r) \\psi_j^{(1)}(\\theta) L_k^{(1)}(z)\\right)\\mathbf{b_{\\theta}} + \\left(\\phi_i^{(2)}(r) \\psi_j^{(2)}(\\theta) L_k^{(2)}(z)\\right)\\mathbf{b_{z}}$"
      ],
      "text/plain": [
       "(phi_i^{(0)}(r)*psi_j^{(0)}(theta)*L_k^{(0)}(z))*C.b_r + (phi_i^{(1)}(r)*psi_j^{(1)}(theta)*L_k^{(1)}(z))*C.b_theta + (phi_i^{(2)}(r)*psi_j^{(2)}(theta)*L_k^{(2)}(z))*C.b_z"
      ]
     },
     "execution_count": 17,
     "metadata": {},
     "output_type": "execute_result"
    }
   ],
   "source": [
    "v.doit()"
   ]
  },
  {
   "cell_type": "code",
   "execution_count": 18,
   "metadata": {},
   "outputs": [
    {
     "data": {
      "text/latex": [
       "$\\displaystyle \\mathbf{\\hat{0}}$"
      ],
      "text/plain": [
       "0"
      ]
     },
     "execution_count": 18,
     "metadata": {},
     "output_type": "execute_result"
    }
   ],
   "source": [
    "Cross(v, v).doit()"
   ]
  },
  {
   "cell_type": "code",
   "execution_count": 19,
   "metadata": {},
   "outputs": [
    {
     "data": {
      "text/latex": [
       "$\\displaystyle \\mathbf{ {v} }(x, y, z; V) \\times \\mathbf{b_{r}}$"
      ],
      "text/plain": [
       "Cross(v(x, y, z; V), C.b_r)"
      ]
     },
     "execution_count": 19,
     "metadata": {},
     "output_type": "execute_result"
    }
   ],
   "source": [
    "c = Cross(v, C.b_r)\n",
    "c"
   ]
  },
  {
   "cell_type": "code",
   "execution_count": 20,
   "metadata": {},
   "outputs": [
    {
     "data": {
      "text/latex": [
       "$\\displaystyle \\left(\\frac{\\phi_i^{(2)}(r) \\psi_j^{(2)}(\\theta) L_k^{(2)}(z)}{r}\\right)\\mathbf{b_{\\theta}} + \\left(- r \\phi_i^{(1)}(r) \\psi_j^{(1)}(\\theta) L_k^{(1)}(z)\\right)\\mathbf{b_{z}}$"
      ],
      "text/plain": [
       "(phi_i^{(2)}(r)*psi_j^{(2)}(theta)*L_k^{(2)}(z)/r)*C.b_theta + (-r*phi_i^{(1)}(r)*psi_j^{(1)}(theta)*L_k^{(1)}(z))*C.b_z"
      ]
     },
     "execution_count": 20,
     "metadata": {},
     "output_type": "execute_result"
    }
   ],
   "source": [
    "c.doit()"
   ]
  },
  {
   "cell_type": "code",
   "execution_count": 21,
   "metadata": {},
   "outputs": [
    {
     "data": {
      "text/latex": [
       "$\\displaystyle \\nabla\\times \\mathbf{ {v} }(x, y, z; V)$"
      ],
      "text/plain": [
       "Curl(v(x, y, z; V))"
      ]
     },
     "execution_count": 21,
     "metadata": {},
     "output_type": "execute_result"
    }
   ],
   "source": [
    "d = Curl(v)\n",
    "d"
   ]
  },
  {
   "cell_type": "code",
   "execution_count": 22,
   "metadata": {},
   "outputs": [
    {
     "data": {
      "text/latex": [
       "$\\displaystyle \\left(\\frac{- r^{2} \\phi_i^{(1)}(r) \\psi_j^{(1)}(\\theta) \\frac{\\partial}{\\partial z} L_k^{(1)}(z) + \\phi_i^{(2)}(r) L_k^{(2)}(z) \\frac{\\partial}{\\partial \\theta} \\psi_j^{(2)}(\\theta)}{r}\\right)\\mathbf{b_{r}} + \\left(\\frac{\\phi_i^{(0)}(r) \\psi_j^{(0)}(\\theta) \\frac{\\partial}{\\partial z} L_k^{(0)}(z) - \\psi_j^{(2)}(\\theta) L_k^{(2)}(z) \\frac{\\partial}{\\partial r} \\phi_i^{(2)}(r)}{r}\\right)\\mathbf{b_{\\theta}} + \\left(\\frac{r^{2} \\psi_j^{(1)}(\\theta) L_k^{(1)}(z) \\frac{\\partial}{\\partial r} \\phi_i^{(1)}(r) + 2 r \\phi_i^{(1)}(r) \\psi_j^{(1)}(\\theta) L_k^{(1)}(z) - \\phi_i^{(0)}(r) L_k^{(0)}(z) \\frac{\\partial}{\\partial \\theta} \\psi_j^{(0)}(\\theta)}{r}\\right)\\mathbf{b_{z}}$"
      ],
      "text/plain": [
       "((-r**2*phi_i^{(1)}(r)*psi_j^{(1)}(theta)*Derivative(L_k^{(1)}(z), z) + phi_i^{(2)}(r)*L_k^{(2)}(z)*Derivative(psi_j^{(2)}(theta), theta))/r)*C.b_r + ((phi_i^{(0)}(r)*psi_j^{(0)}(theta)*Derivative(L_k^{(0)}(z), z) - psi_j^{(2)}(theta)*L_k^{(2)}(z)*Derivative(phi_i^{(2)}(r), r))/r)*C.b_theta + ((r**2*psi_j^{(1)}(theta)*L_k^{(1)}(z)*Derivative(phi_i^{(1)}(r), r) + 2*r*phi_i^{(1)}(r)*psi_j^{(1)}(theta)*L_k^{(1)}(z) - phi_i^{(0)}(r)*L_k^{(0)}(z)*Derivative(psi_j^{(0)}(theta), theta))/r)*C.b_z"
      ]
     },
     "execution_count": 22,
     "metadata": {},
     "output_type": "execute_result"
    }
   ],
   "source": [
    "d.doit()"
   ]
  },
  {
   "cell_type": "code",
   "execution_count": 23,
   "metadata": {},
   "outputs": [
    {
     "data": {
      "text/latex": [
       "$\\displaystyle \\mathbf{{h}}(x, y, z)$"
      ],
      "text/plain": [
       "\u001b[1mh\u001b[0m(x, y, z)"
      ]
     },
     "execution_count": 23,
     "metadata": {},
     "output_type": "execute_result"
    }
   ],
   "source": [
    "h = arguments.VectorFunction(\"h\", C)\n",
    "h"
   ]
  },
  {
   "cell_type": "code",
   "execution_count": 24,
   "metadata": {},
   "outputs": [
    {
     "data": {
      "text/latex": [
       "$\\displaystyle \\left(H_{r}{\\left(r,\\theta,z \\right)}\\right)\\mathbf{b_{r}} + \\left(H_{\\theta}{\\left(r,\\theta,z \\right)}\\right)\\mathbf{b_{\\theta}} + \\left(H_{z}{\\left(r,\\theta,z \\right)}\\right)\\mathbf{b_{z}}$"
      ],
      "text/plain": [
       "(H_r(r, theta, z))*C.b_r + (H_\\theta(r, theta, z))*C.b_theta + (H_z(r, theta, z))*C.b_z"
      ]
     },
     "execution_count": 24,
     "metadata": {},
     "output_type": "execute_result"
    }
   ],
   "source": [
    "H = h.doit()\n",
    "H"
   ]
  },
  {
   "cell_type": "code",
   "execution_count": 25,
   "metadata": {},
   "outputs": [
    {
     "data": {
      "text/latex": [
       "$\\displaystyle \\left(\\frac{- r^{2} \\phi_i^{(1)}(r) \\psi_j^{(1)}(\\theta) \\frac{\\partial}{\\partial z} L_k^{(1)}(z) + \\phi_i^{(2)}(r) L_k^{(2)}(z) \\frac{\\partial}{\\partial \\theta} \\psi_j^{(2)}(\\theta)}{r}\\right)\\mathbf{b_{r}} + \\left(\\frac{\\phi_i^{(0)}(r) \\psi_j^{(0)}(\\theta) \\frac{\\partial}{\\partial z} L_k^{(0)}(z) - \\psi_j^{(2)}(\\theta) L_k^{(2)}(z) \\frac{\\partial}{\\partial r} \\phi_i^{(2)}(r)}{r}\\right)\\mathbf{b_{\\theta}} + \\left(\\frac{r^{2} \\psi_j^{(1)}(\\theta) L_k^{(1)}(z) \\frac{\\partial}{\\partial r} \\phi_i^{(1)}(r) + 2 r \\phi_i^{(1)}(r) \\psi_j^{(1)}(\\theta) L_k^{(1)}(z) - \\phi_i^{(0)}(r) L_k^{(0)}(z) \\frac{\\partial}{\\partial \\theta} \\psi_j^{(0)}(\\theta)}{r}\\right)\\mathbf{b_{z}}$"
      ],
      "text/plain": [
       "((-r**2*phi_i^{(1)}(r)*psi_j^{(1)}(theta)*Derivative(L_k^{(1)}(z), z) + phi_i^{(2)}(r)*L_k^{(2)}(z)*Derivative(psi_j^{(2)}(theta), theta))/r)*C.b_r + ((phi_i^{(0)}(r)*psi_j^{(0)}(theta)*Derivative(L_k^{(0)}(z), z) - psi_j^{(2)}(theta)*L_k^{(2)}(z)*Derivative(phi_i^{(2)}(r), r))/r)*C.b_theta + ((r**2*psi_j^{(1)}(theta)*L_k^{(1)}(z)*Derivative(phi_i^{(1)}(r), r) + 2*r*phi_i^{(1)}(r)*psi_j^{(1)}(theta)*L_k^{(1)}(z) - phi_i^{(0)}(r)*L_k^{(0)}(z)*Derivative(psi_j^{(0)}(theta), theta))/r)*C.b_z"
      ]
     },
     "execution_count": 25,
     "metadata": {},
     "output_type": "execute_result"
    }
   ],
   "source": [
    "D = d.doit()\n",
    "D"
   ]
  },
  {
   "cell_type": "code",
   "execution_count": 26,
   "metadata": {},
   "outputs": [],
   "source": [
    "R = C.to_cartesian(D)"
   ]
  },
  {
   "cell_type": "code",
   "execution_count": 27,
   "metadata": {},
   "outputs": [
    {
     "data": {
      "text/latex": [
       "$\\displaystyle \\left(- \\left(\\phi_i^{(0)}(r) \\psi_j^{(0)}(\\theta) \\frac{\\partial}{\\partial z} L_k^{(0)}(z) - \\psi_j^{(2)}(\\theta) L_k^{(2)}(z) \\frac{\\partial}{\\partial r} \\phi_i^{(2)}(r)\\right) \\sin{\\left(\\theta \\right)} + \\frac{\\left(- r^{2} \\phi_i^{(1)}(r) \\psi_j^{(1)}(\\theta) \\frac{\\partial}{\\partial z} L_k^{(1)}(z) + \\phi_i^{(2)}(r) L_k^{(2)}(z) \\frac{\\partial}{\\partial \\theta} \\psi_j^{(2)}(\\theta)\\right) \\cos{\\left(\\theta \\right)}}{r}\\right)\\mathbf{{i}} + \\left(\\left(\\phi_i^{(0)}(r) \\psi_j^{(0)}(\\theta) \\frac{\\partial}{\\partial z} L_k^{(0)}(z) - \\psi_j^{(2)}(\\theta) L_k^{(2)}(z) \\frac{\\partial}{\\partial r} \\phi_i^{(2)}(r)\\right) \\cos{\\left(\\theta \\right)} + \\frac{\\left(- r^{2} \\phi_i^{(1)}(r) \\psi_j^{(1)}(\\theta) \\frac{\\partial}{\\partial z} L_k^{(1)}(z) + \\phi_i^{(2)}(r) L_k^{(2)}(z) \\frac{\\partial}{\\partial \\theta} \\psi_j^{(2)}(\\theta)\\right) \\sin{\\left(\\theta \\right)}}{r}\\right)\\mathbf{{j}} + \\left(\\frac{r^{2} \\psi_j^{(1)}(\\theta) L_k^{(1)}(z) \\frac{\\partial}{\\partial r} \\phi_i^{(1)}(r) + 2 r \\phi_i^{(1)}(r) \\psi_j^{(1)}(\\theta) L_k^{(1)}(z) - \\phi_i^{(0)}(r) L_k^{(0)}(z) \\frac{\\partial}{\\partial \\theta} \\psi_j^{(0)}(\\theta)}{r}\\right)\\mathbf{{k}}$"
      ],
      "text/plain": [
       "(-(phi_i^{(0)}(r)*psi_j^{(0)}(theta)*Derivative(L_k^{(0)}(z), z) - psi_j^{(2)}(theta)*L_k^{(2)}(z)*Derivative(phi_i^{(2)}(r), r))*sin(theta) + (-r**2*phi_i^{(1)}(r)*psi_j^{(1)}(theta)*Derivative(L_k^{(1)}(z), z) + phi_i^{(2)}(r)*L_k^{(2)}(z)*Derivative(psi_j^{(2)}(theta), theta))*cos(theta)/r)*R.i + ((phi_i^{(0)}(r)*psi_j^{(0)}(theta)*Derivative(L_k^{(0)}(z), z) - psi_j^{(2)}(theta)*L_k^{(2)}(z)*Derivative(phi_i^{(2)}(r), r))*cos(theta) + (-r**2*phi_i^{(1)}(r)*psi_j^{(1)}(theta)*Derivative(L_k^{(1)}(z), z) + phi_i^{(2)}(r)*L_k^{(2)}(z)*Derivative(psi_j^{(2)}(theta), theta))*sin(theta)/r)*R.j + ((r**2*psi_j^{(1)}(theta)*L_k^{(1)}(z)*Derivative(phi_i^{(1)}(r), r) + 2*r*phi_i^{(1)}(r)*psi_j^{(1)}(theta)*L_k^{(1)}(z) - phi_i^{(0)}(r)*L_k^{(0)}(z)*Derivative(psi_j^{(0)}(theta), theta))/r)*R.k"
      ]
     },
     "execution_count": 27,
     "metadata": {},
     "output_type": "execute_result"
    }
   ],
   "source": [
    "R"
   ]
  },
  {
   "cell_type": "code",
   "execution_count": 28,
   "metadata": {},
   "outputs": [
    {
     "data": {
      "text/plain": [
       "\"Dot(TrialFunction(x, y, z, Symbol('V')), TestFunction(x, y, z, Symbol('V')))\""
      ]
     },
     "execution_count": 28,
     "metadata": {},
     "output_type": "execute_result"
    }
   ],
   "source": [
    "u = TrialFunction(V, name=\"u\")\n",
    "uv = Dot(u, v)\n",
    "srepr(uv)"
   ]
  },
  {
   "cell_type": "code",
   "execution_count": 29,
   "metadata": {},
   "outputs": [
    {
     "data": {
      "text/latex": [
       "$\\displaystyle r^{2} \\phi_i^{(1)}(r) \\psi_j^{(1)}(\\theta) L_k^{(1)}(z) \\phi_l^{(1)}(r) \\psi_m^{(1)}(\\theta) L_n^{(1)}(z) + \\phi_i^{(0)}(r) \\psi_j^{(0)}(\\theta) L_k^{(0)}(z) \\phi_l^{(0)}(r) \\psi_m^{(0)}(\\theta) L_n^{(0)}(z) + \\phi_i^{(2)}(r) \\psi_j^{(2)}(\\theta) L_k^{(2)}(z) \\phi_l^{(2)}(r) \\psi_m^{(2)}(\\theta) L_n^{(2)}(z)$"
      ],
      "text/plain": [
       "r**2*phi_i^{(1)}(r)*psi_j^{(1)}(theta)*L_k^{(1)}(z)*phi_l^{(1)}(r)*psi_m^{(1)}(theta)*L_n^{(1)}(z) + phi_i^{(0)}(r)*psi_j^{(0)}(theta)*L_k^{(0)}(z)*phi_l^{(0)}(r)*psi_m^{(0)}(theta)*L_n^{(0)}(z) + phi_i^{(2)}(r)*psi_j^{(2)}(theta)*L_k^{(2)}(z)*phi_l^{(2)}(r)*psi_m^{(2)}(theta)*L_n^{(2)}(z)"
      ]
     },
     "execution_count": 29,
     "metadata": {},
     "output_type": "execute_result"
    }
   ],
   "source": [
    "UV = uv.doit()\n",
    "UV"
   ]
  },
  {
   "cell_type": "code",
   "execution_count": 30,
   "metadata": {},
   "outputs": [
    {
     "data": {
      "text/plain": [
       "(phi_i^{(0)}(r)*psi_j^{(0)}(theta)*L_k^{(0)}(z)*phi_l^{(0)}(r)*psi_m^{(0)}(theta)*L_n^{(0)}(z),\n",
       " phi_i^{(2)}(r)*psi_j^{(2)}(theta)*L_k^{(2)}(z)*phi_l^{(2)}(r)*psi_m^{(2)}(theta)*L_n^{(2)}(z),\n",
       " r**2*phi_i^{(1)}(r)*psi_j^{(1)}(theta)*L_k^{(1)}(z)*phi_l^{(1)}(r)*psi_m^{(1)}(theta)*L_n^{(1)}(z))"
      ]
     },
     "execution_count": 30,
     "metadata": {},
     "output_type": "execute_result"
    }
   ],
   "source": [
    "UV.args"
   ]
  },
  {
   "cell_type": "code",
   "execution_count": 31,
   "metadata": {},
   "outputs": [],
   "source": [
    "a = sp.separatevars(UV.args[2], dict=True, symbols=C._base_scalars)"
   ]
  },
  {
   "cell_type": "code",
   "execution_count": 32,
   "metadata": {},
   "outputs": [
    {
     "data": {
      "text/plain": [
       "{r: r**2*phi_i^{(1)}(r)*phi_l^{(1)}(r),\n",
       " theta: psi_j^{(1)}(theta)*psi_m^{(1)}(theta),\n",
       " z: L_k^{(1)}(z)*L_n^{(1)}(z),\n",
       " 'coeff': 1}"
      ]
     },
     "execution_count": 32,
     "metadata": {},
     "output_type": "execute_result"
    }
   ],
   "source": [
    "a"
   ]
  },
  {
   "cell_type": "code",
   "execution_count": 33,
   "metadata": {},
   "outputs": [
    {
     "name": "stdout",
     "output_type": "stream",
     "text": [
      "0\n",
      "0\n",
      "1\n",
      "1\n",
      "2\n",
      "2\n"
     ]
    }
   ],
   "source": [
    "for r in C._base_scalars:\n",
    "    for j in a[r].args:\n",
    "        try:\n",
    "            print(j.local_index)\n",
    "        except AttributeError:\n",
    "            pass"
   ]
  },
  {
   "cell_type": "code",
   "execution_count": 34,
   "metadata": {},
   "outputs": [
    {
     "data": {
      "text/latex": [
       "$\\displaystyle \\left(\\phi_i^{(0)}(r) \\psi_j^{(0)}(\\theta) L_k^{(0)}(z)\\right)\\mathbf{b_{r}} + \\left(\\phi_i^{(1)}(r) \\psi_j^{(1)}(\\theta) L_k^{(1)}(z)\\right)\\mathbf{b_{\\theta}} + \\left(\\phi_i^{(2)}(r) \\psi_j^{(2)}(\\theta) L_k^{(2)}(z)\\right)\\mathbf{b_{z}}$"
      ],
      "text/plain": [
       "(phi_i^{(0)}(r)*psi_j^{(0)}(theta)*L_k^{(0)}(z))*C.b_r + (phi_i^{(1)}(r)*psi_j^{(1)}(theta)*L_k^{(1)}(z))*C.b_theta + (phi_i^{(2)}(r)*psi_j^{(2)}(theta)*L_k^{(2)}(z))*C.b_z"
      ]
     },
     "execution_count": 34,
     "metadata": {},
     "output_type": "execute_result"
    }
   ],
   "source": [
    "v.doit()"
   ]
  },
  {
   "cell_type": "code",
   "execution_count": 35,
   "metadata": {},
   "outputs": [
    {
     "name": "stdout",
     "output_type": "stream",
     "text": [
      "r**2 False r**2\n",
      "phi_i^{(1)}(r) True phi_i^{(1)}(r)\n",
      "phi_l^{(1)}(r) True phi_l^{(1)}(r)\n"
     ]
    }
   ],
   "source": [
    "for p in a[C._base_scalars[0]].args:\n",
    "    print(p, isinstance(p, arguments.BasisFunction), p.doit())"
   ]
  },
  {
   "cell_type": "code",
   "execution_count": 36,
   "metadata": {},
   "outputs": [],
   "source": [
    "k = a[C._base_scalars[0]].args[0]"
   ]
  },
  {
   "cell_type": "code",
   "execution_count": 37,
   "metadata": {},
   "outputs": [
    {
     "data": {
      "text/plain": [
       "{r: r, theta: theta, z: z}"
      ]
     },
     "execution_count": 37,
     "metadata": {},
     "output_type": "execute_result"
    }
   ],
   "source": [
    "C._map_base_scalar_to_symbol"
   ]
  }
 ],
 "metadata": {
  "kernelspec": {
   "display_name": "jax-intro",
   "language": "python",
   "name": "python3"
  },
  "language_info": {
   "codemirror_mode": {
    "name": "ipython",
    "version": 3
   },
   "file_extension": ".py",
   "mimetype": "text/x-python",
   "name": "python",
   "nbconvert_exporter": "python",
   "pygments_lexer": "ipython3",
   "version": "3.12.7"
  }
 },
 "nbformat": 4,
 "nbformat_minor": 2
}

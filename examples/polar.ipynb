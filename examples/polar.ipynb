{
 "cells": [
  {
   "cell_type": "markdown",
   "metadata": {},
   "source": [
    "# Polar coordinates with jaxfun"
   ]
  },
  {
   "cell_type": "code",
   "execution_count": 35,
   "metadata": {},
   "outputs": [],
   "source": [
    "from jaxfun import *\n",
    "from jaxfun.Basespace import Domain\n",
    "import numpy as np\n",
    "import sympy as sp\n",
    "\n",
    "#system = 'polar'\n",
    "system = 'cylindrical'\n",
    "r, theta, z = sp.symbols('r,theta,z', real=True)\n",
    "    \n",
    "if system == 'polar':\n",
    "    C = get_CoordSys('C', sp.Lambda((r, theta), (r*sp.cos(theta), r*sp.sin(theta))))\n",
    "    R = Composite(Legendre.Legendre, 20, bcs={'left': {'D': 0}, 'right': {'D': 0}}, domain=Domain(0.5, 1), name='R', fun_str='phi')\n",
    "    T = Composite(Legendre.Legendre, 20, bcs={'left': {'D': 0}, 'right': {'D': 0}}, domain=Domain(0, np.pi), name='T', fun_str='psi')\n",
    "    P = TensorProductSpace((R, T), coordinates=C, name='P')\n",
    "    x, y = C.x, C.y\n",
    "elif system == 'cylindrical':\n",
    "    C = get_CoordSys('C', sp.Lambda((r, theta, z), (r*sp.cos(theta), r*sp.sin(theta), z)))\n",
    "    R = Composite(Legendre.Legendre, 20, bcs={'left': {'D': 0}, 'right': {'D': 0}}, domain=Domain(0.5, 1), name='R', fun_str='phi')\n",
    "    T = Composite(Legendre.Legendre, 20, bcs={'left': {'D': 0}, 'right': {'D': 0}}, domain=Domain(0, np.pi), name='T', fun_str='psi')\n",
    "    Z = Legendre.Legendre(20, domain=Domain(0, 1), name='Z', fun_str='L')\n",
    "    P = TensorProductSpace((R, T, Z), coordinates=C, name='P')\n",
    "    x, y, z = C.x, C.y, C.z"
   ]
  },
  {
   "cell_type": "code",
   "execution_count": 36,
   "metadata": {},
   "outputs": [
    {
     "data": {
      "text/latex": [
       "$\\displaystyle \\nabla\\cdot \\nabla u(x, y, z; P)$"
      ],
      "text/plain": [
       "Div(Grad(u(x, y, z; P)))"
      ]
     },
     "execution_count": 36,
     "metadata": {},
     "output_type": "execute_result"
    }
   ],
   "source": [
    "u = TrialFunction(P, name='u')\n",
    "du = Div(Grad(u))\n",
    "du"
   ]
  },
  {
   "cell_type": "code",
   "execution_count": 37,
   "metadata": {},
   "outputs": [
    {
     "data": {
      "text/latex": [
       "$\\displaystyle \\phi(r) \\psi(\\theta) \\frac{\\partial^{2}}{\\partial z^{2}} L(z) + \\frac{r \\psi(\\theta) L(z) \\frac{\\partial^{2}}{\\partial r^{2}} \\phi(r) + \\psi(\\theta) L(z) \\frac{\\partial}{\\partial r} \\phi(r)}{r} + \\frac{\\phi(r) L(z) \\frac{\\partial^{2}}{\\partial \\theta^{2}} \\psi(\\theta)}{r^{2}}$"
      ],
      "text/plain": [
       "phi(r)*psi(theta)*Derivative(L(z), (z, 2)) + (r*psi(theta)*L(z)*Derivative(phi(r), (r, 2)) + psi(theta)*L(z)*Derivative(phi(r), r))/r + phi(r)*L(z)*Derivative(psi(theta), (theta, 2))/r**2"
      ]
     },
     "execution_count": 37,
     "metadata": {},
     "output_type": "execute_result"
    }
   ],
   "source": [
    "du.doit()"
   ]
  },
  {
   "cell_type": "code",
   "execution_count": 38,
   "metadata": {},
   "outputs": [
    {
     "data": {
      "text/plain": [
       "\"Div(Grad(TrialFunction(x, y, z, Symbol('P'))))\""
      ]
     },
     "execution_count": 38,
     "metadata": {},
     "output_type": "execute_result"
    }
   ],
   "source": [
    "from sympy import srepr\n",
    "srepr(du)"
   ]
  },
  {
   "cell_type": "code",
   "execution_count": 39,
   "metadata": {},
   "outputs": [
    {
     "data": {
      "text/latex": [
       "$\\displaystyle \\left(x + y + z\\right) \\nabla\\cdot \\nabla u(x, y, z; P)$"
      ],
      "text/plain": [
       "(x + y + z)*Div(Grad(u(x, y, z; P)))"
      ]
     },
     "execution_count": 39,
     "metadata": {},
     "output_type": "execute_result"
    }
   ],
   "source": [
    "du = (x+y+z)*Div(Grad(u))\n",
    "du"
   ]
  },
  {
   "cell_type": "code",
   "execution_count": 40,
   "metadata": {},
   "outputs": [
    {
     "data": {
      "text/plain": [
       "\"Mul(Add(x, y, z), Div(Grad(TrialFunction(x, y, z, Symbol('P')))))\""
      ]
     },
     "execution_count": 40,
     "metadata": {},
     "output_type": "execute_result"
    }
   ],
   "source": [
    "srepr(du)"
   ]
  },
  {
   "cell_type": "code",
   "execution_count": 41,
   "metadata": {},
   "outputs": [
    {
     "data": {
      "text/latex": [
       "$\\displaystyle \\left(r \\sin{\\left(\\theta \\right)} + r \\cos{\\left(\\theta \\right)} + z\\right) \\left(\\phi(r) \\psi(\\theta) \\frac{\\partial^{2}}{\\partial z^{2}} L(z) + \\frac{r \\psi(\\theta) L(z) \\frac{\\partial^{2}}{\\partial r^{2}} \\phi(r) + \\psi(\\theta) L(z) \\frac{\\partial}{\\partial r} \\phi(r)}{r} + \\frac{\\phi(r) L(z) \\frac{\\partial^{2}}{\\partial \\theta^{2}} \\psi(\\theta)}{r^{2}}\\right)$"
      ],
      "text/plain": [
       "(r*sin(theta) + r*cos(theta) + z)*(phi(r)*psi(theta)*Derivative(L(z), (z, 2)) + (r*psi(theta)*L(z)*Derivative(phi(r), (r, 2)) + psi(theta)*L(z)*Derivative(phi(r), r))/r + phi(r)*L(z)*Derivative(psi(theta), (theta, 2))/r**2)"
      ]
     },
     "execution_count": 41,
     "metadata": {},
     "output_type": "execute_result"
    }
   ],
   "source": [
    "du.doit()"
   ]
  },
  {
   "cell_type": "code",
   "execution_count": 42,
   "metadata": {},
   "outputs": [
    {
     "data": {
      "text/latex": [
       "$\\displaystyle \\left(\\psi(\\theta) L(z) \\frac{\\partial}{\\partial r} \\phi(r)\\right)\\mathbf{b_{r}} + \\left(\\frac{\\phi(r) L(z) \\frac{\\partial}{\\partial \\theta} \\psi(\\theta)}{r^{2}}\\right)\\mathbf{b_{\\theta}} + \\left(\\phi(r) \\psi(\\theta) \\frac{\\partial}{\\partial z} L(z)\\right)\\mathbf{b_{z}}$"
      ],
      "text/plain": [
       "(psi(theta)*L(z)*Derivative(phi(r), r))*C.b_r + (phi(r)*L(z)*Derivative(psi(theta), theta)/r**2)*C.b_theta + (phi(r)*psi(theta)*Derivative(L(z), z))*C.b_z"
      ]
     },
     "execution_count": 42,
     "metadata": {},
     "output_type": "execute_result"
    }
   ],
   "source": [
    "Grad(u).doit()"
   ]
  },
  {
   "cell_type": "code",
   "execution_count": 43,
   "metadata": {},
   "outputs": [
    {
     "data": {
      "text/latex": [
       "$\\displaystyle g(x, y, z)$"
      ],
      "text/plain": [
       "g(x, y, z)"
      ]
     },
     "execution_count": 43,
     "metadata": {},
     "output_type": "execute_result"
    }
   ],
   "source": [
    "g = arguments.ScalarFunction('g', C)\n",
    "g"
   ]
  },
  {
   "cell_type": "code",
   "execution_count": 45,
   "metadata": {},
   "outputs": [
    {
     "data": {
      "text/latex": [
       "$\\displaystyle G{\\left(r,\\theta,z \\right)}$"
      ],
      "text/plain": [
       "G(r, theta, z)"
      ]
     },
     "execution_count": 45,
     "metadata": {},
     "output_type": "execute_result"
    }
   ],
   "source": [
    "G = g.doit()\n",
    "G"
   ]
  },
  {
   "cell_type": "code",
   "execution_count": 46,
   "metadata": {},
   "outputs": [
    {
     "data": {
      "text/latex": [
       "$\\displaystyle \\nabla\\cdot \\nabla g(x, y, z)$"
      ],
      "text/plain": [
       "Div(Grad(g(x, y, z)))"
      ]
     },
     "execution_count": 46,
     "metadata": {},
     "output_type": "execute_result"
    }
   ],
   "source": [
    "Div(Grad(g))"
   ]
  },
  {
   "cell_type": "code",
   "execution_count": 47,
   "metadata": {},
   "outputs": [
    {
     "data": {
      "text/latex": [
       "$\\displaystyle \\frac{\\partial^{2}}{\\partial z^{2}} G{\\left(r,\\theta,z \\right)} + \\frac{r \\frac{\\partial^{2}}{\\partial r^{2}} G{\\left(r,\\theta,z \\right)} + \\frac{\\partial}{\\partial r} G{\\left(r,\\theta,z \\right)}}{r} + \\frac{\\frac{\\partial^{2}}{\\partial \\theta^{2}} G{\\left(r,\\theta,z \\right)}}{r^{2}}$"
      ],
      "text/plain": [
       "Derivative(G(r, theta, z), (z, 2)) + (r*Derivative(G(r, theta, z), (r, 2)) + Derivative(G(r, theta, z), r))/r + Derivative(G(r, theta, z), (theta, 2))/r**2"
      ]
     },
     "execution_count": 47,
     "metadata": {},
     "output_type": "execute_result"
    }
   ],
   "source": [
    "Div(Grad(g)).doit()"
   ]
  },
  {
   "cell_type": "code",
   "execution_count": 48,
   "metadata": {},
   "outputs": [
    {
     "data": {
      "text/plain": [
       "'R⊗T⊗Z'"
      ]
     },
     "execution_count": 48,
     "metadata": {},
     "output_type": "execute_result"
    }
   ],
   "source": [
    "P.tensorname"
   ]
  },
  {
   "cell_type": "code",
   "execution_count": 49,
   "metadata": {},
   "outputs": [
    {
     "data": {
      "text/plain": [
       "'P×P×P'"
      ]
     },
     "execution_count": 49,
     "metadata": {},
     "output_type": "execute_result"
    }
   ],
   "source": [
    "V = VectorTensorProductSpace(P, name='V')\n",
    "V.tensorname"
   ]
  },
  {
   "cell_type": "code",
   "execution_count": 50,
   "metadata": {},
   "outputs": [
    {
     "data": {
      "text/plain": [
       "'V'"
      ]
     },
     "execution_count": 50,
     "metadata": {},
     "output_type": "execute_result"
    }
   ],
   "source": [
    "V.name"
   ]
  },
  {
   "cell_type": "code",
   "execution_count": 51,
   "metadata": {},
   "outputs": [
    {
     "data": {
      "text/latex": [
       "$\\displaystyle \\mathbf{ {v} }(x, y, z; V)$"
      ],
      "text/plain": [
       "v(x, y, z; V)"
      ]
     },
     "execution_count": 51,
     "metadata": {},
     "output_type": "execute_result"
    }
   ],
   "source": [
    "v = TestFunction(V, name='v')\n",
    "v"
   ]
  },
  {
   "cell_type": "code",
   "execution_count": 52,
   "metadata": {},
   "outputs": [
    {
     "data": {
      "text/latex": [
       "$\\displaystyle \\left(\\phi(r) \\psi(\\theta) L(z)\\right)\\mathbf{b_{r}} + \\left(\\phi(r) \\psi(\\theta) L(z)\\right)\\mathbf{b_{\\theta}} + \\left(\\phi(r) \\psi(\\theta) L(z)\\right)\\mathbf{b_{z}}$"
      ],
      "text/plain": [
       "(phi(r)*psi(theta)*L(z))*C.b_r + (phi(r)*psi(theta)*L(z))*C.b_theta + (phi(r)*psi(theta)*L(z))*C.b_z"
      ]
     },
     "execution_count": 52,
     "metadata": {},
     "output_type": "execute_result"
    }
   ],
   "source": [
    "v.doit()"
   ]
  },
  {
   "cell_type": "code",
   "execution_count": 53,
   "metadata": {},
   "outputs": [
    {
     "data": {
      "text/latex": [
       "$\\displaystyle \\mathbf{\\hat{0}}$"
      ],
      "text/plain": [
       "0"
      ]
     },
     "execution_count": 53,
     "metadata": {},
     "output_type": "execute_result"
    }
   ],
   "source": [
    "Cross(v, v).doit()"
   ]
  },
  {
   "cell_type": "code",
   "execution_count": 54,
   "metadata": {},
   "outputs": [
    {
     "data": {
      "text/latex": [
       "$\\displaystyle - \\mathbf{b_{r}} \\times \\mathbf{ {v} }(x, y, z; V)$"
      ],
      "text/plain": [
       "-Cross(C.b_r, v(x, y, z; V))"
      ]
     },
     "execution_count": 54,
     "metadata": {},
     "output_type": "execute_result"
    }
   ],
   "source": [
    "c = Cross(v, C.b_r)\n",
    "c"
   ]
  },
  {
   "cell_type": "code",
   "execution_count": 55,
   "metadata": {},
   "outputs": [
    {
     "data": {
      "text/latex": [
       "$\\displaystyle \\left(- r \\phi(r) \\psi(\\theta) L(z)\\right)\\mathbf{b_{z}} + \\left(\\frac{\\phi(r) \\psi(\\theta) L(z)}{r}\\right)\\mathbf{b_{\\theta}}$"
      ],
      "text/plain": [
       "(-r*phi(r)*psi(theta)*L(z))*C.b_z + (phi(r)*psi(theta)*L(z)/r)*C.b_theta"
      ]
     },
     "execution_count": 55,
     "metadata": {},
     "output_type": "execute_result"
    }
   ],
   "source": [
    "c.doit()"
   ]
  },
  {
   "cell_type": "code",
   "execution_count": 56,
   "metadata": {},
   "outputs": [
    {
     "data": {
      "text/latex": [
       "$\\displaystyle \\nabla\\times \\mathbf{ {v} }(x, y, z; V)$"
      ],
      "text/plain": [
       "Curl(v(x, y, z; V))"
      ]
     },
     "execution_count": 56,
     "metadata": {},
     "output_type": "execute_result"
    }
   ],
   "source": [
    "d = Curl(v)\n",
    "d"
   ]
  },
  {
   "cell_type": "code",
   "execution_count": 57,
   "metadata": {},
   "outputs": [
    {
     "data": {
      "text/latex": [
       "$\\displaystyle \\left(\\frac{- r^{2} \\phi(r) \\psi(\\theta) \\frac{\\partial}{\\partial z} L(z) + \\phi(r) L(z) \\frac{\\partial}{\\partial \\theta} \\psi(\\theta)}{r}\\right)\\mathbf{b_{r}} + \\left(\\frac{\\phi(r) \\psi(\\theta) \\frac{\\partial}{\\partial z} L(z) - \\psi(\\theta) L(z) \\frac{\\partial}{\\partial r} \\phi(r)}{r}\\right)\\mathbf{b_{\\theta}} + \\left(\\frac{r^{2} \\psi(\\theta) L(z) \\frac{\\partial}{\\partial r} \\phi(r) + 2 r \\phi(r) \\psi(\\theta) L(z) - \\phi(r) L(z) \\frac{\\partial}{\\partial \\theta} \\psi(\\theta)}{r}\\right)\\mathbf{b_{z}}$"
      ],
      "text/plain": [
       "((-r**2*phi(r)*psi(theta)*Derivative(L(z), z) + phi(r)*L(z)*Derivative(psi(theta), theta))/r)*C.b_r + ((phi(r)*psi(theta)*Derivative(L(z), z) - psi(theta)*L(z)*Derivative(phi(r), r))/r)*C.b_theta + ((r**2*psi(theta)*L(z)*Derivative(phi(r), r) + 2*r*phi(r)*psi(theta)*L(z) - phi(r)*L(z)*Derivative(psi(theta), theta))/r)*C.b_z"
      ]
     },
     "execution_count": 57,
     "metadata": {},
     "output_type": "execute_result"
    }
   ],
   "source": [
    "d.doit()"
   ]
  },
  {
   "cell_type": "code",
   "execution_count": 58,
   "metadata": {},
   "outputs": [
    {
     "data": {
      "text/latex": [
       "$\\displaystyle \\mathbf{{h}}(x, y, z)$"
      ],
      "text/plain": [
       "h(x, y, z)"
      ]
     },
     "execution_count": 58,
     "metadata": {},
     "output_type": "execute_result"
    }
   ],
   "source": [
    "h = arguments.VectorFunction('h', C)\n",
    "h"
   ]
  },
  {
   "cell_type": "code",
   "execution_count": 59,
   "metadata": {},
   "outputs": [
    {
     "data": {
      "text/latex": [
       "$\\displaystyle \\left(H_{r}{\\left(r,\\theta,z \\right)}\\right)\\mathbf{b_{r}} + \\left(H_{\\theta}{\\left(r,\\theta,z \\right)}\\right)\\mathbf{b_{\\theta}} + \\left(H_{z}{\\left(r,\\theta,z \\right)}\\right)\\mathbf{b_{z}}$"
      ],
      "text/plain": [
       "(H_r(r, theta, z))*C.b_r + (H_\\theta(r, theta, z))*C.b_theta + (H_z(r, theta, z))*C.b_z"
      ]
     },
     "execution_count": 59,
     "metadata": {},
     "output_type": "execute_result"
    }
   ],
   "source": [
    "H = h.doit()\n",
    "H"
   ]
  },
  {
   "cell_type": "code",
   "execution_count": 60,
   "metadata": {},
   "outputs": [
    {
     "data": {
      "text/latex": [
       "$\\displaystyle \\left(\\frac{- r^{2} \\phi(r) \\psi(\\theta) \\frac{\\partial}{\\partial z} L(z) + \\phi(r) L(z) \\frac{\\partial}{\\partial \\theta} \\psi(\\theta)}{r}\\right)\\mathbf{b_{r}} + \\left(\\frac{\\phi(r) \\psi(\\theta) \\frac{\\partial}{\\partial z} L(z) - \\psi(\\theta) L(z) \\frac{\\partial}{\\partial r} \\phi(r)}{r}\\right)\\mathbf{b_{\\theta}} + \\left(\\frac{r^{2} \\psi(\\theta) L(z) \\frac{\\partial}{\\partial r} \\phi(r) + 2 r \\phi(r) \\psi(\\theta) L(z) - \\phi(r) L(z) \\frac{\\partial}{\\partial \\theta} \\psi(\\theta)}{r}\\right)\\mathbf{b_{z}}$"
      ],
      "text/plain": [
       "((-r**2*phi(r)*psi(theta)*Derivative(L(z), z) + phi(r)*L(z)*Derivative(psi(theta), theta))/r)*C.b_r + ((phi(r)*psi(theta)*Derivative(L(z), z) - psi(theta)*L(z)*Derivative(phi(r), r))/r)*C.b_theta + ((r**2*psi(theta)*L(z)*Derivative(phi(r), r) + 2*r*phi(r)*psi(theta)*L(z) - phi(r)*L(z)*Derivative(psi(theta), theta))/r)*C.b_z"
      ]
     },
     "execution_count": 60,
     "metadata": {},
     "output_type": "execute_result"
    }
   ],
   "source": [
    "D = d.doit()\n",
    "D"
   ]
  },
  {
   "cell_type": "code",
   "execution_count": 61,
   "metadata": {},
   "outputs": [],
   "source": [
    "R = C.to_cartesian_vector(D)"
   ]
  },
  {
   "cell_type": "code",
   "execution_count": 62,
   "metadata": {},
   "outputs": [
    {
     "data": {
      "text/latex": [
       "$\\displaystyle \\left(- \\left(\\phi(r) \\psi(\\theta) \\frac{\\partial}{\\partial z} L(z) - \\psi(\\theta) L(z) \\frac{\\partial}{\\partial r} \\phi(r)\\right) \\sin{\\left(\\theta \\right)} + \\frac{\\left(- r^{2} \\phi(r) \\psi(\\theta) \\frac{\\partial}{\\partial z} L(z) + \\phi(r) L(z) \\frac{\\partial}{\\partial \\theta} \\psi(\\theta)\\right) \\cos{\\left(\\theta \\right)}}{r}\\right)\\mathbf{{i}} + \\left(\\left(\\phi(r) \\psi(\\theta) \\frac{\\partial}{\\partial z} L(z) - \\psi(\\theta) L(z) \\frac{\\partial}{\\partial r} \\phi(r)\\right) \\cos{\\left(\\theta \\right)} + \\frac{\\left(- r^{2} \\phi(r) \\psi(\\theta) \\frac{\\partial}{\\partial z} L(z) + \\phi(r) L(z) \\frac{\\partial}{\\partial \\theta} \\psi(\\theta)\\right) \\sin{\\left(\\theta \\right)}}{r}\\right)\\mathbf{{j}} + \\left(\\frac{r^{2} \\psi(\\theta) L(z) \\frac{\\partial}{\\partial r} \\phi(r) + 2 r \\phi(r) \\psi(\\theta) L(z) - \\phi(r) L(z) \\frac{\\partial}{\\partial \\theta} \\psi(\\theta)}{r}\\right)\\mathbf{{k}}$"
      ],
      "text/plain": [
       "(-(phi(r)*psi(theta)*Derivative(L(z), z) - psi(theta)*L(z)*Derivative(phi(r), r))*sin(theta) + (-r**2*phi(r)*psi(theta)*Derivative(L(z), z) + phi(r)*L(z)*Derivative(psi(theta), theta))*cos(theta)/r)*N.i + ((phi(r)*psi(theta)*Derivative(L(z), z) - psi(theta)*L(z)*Derivative(phi(r), r))*cos(theta) + (-r**2*phi(r)*psi(theta)*Derivative(L(z), z) + phi(r)*L(z)*Derivative(psi(theta), theta))*sin(theta)/r)*N.j + ((r**2*psi(theta)*L(z)*Derivative(phi(r), r) + 2*r*phi(r)*psi(theta)*L(z) - phi(r)*L(z)*Derivative(psi(theta), theta))/r)*N.k"
      ]
     },
     "execution_count": 62,
     "metadata": {},
     "output_type": "execute_result"
    }
   ],
   "source": [
    "R"
   ]
  },
  {
   "cell_type": "code",
   "execution_count": null,
   "metadata": {},
   "outputs": [],
   "source": []
  }
 ],
 "metadata": {
  "kernelspec": {
   "display_name": "jax-intro",
   "language": "python",
   "name": "python3"
  },
  "language_info": {
   "codemirror_mode": {
    "name": "ipython",
    "version": 3
   },
   "file_extension": ".py",
   "mimetype": "text/x-python",
   "name": "python",
   "nbconvert_exporter": "python",
   "pygments_lexer": "ipython3",
   "version": "3.12.7"
  }
 },
 "nbformat": 4,
 "nbformat_minor": 2
}

{
 "cells": [
  {
   "cell_type": "markdown",
   "id": "2184f7f4",
   "metadata": {},
   "source": [
    "# Physics informed neural networks\n",
    "\n",
    "In this notebook we will use [Jaxfun](https://github.com/spectralDNS/jaxfun) together with\n",
    "\n",
    "* [Jax](https://docs.jax.dev/en/latest/index.html)\n",
    "* [Optax](https://optax.readthedocs.io/en/latest/)\n",
    "* [Flax](https://github.com/google/flax)\n",
    "\n",
    "in order to solve a differential equation using the least squares minimization formulation of the problem. We will use basis functions based on regular multi layer perceptrons as well as spectral expansions in orthogonal polynomials.\n",
    "\n",
    "The ubiquitous linear Helmholtz equation is defined as\n",
    "\n",
    "$$\n",
    "u^{''}(x) + \\alpha u(x) = f(x), \\quad x \\in (-1, 1), \\, \\alpha \\in \\mathbb{R^+}\n",
    "$$\n",
    "\n",
    "and in this notebook it will be used with boundary conditions $u(-1)=u(1)=0$. The function $u(x)$ represents the unknown solution and the right hand side function $f(x)$ is continuous and known. We can define a residual $\\mathcal{R}u(x)$ for the Helmholtz equation as\n",
    "\n",
    "$$\n",
    "\\mathcal{R}u(x) = u^{''}(x) + \\alpha u(x) - f(x),\n",
    "$$\n",
    "\n",
    "which should be zero for any point in the domain. In this notebook we will approximate $u(x)$ with a neural network $u_{\\theta}(x)$, where $\\theta \\in \\mathbb{R}^M$ represents the unknown weights of the network. In order to find $u_{\\theta}(x)$ we will attempt to force the residual $\\mathcal{R}u_{\\theta}(x_i)$ to zero in a least squares sense for some $N$ chosen training points $\\{x_i\\}_{i=0}^{N-1}$. To this end the least squares problem reads\n",
    "\n",
    "\\begin{equation*}\n",
    "\\underset{\\theta \\in \\mathbb{R}^M}{\\text{minimize}}\\, L(\\theta):=\\frac{1}{N}\\sum_{i=0}^{N-1} \\mathcal{R}u_{\\theta}(x_i; \\theta)^2 + \\frac{1}{2} \\left(u_{\\theta}(-1; \\theta)^2 + u_{\\theta}(1; \\theta)^2 \\right)\n",
    "\\end{equation*}\n",
    "\n",
    "We start by importing necessary functionality from both [jax](https://docs.jax.dev/en/latest/index.html), [optax](https://optax.readthedocs.io/en/latest/), [flax](https://github.com/google/flax) and Jaxfun. We also make use of Sympy in order to describe the equations."
   ]
  },
  {
   "cell_type": "code",
   "execution_count": 1,
   "id": "8ec2a4e7",
   "metadata": {},
   "outputs": [],
   "source": [
    "# ruff: noqa: E402\n",
    "import jax\n",
    "\n",
    "jax.config.update(\"jax_enable_x64\", True)\n",
    "\n",
    "import jax.numpy as jnp\n",
    "import matplotlib.pyplot as plt\n",
    "import optax\n",
    "import sympy as sp\n",
    "from flax import nnx\n",
    "\n",
    "from jaxfun.operators import Div, Grad\n",
    "from jaxfun.pinns.hessoptimizer import hess\n",
    "from jaxfun.pinns.module import (\n",
    "    LSQR,\n",
    "    FlaxFunction,\n",
    "    MLPSpace,\n",
    "    run_optimizer,\n",
    "    train,\n",
    ")\n",
    "from jaxfun.utils.common import lambdify, ulp"
   ]
  },
  {
   "cell_type": "markdown",
   "id": "89431016",
   "metadata": {},
   "source": [
    "Notice the `MLPSpace` class, which represents a functionspace for a regular multilayer perceptron. The space will make use of a subclass of the [flax](https://flax.readthedocs.io/en/latest) [nnx.Module](https://flax.readthedocs.io/en/latest/api_reference/flax.nnx/module.html#module-flax.nnx). \n",
    "\n",
    "We create this space holds information about the input, output and hidden layers in the neural network. Here we create an MLP for a one-dimensional problem (one input variable) and 16 neurons for a single hidden layer. "
   ]
  },
  {
   "cell_type": "code",
   "execution_count": 2,
   "id": "8e2ff657",
   "metadata": {},
   "outputs": [],
   "source": [
    "V = MLPSpace(16, dims=1, name=\"V\")"
   ]
  },
  {
   "cell_type": "markdown",
   "id": "a4532546",
   "metadata": {},
   "source": [
    "It is possible to use several hidden layers, for example by choosing `V = MLPSpace([8, 8, 8], dims=1)`.\n",
    "\n",
    "The MLP function space is subsequently used to create a trial function for the neural network. The function `v` below holds all the unknown weights in the MLP. We initialize the kernel weights using `nnx.initializers.xavier_uniform`"
   ]
  },
  {
   "cell_type": "code",
   "execution_count": 3,
   "id": "573c1245",
   "metadata": {},
   "outputs": [],
   "source": [
    "v = FlaxFunction(V, rngs=nnx.Rngs(1001), kernel_init=nnx.initializers.xavier_uniform(), name='v', fun_str=\"phi\")"
   ]
  },
  {
   "cell_type": "markdown",
   "id": "f2a96c3c",
   "metadata": {},
   "source": [
    "Inside `v`, the regular flax nnx module is accessible through `v.module`. \n",
    "\n",
    "We will test the solver using a known manufactured solution. We can use any solution, but it should be continuous and the solution needs to use the same symbols as Jaxfun. Below we choose a mixture of a second order polynomial (to get the correct boundary condition) an exponential and a cosine function. This function is continuous, but it requires quite a few unknowns in order to get a decent solution."
   ]
  },
  {
   "cell_type": "code",
   "execution_count": 4,
   "id": "f090c9fb",
   "metadata": {},
   "outputs": [],
   "source": [
    "x = V.system.x\n",
    "ue = (1-x**2) * sp.exp(sp.cos(2 * sp.pi * x))"
   ]
  },
  {
   "cell_type": "markdown",
   "id": "4679c1e7",
   "metadata": {},
   "source": [
    "The equation to solve is now described in strong form using the residual $\\mathcal{R}u_{\\theta}$. Note that we create the right hand side function $f(x)$ from the manufactured solution."
   ]
  },
  {
   "cell_type": "code",
   "execution_count": 5,
   "id": "33f18408",
   "metadata": {},
   "outputs": [],
   "source": [
    "alpha = 1\n",
    "f = (Div(Grad(ue)) + alpha*ue)\n",
    "residual = Div(Grad(v)) + alpha*v - f"
   ]
  },
  {
   "cell_type": "markdown",
   "id": "515de2c1",
   "metadata": {},
   "source": [
    "The two operators [Div](https://github.com/spectralDNS/jaxfun/blob/main/jaxfun/operators.py) and [Grad](https://github.com/spectralDNS/jaxfun/blob/main/jaxfun/operators.py) are defined in Jaxfun. For a 1D problem on the straight line there is no difference from writing the residual simply as \n",
    "\n",
    "residual = sp.diff(v, x, 2) + alpha * v - (sp.diff(ue, x, 2) + alpha*ue)\n",
    "\n",
    "We can look at the residual in code:"
   ]
  },
  {
   "cell_type": "code",
   "execution_count": 6,
   "id": "15724160",
   "metadata": {},
   "outputs": [
    {
     "data": {
      "text/latex": [
       "$\\displaystyle v(x; V) - \\left(\\left(1 - x^{2}\\right) e^{\\cos{\\left(2 x \\pi \\right)}} + \\nabla\\cdot \\displaystyle \\nabla \\left(1 - x^{2}\\right) e^{\\cos{\\left(2 x \\pi \\right)}}\\right) + \\nabla\\cdot \\displaystyle \\nabla v(x; V)$"
      ],
      "text/plain": [
       "v(x; V) - ((1 - x**2)*exp(cos(2*x*pi)) + Div(Grad((1 - x**2)*exp(cos(2*x*pi))))) + Div(Grad(v(x; V)))"
      ]
     },
     "execution_count": 6,
     "metadata": {},
     "output_type": "execute_result"
    }
   ],
   "source": [
    "residual"
   ]
  },
  {
   "cell_type": "markdown",
   "id": "f48c356a",
   "metadata": {},
   "source": [
    "Note that $\\nabla \\cdot$ represents divergence and $\\nabla v$ represents the gradient of the scalar field $v$. The neural network function $v$ is written as $v(x; V)$ since $v$ is a function of $x$ and it is a basis function on the space $V$. The residual above is in unevaluated form. We can evaluate it using the Sympy function `doit`:"
   ]
  },
  {
   "cell_type": "code",
   "execution_count": 7,
   "id": "14683537",
   "metadata": {},
   "outputs": [
    {
     "data": {
      "text/latex": [
       "$\\displaystyle - 8 x \\pi e^{\\cos{\\left(2 x \\pi \\right)}} \\sin{\\left(2 x \\pi \\right)} - 4 \\pi^{2} \\left(1 - x^{2}\\right) e^{\\cos{\\left(2 x \\pi \\right)}} \\sin^{2}{\\left(2 x \\pi \\right)} + 4 \\pi^{2} \\left(1 - x^{2}\\right) e^{\\cos{\\left(2 x \\pi \\right)}} \\cos{\\left(2 x \\pi \\right)} - \\left(1 - x^{2}\\right) e^{\\cos{\\left(2 x \\pi \\right)}} + \\phi{\\left(x \\right)} + 2 e^{\\cos{\\left(2 x \\pi \\right)}} + \\frac{d^{2}}{d x^{2}} \\phi{\\left(x \\right)}$"
      ],
      "text/plain": [
       "-8*x*pi*exp(cos(2*x*pi))*sin(2*x*pi) - 4*pi**2*(1 - x**2)*exp(cos(2*x*pi))*sin(2*x*pi)**2 + 4*pi**2*(1 - x**2)*exp(cos(2*x*pi))*cos(2*x*pi) - (1 - x**2)*exp(cos(2*x*pi)) + phi(x) + 2*exp(cos(2*x*pi)) + Derivative(phi(x), (x, 2))"
      ]
     },
     "execution_count": 7,
     "metadata": {},
     "output_type": "execute_result"
    }
   ],
   "source": [
    "residual.doit()"
   ]
  },
  {
   "cell_type": "markdown",
   "id": "ca6918e9",
   "metadata": {},
   "source": [
    "Note that Sympy here evaluates derivatives to the best of its abilities, and the neural network function $v$ has been replaced by the expression $\\phi(x)$. This is because `phi` is set as `fun_str` for the created `FlaxFunction` `v`.\n",
    "\n",
    "We need training points inside the domain in order to solve the least squares problem. Create random points `xj` using the helper class `Line` and an array `xb` that holds the coordinates of the two boundaries"
   ]
  },
  {
   "cell_type": "code",
   "execution_count": 8,
   "id": "33009c0e",
   "metadata": {},
   "outputs": [],
   "source": [
    "from jaxfun.pinns.mesh import Line\n",
    "\n",
    "mesh = Line(1200, -1, 1, key=jax.random.PRNGKey(2002))\n",
    "xj = mesh.get_points_inside_domain(\"random\")\n",
    "xb = mesh.get_points_on_domain()"
   ]
  },
  {
   "cell_type": "code",
   "execution_count": 9,
   "id": "17ffe72e",
   "metadata": {},
   "outputs": [
    {
     "data": {
      "text/plain": [
       "Array([[-1.],\n",
       "       [ 1.]], dtype=float64)"
      ]
     },
     "execution_count": 9,
     "metadata": {},
     "output_type": "execute_result"
    }
   ],
   "source": [
    "xb"
   ]
  },
  {
   "cell_type": "markdown",
   "id": "ba44f6dd",
   "metadata": {},
   "source": [
    "We have two coupled problems to solve: The equation defined by `residual` and the boundary conditions. In order to solve these problems we now make use of the `LSQR` class and a feed the two problems to it. We also need to feed the correct collocation points to each problem:"
   ]
  },
  {
   "cell_type": "code",
   "execution_count": 10,
   "id": "0504d0a6",
   "metadata": {},
   "outputs": [
    {
     "data": {
      "text/plain": [
       "[<jaxfun.pinns.module.Residual at 0x337de08f0>,\n",
       " <jaxfun.pinns.module.Residual at 0x31e4c2240>]"
      ]
     },
     "execution_count": 10,
     "metadata": {},
     "output_type": "execute_result"
    }
   ],
   "source": [
    "loss_fn = LSQR(((residual, xj), (v, xb)))\n",
    "loss_fn.residuals"
   ]
  },
  {
   "cell_type": "code",
   "execution_count": 11,
   "id": "b8797f3b",
   "metadata": {},
   "outputs": [
    {
     "data": {
      "text/plain": [
       "[functools.partial(<function lookup_array at 0x31e47f7e0>, mod=13245250064, i=0, k=2, variables=(x, x)),\n",
       " functools.partial(<function lookup_array at 0x31e47f7e0>, mod=13245250064, i=0, k=0, variables=())]"
      ]
     },
     "execution_count": 11,
     "metadata": {},
     "output_type": "execute_result"
    }
   ],
   "source": [
    "loss_fn.residuals[0].eqs"
   ]
  },
  {
   "cell_type": "markdown",
   "id": "9b7233f1",
   "metadata": {},
   "source": [
    "Each `Residual` is a class holding the required functions in order to compute the residuals. The first one computes $\\mathcal{R}u_{\\theta}(x)$ and the other the boundary terms $u_{\\theta}(-1)+u_{\\theta}(1)$. Calling `eqs(v.module)` returns \n",
    "\n",
    "$$\n",
    "\\frac{1}{N}\\sum_{i=0}^{N-1} \\mathcal{R}u_{\\theta}(x_i; \\theta)^2 + \\frac{1}{2} \\left(u_{\\theta}(-1; \\theta)^2 + u_{\\theta}(1; \\theta)^2 \\right)\n",
    "$$\n",
    "\n",
    "In order to solve the least squares problem we now create a training module"
   ]
  },
  {
   "cell_type": "code",
   "execution_count": 12,
   "id": "e64b3975",
   "metadata": {},
   "outputs": [],
   "source": [
    "train_step = train(loss_fn)"
   ]
  },
  {
   "cell_type": "markdown",
   "id": "f56ce21c",
   "metadata": {},
   "source": [
    "which can be used with an `optax` optimizer. Any optimizers may be used, but we will start with the Adam optimizer, and then switch to a more accurate optimizer after a while. We first run 5000 epochs with Adam"
   ]
  },
  {
   "cell_type": "code",
   "execution_count": 13,
   "id": "8585c8f2",
   "metadata": {},
   "outputs": [
    {
     "name": "stdout",
     "output_type": "stream",
     "text": [
      "Epoch 1000 Adam, loss: 26.174497736386318\n",
      "Epoch 2000 Adam, loss: 2.5014392682909543\n",
      "Epoch 3000 Adam, loss: 0.4225963347441228\n",
      "Epoch 4000 Adam, loss: 0.16501861175713092\n",
      "Epoch 5000 Adam, loss: 0.0711232025559567\n"
     ]
    }
   ],
   "source": [
    "opt = optax.adam(learning_rate=optax.linear_schedule(1e-3, 1e-3, 1000))\n",
    "opt_adam = nnx.Optimizer(v.module, opt)\n",
    "run_optimizer(train_step, v.module, opt_adam, 5000, \"Adam\", 1000)"
   ]
  },
  {
   "cell_type": "markdown",
   "id": "d0040905",
   "metadata": {},
   "source": [
    "The Adam optimizer is good at eliminating local minima and as such it is good at finding a solution that is close to the global minimum. However, Adam is only first order and not able to find a very accurate solution. For this we need either a quasi-Newton or a Newton optimizer. We start with the limited-memory BFGS optimizer and take 10000 more epochs."
   ]
  },
  {
   "cell_type": "code",
   "execution_count": 14,
   "id": "1f72a77d",
   "metadata": {},
   "outputs": [
    {
     "name": "stdout",
     "output_type": "stream",
     "text": [
      "Epoch 1000 LBFGS, loss: 0.0027219876522152123\n",
      "Epoch 2000 LBFGS, loss: 0.0013116247187895712\n",
      "Epoch 3000 LBFGS, loss: 0.0009100334286166418\n",
      "Epoch 4000 LBFGS, loss: 0.0006770824703325726\n",
      "Epoch 5000 LBFGS, loss: 0.0004423599120658187\n",
      "Epoch 6000 LBFGS, loss: 0.00024693241215824563\n",
      "Epoch 7000 LBFGS, loss: 0.00016950474704369175\n",
      "Epoch 8000 LBFGS, loss: 0.00012462444430730624\n",
      "Epoch 9000 LBFGS, loss: 9.16189646132672e-05\n",
      "Epoch 10000 LBFGS, loss: 7.441731237577756e-05\n"
     ]
    }
   ],
   "source": [
    "optlbfgs = optax.lbfgs(\n",
    "    memory_size=20,\n",
    "    linesearch=optax.scale_by_zoom_linesearch(25, max_learning_rate=1.0),\n",
    ")\n",
    "opt_lbfgs = nnx.Optimizer(v.module, optlbfgs)\n",
    "run_optimizer(train_step, v.module, opt_lbfgs, 10000, \"LBFGS\", 1000)"
   ]
  },
  {
   "cell_type": "markdown",
   "id": "27adc0e2",
   "metadata": {},
   "source": [
    "It is possible to run even more BFGS epoch to further polish this root. However, we will in the end switch to an even more accurate Newton optimizer. Since the Newton optimizer is costly, we run only 10 epochs. The Newton optimizer should only be used when the residual is already close to zero."
   ]
  },
  {
   "cell_type": "code",
   "execution_count": 15,
   "id": "0a1d487f",
   "metadata": {},
   "outputs": [
    {
     "name": "stdout",
     "output_type": "stream",
     "text": [
      "Epoch 1 Hess, loss: 7.441270707869795e-05\n",
      "Epoch 2 Hess, loss: 7.245593261700764e-05\n",
      "Epoch 3 Hess, loss: 7.201253477375398e-05\n",
      "Epoch 4 Hess, loss: 7.081799191152985e-05\n",
      "Epoch 5 Hess, loss: 6.842931659337019e-05\n",
      "Epoch 6 Hess, loss: 6.655830416375119e-05\n",
      "Epoch 7 Hess, loss: 6.587677258002612e-05\n",
      "Epoch 8 Hess, loss: 6.458653246744138e-05\n",
      "Epoch 9 Hess, loss: 6.452052166034606e-05\n",
      "Epoch 10 Hess, loss: 6.442312926447605e-05\n"
     ]
    }
   ],
   "source": [
    "opthess = hess(\n",
    "    use_lstsq=False,\n",
    "    cg_max_iter=500,\n",
    "    linesearch=optax.scale_by_zoom_linesearch(25, max_learning_rate=1.0),\n",
    ")\n",
    "opt_hess = nnx.Optimizer(v.module, opthess)\n",
    "run_optimizer(train_step, v.module, opt_hess, 10, \"Hess\", 1)"
   ]
  },
  {
   "cell_type": "markdown",
   "id": "8860de5e",
   "metadata": {},
   "source": [
    "Running even more epochs the solution will become even more accurate.\n",
    "\n",
    "We can now compute the $L^2$ error norm by comparing to the exact solution"
   ]
  },
  {
   "cell_type": "code",
   "execution_count": 16,
   "id": "76133512",
   "metadata": {},
   "outputs": [
    {
     "name": "stdout",
     "output_type": "stream",
     "text": [
      "Error 0.0004148846541893289\n"
     ]
    }
   ],
   "source": [
    "uej = lambdify(x, ue)(xj) # Exact\n",
    "print(\n",
    "    \"Error\", jnp.linalg.norm(v.module(xj) - uej) / jnp.sqrt(len(xj)),\n",
    ")"
   ]
  },
  {
   "cell_type": "code",
   "execution_count": 17,
   "id": "7120e625",
   "metadata": {},
   "outputs": [
    {
     "data": {
      "text/plain": [
       "[<matplotlib.lines.Line2D at 0x351b887d0>,\n",
       " <matplotlib.lines.Line2D at 0x351aee2a0>]"
      ]
     },
     "execution_count": 17,
     "metadata": {},
     "output_type": "execute_result"
    },
    {
     "data": {
      "image/png": "[encoded data removed]",
      "text/plain": [
       "<Figure size 640x480 with 1 Axes>"
      ]
     },
     "metadata": {},
     "output_type": "display_data"
    }
   ],
   "source": [
    "plt.plot(xj, v.module(xj), 'b*', xj, uej, 'ro')"
   ]
  },
  {
   "cell_type": "code",
   "execution_count": 18,
   "id": "33be1f2f",
   "metadata": {},
   "outputs": [
    {
     "data": {
      "image/png": "[encoded data removed]",
      "text/plain": [
       "<Figure size 640x480 with 1 Axes>"
      ]
     },
     "metadata": {},
     "output_type": "display_data"
    }
   ],
   "source": [
    "plt.plot(xj, v.module(xj)-uej, 'b*')\n",
    "plt.title('Error');"
   ]
  },
  {
   "cell_type": "markdown",
   "id": "7bbf7e87",
   "metadata": {},
   "source": [
    "The residuals of each problem may also be computed using the `loss_fn` class. The residuals for the two boundary conditions are"
   ]
  },
  {
   "cell_type": "code",
   "execution_count": 19,
   "id": "44c1057f",
   "metadata": {},
   "outputs": [
    {
     "data": {
      "text/plain": [
       "Array([ 3.47972068e-05, -3.36860291e-04], dtype=float64)"
      ]
     },
     "execution_count": 19,
     "metadata": {},
     "output_type": "execute_result"
    }
   ],
   "source": [
    "loss_fn.compute_residual_i(v.module, 1)"
   ]
  },
  {
   "cell_type": "markdown",
   "id": "128d127c",
   "metadata": {},
   "source": [
    "# Spectral least squares solver\n",
    "\n",
    "The neural network is capturing the solution quite well, but the convergence is quite slow. We know that a problem like the Helmholtz equation with a continuous solution should be very well captured using Legendre or Chebyshev basis functions, that have much better approximation properties than the neural network. Using Jaxfun we can solve this problem with the Galerkin method, but we can also use the least squares formulation similar to as above. The main difference is that we use weak formulations and integrate over the domain. \n",
    "\n",
    "The solver below is using simply\n",
    "\n",
    "$$\n",
    "u_{\\theta}(x) = \\sum_{i=0}^{N-1} \\hat{u}_i L_i(x)\n",
    "$$\n",
    "\n",
    "where $L_i(x)$ is the i'th Legendre polynomial and $\\hat{u}_i$ are the unknowns.\n",
    "\n",
    "The least squares implementation goes as follows:"
   ]
  },
  {
   "cell_type": "code",
   "execution_count": 20,
   "id": "e0b43b1a",
   "metadata": {},
   "outputs": [
    {
     "name": "stdout",
     "output_type": "stream",
     "text": [
      "Epoch 1000 Adam, loss: 576740.4863380066\n",
      "Epoch 2000 Adam, loss: 265785.5006359001\n",
      "Epoch 3000 Adam, loss: 110680.73724943725\n",
      "Epoch 4000 Adam, loss: 48468.88553495513\n",
      "Epoch 5000 Adam, loss: 30080.466865446826\n",
      "Epoch 100 LBFGS, loss: 9510.835923097238\n",
      "Epoch 200 LBFGS, loss: 5234.587499304198\n",
      "Epoch 300 LBFGS, loss: 3499.3266381800295\n",
      "Epoch 400 LBFGS, loss: 1916.1807315641431\n",
      "Epoch 500 LBFGS, loss: 1459.0867548746417\n",
      "Epoch 600 LBFGS, loss: 1210.7455222012804\n",
      "Epoch 700 LBFGS, loss: 1040.9874228860099\n",
      "Epoch 800 LBFGS, loss: 920.1061563476788\n",
      "Epoch 900 LBFGS, loss: 844.843113796689\n",
      "Epoch 1000 LBFGS, loss: 801.5742023370657\n",
      "Epoch 1 Hess, loss: 801.1694945528457\n",
      "Epoch 2 Hess, loss: 0.013968992355379798\n",
      "Epoch 3 Hess, loss: 1.0877809640510536e-10\n",
      "Epoch 4 Hess, loss: 1.0877690334877185e-10\n"
     ]
    }
   ],
   "source": [
    "from jaxfun.Legendre import Legendre\n",
    "\n",
    "VN = Legendre(60)\n",
    "v = FlaxFunction(VN, rngs=nnx.Rngs(1001), kernel_init=nnx.initializers.xavier_uniform(), name='v')\n",
    "# We can set up the least squares problem as below\n",
    "#res = Div(Grad(v)) + alpha*v - (Div(Grad(ue)) + alpha*ue)\n",
    "#eqs = LSQR((res, xj), (v, xb))\n",
    "#train_step = train(eqs)\n",
    "# But we can also just use the definition from above, since the choice of\n",
    "# model is made in the optimizer.\n",
    "\n",
    "opt_adam = nnx.Optimizer(v.module, opt)\n",
    "run_optimizer(train_step, v.module, opt_adam, 5000, \"Adam\", 1000)\n",
    "opt_lbfgs = nnx.Optimizer(v.module, optlbfgs)\n",
    "run_optimizer(train_step, v.module, opt_lbfgs, 1000, \"LBFGS\", 100)\n",
    "opt_hess = nnx.Optimizer(v.module, opthess)\n",
    "run_optimizer(train_step, v.module, opt_hess, 10, \"Hess\", 1, abs_limit_loss=ulp(1))"
   ]
  },
  {
   "cell_type": "markdown",
   "id": "cfc886a7",
   "metadata": {},
   "source": [
    "Note that with only 4 Newton iterations the error plunges to zero. Comparing now with the exact solution we get a very accurate $L^2$ error"
   ]
  },
  {
   "cell_type": "code",
   "execution_count": 21,
   "id": "5b4c2d21",
   "metadata": {},
   "outputs": [
    {
     "name": "stdout",
     "output_type": "stream",
     "text": [
      "Error 8.457823618628548e-08\n"
     ]
    }
   ],
   "source": [
    "print(\n",
    "    \"Error\", jnp.linalg.norm(v.module(xj) - uej) / jnp.sqrt(len(xj)),\n",
    ")"
   ]
  },
  {
   "cell_type": "code",
   "execution_count": 22,
   "id": "ffcfe77c",
   "metadata": {},
   "outputs": [
    {
     "data": {
      "image/png": "[encoded data removed]",
      "text/plain": [
       "<Figure size 640x480 with 1 Axes>"
      ]
     },
     "metadata": {},
     "output_type": "display_data"
    }
   ],
   "source": [
    "plt.plot(xj, v.module(xj)-uej, 'b*')\n",
    "plt.title('Error');"
   ]
  },
  {
   "cell_type": "markdown",
   "id": "d4057c75",
   "metadata": {},
   "source": [
    "# Implicit spectral least squares"
   ]
  },
  {
   "cell_type": "code",
   "execution_count": 23,
   "id": "62ef9b2d",
   "metadata": {},
   "outputs": [
    {
     "name": "stdout",
     "output_type": "stream",
     "text": [
      "2.5681380688154e-09\n"
     ]
    }
   ],
   "source": [
    "from jaxfun import FunctionSpace, TestFunction, TrialFunction, inner\n",
    "\n",
    "D = FunctionSpace(\n",
    "    60, Legendre, bcs={\"left\": {\"D\": 0}, \"right\": {\"D\": 0}}, name=\"D\", fun_str=\"psi\"\n",
    ")\n",
    "v = TestFunction(D, name=\"v\")\n",
    "u = TrialFunction(D, name=\"u\")\n",
    "\n",
    "A, L = inner(\n",
    "    #v * (Div(Grad(u)) + alpha * u) - v * (Div(Grad(ue)) + alpha * ue), # Galerkin\n",
    "    (Div(Grad(v)) + alpha * v) * (Div(Grad(u)) + alpha * u)\n",
    "    - (Div(Grad(v)) + alpha * v) * (Div(Grad(ue)) + alpha * ue), # LSQ\n",
    "    sparse=True,\n",
    "    sparse_tol=1000,\n",
    "    return_all_items=False,\n",
    ")\n",
    "\n",
    "uh = jnp.linalg.solve(A.todense(), L)\n",
    "uj = D.evaluate(xj, uh)\n",
    "uej = lambdify(x, ue)(xj)\n",
    "error = jnp.linalg.norm(uj - uej) / jnp.sqrt(len(xj))\n",
    "print(error)"
   ]
  },
  {
   "cell_type": "code",
   "execution_count": 24,
   "id": "60683451",
   "metadata": {},
   "outputs": [
    {
     "data": {
      "image/png": "[encoded data removed]",
      "text/plain": [
       "<Figure size 640x480 with 1 Axes>"
      ]
     },
     "metadata": {},
     "output_type": "display_data"
    }
   ],
   "source": [
    "plt.plot(xj, uj-uej, 'b*')\n",
    "plt.title('Error');"
   ]
  },
  {
   "cell_type": "markdown",
   "id": "a689fc80",
   "metadata": {},
   "source": [
    "The solution with implicit Galerkin or least squares is about as accurate as the regular least squares."
   ]
  },
  {
   "cell_type": "code",
   "execution_count": null,
   "id": "6966e6cd",
   "metadata": {},
   "outputs": [],
   "source": []
  }
 ],
 "metadata": {
  "kernelspec": {
   "display_name": "jax-intro",
   "language": "python",
   "name": "python3"
  },
  "language_info": {
   "codemirror_mode": {
    "name": "ipython",
    "version": 3
   },
   "file_extension": ".py",
   "mimetype": "text/x-python",
   "name": "python",
   "nbconvert_exporter": "python",
   "pygments_lexer": "ipython3",
   "version": "3.12.7"
  }
 },
 "nbformat": 4,
 "nbformat_minor": 5
}

{
 "cells": [
  {
   "cell_type": "markdown",
   "id": "2184f7f4",
   "metadata": {},
   "source": [
    "# Physics informed neural networks\n",
    "\n",
    "In this notebook we will use [Jaxfun](https://github.com/spectralDNS/jaxfun) together with\n",
    "\n",
    "* [Jax](https://docs.jax.dev/en/latest/index.html)\n",
    "* [Optax](https://optax.readthedocs.io/en/latest/)\n",
    "* [Flax](https://github.com/google/flax)\n",
    "\n",
    "in order to solve a differential equation using the least squares minimization formulation of the problem. We will use basis functions based on regular multi layer perceptrons as well as spectral expansions in orthogonal polynomials.\n",
    "\n",
    "The ubiquitous linear Helmholtz equation is defined as\n",
    "\n",
    "$$\n",
    "u^{''}(x) + \\alpha u(x) = f(x), \\quad x \\in (-1, 1), \\, \\alpha \\in \\mathbb{R^+}\n",
    "$$\n",
    "\n",
    "and in this notebook it will be used with boundary conditions $u(-1)=u(1)=0$. The function $u(x)$ represents the unknown solution and the right hand side function $f(x)$ is continuous and known. We can define a residual $\\mathcal{R}u(x)$ for the Helmholtz equation as\n",
    "\n",
    "$$\n",
    "\\mathcal{R}u(x) = u^{''}(x) + \\alpha u(x) - f(x),\n",
    "$$\n",
    "\n",
    "which should be zero for any point in the domain. In this notebook we will approximate $u(x)$ with a neural network $u_{\\theta}(x)$, where $\\theta \\in \\mathbb{R}^M$ represents the unknown weights of the network. In order to find $u_{\\theta}(x)$ we will attempt to force the residual $\\mathcal{R}u_{\\theta}(x_i)$ to zero in a least squares sense for some $N$ chosen training points $\\{x_i\\}_{i=0}^{N-1}$. To this end the least squares problem reads\n",
    "\n",
    "\\begin{equation*}\n",
    "\\underset{\\theta \\in \\mathbb{R}^M}{\\text{minimize}}\\, L(\\theta):=\\frac{1}{N}\\sum_{i=0}^{N-1} \\mathcal{R}u_{\\theta}(x_i; \\theta)^2 + \\frac{1}{2} \\left(u_{\\theta}(-1; \\theta)^2 + u_{\\theta}(1; \\theta)^2 \\right)\n",
    "\\end{equation*}\n",
    "\n",
    "We start by importing necessary functionality from both [jax](https://docs.jax.dev/en/latest/index.html), [optax](https://optax.readthedocs.io/en/latest/), [flax](https://github.com/google/flax) and Jaxfun. We also make use of Sympy in order to describe the equations."
   ]
  },
  {
   "cell_type": "code",
   "execution_count": 1,
   "id": "8ec2a4e7",
   "metadata": {},
   "outputs": [],
   "source": [
    "# ruff: noqa: E402\n",
    "import jax\n",
    "\n",
    "jax.config.update(\"jax_enable_x64\", True)\n",
    "\n",
    "import jax.numpy as jnp\n",
    "import matplotlib.pyplot as plt\n",
    "import sympy as sp\n",
    "from flax import nnx\n",
    "\n",
    "from jaxfun.operators import Div, Grad\n",
    "from jaxfun.pinns import LSQR, FlaxFunction, MLPSpace\n",
    "from jaxfun.pinns.optimizer import (\n",
    "    GaussNewton,\n",
    "    adam,\n",
    "    lbfgs,\n",
    "    run_optimizer,\n",
    ")\n",
    "from jaxfun.utils.common import lambdify, ulp"
   ]
  },
  {
   "cell_type": "markdown",
   "id": "89431016",
   "metadata": {},
   "source": [
    "Notice the `MLPSpace` class, which represents a functionspace for a regular multilayer perceptron. The space will make use of a subclass of the [flax](https://flax.readthedocs.io/en/latest) [nnx.Module](https://flax.readthedocs.io/en/latest/api_reference/flax.nnx/module.html#module-flax.nnx). \n",
    "\n",
    "We create this space holds information about the input, output and hidden layers in the neural network. Here we create an MLP for a one-dimensional problem (one input variable) and 16 neurons for a single hidden layer. "
   ]
  },
  {
   "cell_type": "code",
   "execution_count": 2,
   "id": "8e2ff657",
   "metadata": {},
   "outputs": [],
   "source": [
    "V = MLPSpace([16], dims=1, name=\"V\")"
   ]
  },
  {
   "cell_type": "markdown",
   "id": "a4532546",
   "metadata": {},
   "source": [
    "It is possible to use several hidden layers, for example by choosing `V = MLPSpace([8, 8, 8], dims=1)`.\n",
    "\n",
    "The MLP function space is subsequently used to create a trial function for the neural network. The function `v` below holds all the unknown weights in the MLP."
   ]
  },
  {
   "cell_type": "code",
   "execution_count": 3,
   "id": "573c1245",
   "metadata": {},
   "outputs": [],
   "source": [
    "v = FlaxFunction(\n",
    "    V,\n",
    "    rngs=nnx.Rngs(1001),\n",
    "    name=\"v\",\n",
    "    fun_str=\"phi\",\n",
    "    kernel_init=nnx.initializers.xavier_uniform(),\n",
    ")"
   ]
  },
  {
   "cell_type": "markdown",
   "id": "f2a96c3c",
   "metadata": {},
   "source": [
    "Inside `v`, the regular flax nnx module is accessible through `v.module`. \n",
    "\n",
    "We will test the solver using a known manufactured solution. We can use any solution, but it should be continuous and the solution needs to use the same symbols as Jaxfun. Below we choose a mixture of a second order polynomial (to get the correct boundary condition) an exponential and a cosine function. This function is continuous, but it requires quite a few unknowns in order to get a decent solution."
   ]
  },
  {
   "cell_type": "code",
   "execution_count": 4,
   "id": "f090c9fb",
   "metadata": {},
   "outputs": [],
   "source": [
    "x = V.system.x\n",
    "ue = (1 - x**2) * sp.exp(sp.cos(2 * sp.pi * x))"
   ]
  },
  {
   "cell_type": "markdown",
   "id": "4679c1e7",
   "metadata": {},
   "source": [
    "The equation to solve is now described in strong form using the residual $\\mathcal{R}u_{\\theta}$. Note that we create the right hand side function $f(x)$ from the manufactured solution."
   ]
  },
  {
   "cell_type": "code",
   "execution_count": 5,
   "id": "33f18408",
   "metadata": {},
   "outputs": [],
   "source": [
    "alpha = 1\n",
    "f = Div(Grad(ue)) + alpha * ue\n",
    "residual = Div(Grad(v)) + alpha * v - f"
   ]
  },
  {
   "cell_type": "markdown",
   "id": "515de2c1",
   "metadata": {},
   "source": [
    "The two operators [Div](https://github.com/spectralDNS/jaxfun/blob/main/jaxfun/operators.py) and [Grad](https://github.com/spectralDNS/jaxfun/blob/main/jaxfun/operators.py) are defined in Jaxfun. For a 1D problem on the straight line there is no difference from writing the residual simply as \n",
    "\n",
    "residual = sp.diff(v, x, 2) + alpha * v - (sp.diff(ue, x, 2) + alpha*ue)\n",
    "\n",
    "We can look at the residual in code:"
   ]
  },
  {
   "cell_type": "code",
   "execution_count": 6,
   "id": "15724160",
   "metadata": {},
   "outputs": [
    {
     "data": {
      "text/latex": [
       "$\\displaystyle v(x; V) - \\left(\\left(1 - x^{2}\\right) e^{\\cos{\\left(2 x \\pi \\right)}} + \\nabla\\cdot \\displaystyle \\nabla \\left(1 - x^{2}\\right) e^{\\cos{\\left(2 x \\pi \\right)}}\\right) + \\nabla\\cdot \\displaystyle \\nabla v(x; V)$"
      ],
      "text/plain": [
       "v(x; V) - ((1 - x**2)*exp(cos(2*x*pi)) + Div(Grad((1 - x**2)*exp(cos(2*x*pi))))) + Div(Grad(v(x; V)))"
      ]
     },
     "execution_count": 6,
     "metadata": {},
     "output_type": "execute_result"
    }
   ],
   "source": [
    "residual"
   ]
  },
  {
   "cell_type": "markdown",
   "id": "f48c356a",
   "metadata": {},
   "source": [
    "Note that $\\nabla \\cdot$ represents divergence and $\\nabla v$ represents the gradient of the scalar field $v$. The neural network function $v$ is written as $v(x; V)$ since $v$ is a function of $x$ and it is a basis function on the space $V$. The residual above is in unevaluated form. We can evaluate it using the Sympy function `doit`:"
   ]
  },
  {
   "cell_type": "code",
   "execution_count": 7,
   "id": "14683537",
   "metadata": {},
   "outputs": [
    {
     "data": {
      "text/latex": [
       "$\\displaystyle - 8 x \\pi e^{\\cos{\\left(2 x \\pi \\right)}} \\sin{\\left(2 x \\pi \\right)} - 4 \\pi^{2} \\left(1 - x^{2}\\right) e^{\\cos{\\left(2 x \\pi \\right)}} \\sin^{2}{\\left(2 x \\pi \\right)} + 4 \\pi^{2} \\left(1 - x^{2}\\right) e^{\\cos{\\left(2 x \\pi \\right)}} \\cos{\\left(2 x \\pi \\right)} - \\left(1 - x^{2}\\right) e^{\\cos{\\left(2 x \\pi \\right)}} + \\phi{\\left(x \\right)} + 2 e^{\\cos{\\left(2 x \\pi \\right)}} + \\frac{d^{2}}{d x^{2}} \\phi{\\left(x \\right)}$"
      ],
      "text/plain": [
       "-8*x*pi*exp(cos(2*x*pi))*sin(2*x*pi) - 4*pi**2*(1 - x**2)*exp(cos(2*x*pi))*sin(2*x*pi)**2 + 4*pi**2*(1 - x**2)*exp(cos(2*x*pi))*cos(2*x*pi) - (1 - x**2)*exp(cos(2*x*pi)) + phi(x) + 2*exp(cos(2*x*pi)) + Derivative(phi(x), (x, 2))"
      ]
     },
     "execution_count": 7,
     "metadata": {},
     "output_type": "execute_result"
    }
   ],
   "source": [
    "residual.doit()"
   ]
  },
  {
   "cell_type": "markdown",
   "id": "ca6918e9",
   "metadata": {},
   "source": [
    "Note that Sympy here evaluates derivatives to the best of its abilities, and the neural network function $v$ has been replaced by the expression $\\phi(x)$. This is because `phi` is set as `fun_str` for the created `FlaxFunction` `v`.\n",
    "\n",
    "We need training points inside the domain in order to solve the least squares problem. Create random points `xj` using the helper class `Line` and an array `xb` that holds the coordinates of the two boundaries"
   ]
  },
  {
   "cell_type": "code",
   "execution_count": 8,
   "id": "33009c0e",
   "metadata": {},
   "outputs": [],
   "source": [
    "from jaxfun.pinns.mesh import Line\n",
    "\n",
    "mesh = Line(1200, -1, 1, key=jax.random.PRNGKey(2002))\n",
    "xj = mesh.get_points_inside_domain(\"random\")\n",
    "xb = mesh.get_points_on_domain()"
   ]
  },
  {
   "cell_type": "code",
   "execution_count": 9,
   "id": "17ffe72e",
   "metadata": {},
   "outputs": [
    {
     "data": {
      "text/plain": [
       "Array([[-1.],\n",
       "       [ 1.]], dtype=float64)"
      ]
     },
     "execution_count": 9,
     "metadata": {},
     "output_type": "execute_result"
    }
   ],
   "source": [
    "xb"
   ]
  },
  {
   "cell_type": "markdown",
   "id": "ba44f6dd",
   "metadata": {},
   "source": [
    "We have two coupled problems to solve: The equation defined by `residual` and the boundary conditions. In order to solve these problems we now make use of the `LSQR` class and a feed the two problems to it. We also need to feed the correct collocation points to each problem:"
   ]
  },
  {
   "cell_type": "code",
   "execution_count": 10,
   "id": "0504d0a6",
   "metadata": {},
   "outputs": [
    {
     "data": {
      "text/plain": [
       "[<jaxfun.pinns.loss.Residual at 0x13eea9ee0>,\n",
       " <jaxfun.pinns.loss.Residual at 0x13e922000>]"
      ]
     },
     "execution_count": 10,
     "metadata": {},
     "output_type": "execute_result"
    }
   ],
   "source": [
    "loss_fn = LSQR((residual, xj), (v, xb))\n",
    "loss_fn.residuals"
   ]
  },
  {
   "cell_type": "code",
   "execution_count": 11,
   "id": "b8797f3b",
   "metadata": {},
   "outputs": [
    {
     "data": {
      "text/plain": [
       "[functools.partial(<function lookup_array at 0x139594f40>, mod=5048470896, i=0, k=2, variables=(x, x)),\n",
       " functools.partial(<function lookup_array at 0x139594f40>, mod=5048470896, i=0, k=0, variables=())]"
      ]
     },
     "execution_count": 11,
     "metadata": {},
     "output_type": "execute_result"
    }
   ],
   "source": [
    "loss_fn.residuals[0].eqs"
   ]
  },
  {
   "cell_type": "markdown",
   "id": "9b7233f1",
   "metadata": {},
   "source": [
    "Each `Residual` is a class holding the required functions in order to compute the residuals. The first one computes $\\mathcal{R}u_{\\theta}(x)$ and the other the boundary terms $u_{\\theta}(-1)+u_{\\theta}(1)$. Calling `eqs(v.module)` returns \n",
    "\n",
    "$$\n",
    "\\frac{1}{N}\\sum_{i=0}^{N-1} \\mathcal{R}u_{\\theta}(x_i; \\theta)^2 + \\frac{1}{2} \\left(u_{\\theta}(-1; \\theta)^2 + u_{\\theta}(1; \\theta)^2 \\right)\n",
    "$$\n",
    "\n",
    "In order to solve the least squares problem we need an optimizer. Any `optax` optimizer may be used, but we will start with Adam, and then switch to a more accurate optimizer after a while. We first run 5000 epochs with Adam"
   ]
  },
  {
   "cell_type": "code",
   "execution_count": 12,
   "id": "8585c8f2",
   "metadata": {},
   "outputs": [
    {
     "name": "stdout",
     "output_type": "stream",
     "text": [
      "Running optimizer Adam(lr=0.001)\n",
      "Epoch 1000 Adam, loss: 29.908874979309328\n",
      "Epoch 2000 Adam, loss: 13.82346395328622\n",
      "Epoch 3000 Adam, loss: 0.3785539215314607\n",
      "Epoch 4000 Adam, loss: 0.05509919543017069\n",
      "Epoch 5000 Adam, loss: 0.02032546758955868\n"
     ]
    }
   ],
   "source": [
    "opt_adam = adam(v.module, learning_rate=1e-3)\n",
    "run_optimizer(loss_fn, opt_adam, 5000, 1000)"
   ]
  },
  {
   "cell_type": "markdown",
   "id": "d0040905",
   "metadata": {},
   "source": [
    "The Adam optimizer is good at eliminating local minima and as such it is good at finding a solution that is close to the global minimum. However, Adam is only first order and not able to find a very accurate solution. For this we need either a quasi-Newton or a Newton optimizer. We start with the limited-memory BFGS optimizer and take 10000 more epochs."
   ]
  },
  {
   "cell_type": "code",
   "execution_count": 13,
   "id": "1f72a77d",
   "metadata": {},
   "outputs": [
    {
     "name": "stdout",
     "output_type": "stream",
     "text": [
      "Running optimizer LBFGS(memory_size=20)\n",
      "Epoch 1000 LBFGS, loss: 0.0008285011571939643\n",
      "Epoch 2000 LBFGS, loss: 0.0001680899016629238\n",
      "Epoch 3000 LBFGS, loss: 0.00014304493242483805\n",
      "Epoch 4000 LBFGS, loss: 0.00011976747045894037\n",
      "Epoch 5000 LBFGS, loss: 0.00011300062624312933\n",
      "Epoch 6000 LBFGS, loss: 0.00011015224822292869\n",
      "Epoch 7000 LBFGS, loss: 9.877992330625908e-05\n",
      "Epoch 8000 LBFGS, loss: 8.844024326499375e-05\n",
      "Epoch 9000 LBFGS, loss: 8.203730278925244e-05\n",
      "Epoch 10000 LBFGS, loss: 7.905359596348457e-05\n"
     ]
    }
   ],
   "source": [
    "opt_lbfgs = lbfgs(\n",
    "    v.module,\n",
    "    memory_size=20,\n",
    ")\n",
    "run_optimizer(loss_fn, opt_lbfgs, 10000, 1000)"
   ]
  },
  {
   "cell_type": "markdown",
   "id": "27adc0e2",
   "metadata": {},
   "source": [
    "It is possible to run even more BFGS epoch to further polish this root. However, we will in the end switch to an even more accurate Newton optimizer. Since the Newton optimizer is costly, we run only 10 epochs. The Newton optimizer should only be used when the residual is already close to zero."
   ]
  },
  {
   "cell_type": "code",
   "execution_count": 14,
   "id": "0a1d487f",
   "metadata": {},
   "outputs": [
    {
     "name": "stdout",
     "output_type": "stream",
     "text": [
      "Running optimizer Hessian(lstsq=False)\n",
      "Epoch 1 Hessian, loss: 7.905255421502142e-05\n",
      "Epoch 2 Hessian, loss: 7.776135683506077e-05\n",
      "Epoch 3 Hessian, loss: 7.754611788128102e-05\n",
      "Epoch 4 Hessian, loss: 7.753832170945454e-05\n",
      "Epoch 5 Hessian, loss: 7.740423354013505e-05\n",
      "Epoch 6 Hessian, loss: 7.554950462490307e-05\n",
      "Epoch 7 Hessian, loss: 7.28189666904031e-05\n",
      "Epoch 8 Hessian, loss: 7.148329860350415e-05\n",
      "Epoch 9 Hessian, loss: 7.045792335988412e-05\n",
      "Epoch 10 Hessian, loss: 7.004693137346571e-05\n"
     ]
    }
   ],
   "source": [
    "opt_hess = GaussNewton(\n",
    "    v.module,\n",
    "    use_lstsq=False,\n",
    "    cg_max_iter=500,\n",
    ")\n",
    "run_optimizer(loss_fn, opt_hess, 10, 1)"
   ]
  },
  {
   "cell_type": "markdown",
   "id": "8860de5e",
   "metadata": {},
   "source": [
    "Running even more epochs the solution will become even more accurate.\n",
    "\n",
    "We can now compute the $L^2$ error norm by comparing to the exact solution"
   ]
  },
  {
   "cell_type": "code",
   "execution_count": 15,
   "id": "76133512",
   "metadata": {},
   "outputs": [
    {
     "name": "stdout",
     "output_type": "stream",
     "text": [
      "Error 8.6587449603684e-05\n"
     ]
    }
   ],
   "source": [
    "uej = lambdify(x, ue)(xj)  # Exact\n",
    "print(\n",
    "    \"Error\",\n",
    "    jnp.linalg.norm(v.module(xj) - uej) / jnp.sqrt(len(xj)),\n",
    ")"
   ]
  },
  {
   "cell_type": "code",
   "execution_count": 16,
   "id": "7120e625",
   "metadata": {},
   "outputs": [
    {
     "data": {
      "image/png": "[encoded data removed]",
      "text/plain": [
       "<Figure size 640x480 with 1 Axes>"
      ]
     },
     "metadata": {},
     "output_type": "display_data"
    }
   ],
   "source": [
    "plt.plot(xj, v.module(xj), \"b*\", xj, uej, \"ro\");"
   ]
  },
  {
   "cell_type": "code",
   "execution_count": 17,
   "id": "33be1f2f",
   "metadata": {},
   "outputs": [
    {
     "data": {
      "image/png": "[encoded data removed]",
      "text/plain": [
       "<Figure size 640x480 with 1 Axes>"
      ]
     },
     "metadata": {},
     "output_type": "display_data"
    }
   ],
   "source": [
    "plt.plot(xj, v.module(xj) - uej, \"b*\")\n",
    "plt.title(\"Error\");"
   ]
  },
  {
   "cell_type": "markdown",
   "id": "7bbf7e87",
   "metadata": {},
   "source": [
    "The residuals of each problem may also be computed using the `loss_fn` class. The residuals for the two boundary conditions are"
   ]
  },
  {
   "cell_type": "code",
   "execution_count": 18,
   "id": "44c1057f",
   "metadata": {},
   "outputs": [
    {
     "data": {
      "text/plain": [
       "Array([ 3.71898117e-05, -1.07429766e-04], dtype=float64)"
      ]
     },
     "execution_count": 18,
     "metadata": {},
     "output_type": "execute_result"
    }
   ],
   "source": [
    "loss_fn.compute_residual_i(v.module, 1)"
   ]
  },
  {
   "cell_type": "markdown",
   "id": "128d127c",
   "metadata": {},
   "source": [
    "# Spectral least squares solver\n",
    "\n",
    "The neural network is capturing the solution quite well, but the convergence is quite slow. We know that a problem like the Helmholtz equation with a continuous solution should be very well captured using Legendre or Chebyshev basis functions, that have much better approximation properties than the neural network. Using Jaxfun we can solve this problem with the Galerkin method, but we can also use the least squares formulation similar to as above. \n",
    "\n",
    "The solver below is using simply\n",
    "\n",
    "$$\n",
    "u_{\\theta}(x) = \\sum_{i=0}^{N-1} \\hat{u}_i L_i(x)\n",
    "$$\n",
    "\n",
    "where $L_i(x)$ is the i'th Legendre polynomial and $\\hat{u}_i$ are the unknowns.\n",
    "\n",
    "The least squares implementation goes as follows:"
   ]
  },
  {
   "cell_type": "code",
   "execution_count": 19,
   "id": "e0b43b1a",
   "metadata": {},
   "outputs": [
    {
     "name": "stdout",
     "output_type": "stream",
     "text": [
      "Running optimizer Adam(lr=0.001)\n",
      "Epoch 1000 Adam, loss: 576740.5014985151\n",
      "Epoch 2000 Adam, loss: 265785.5156660833\n",
      "Epoch 3000 Adam, loss: 110680.74599632107\n",
      "Epoch 4000 Adam, loss: 48468.88887081157\n",
      "Epoch 5000 Adam, loss: 30080.467881421955\n",
      "Running optimizer LBFGS(memory_size=20)\n",
      "Epoch 100 LBFGS, loss: 14181.756109983453\n",
      "Epoch 200 LBFGS, loss: 5336.240779132058\n",
      "Epoch 300 LBFGS, loss: 3330.778051340232\n",
      "Epoch 400 LBFGS, loss: 1593.8440468706908\n",
      "Epoch 500 LBFGS, loss: 1300.1180210434916\n",
      "Epoch 600 LBFGS, loss: 1105.9536228162376\n",
      "Epoch 700 LBFGS, loss: 966.4432407859379\n",
      "Epoch 800 LBFGS, loss: 861.3632210509289\n",
      "Epoch 900 LBFGS, loss: 799.1796916668727\n",
      "Epoch 1000 LBFGS, loss: 762.826457488444\n",
      "Running optimizer Hessian(lstsq=False)\n",
      "Epoch 1 Hessian, loss: 762.325752268069\n",
      "Epoch 2 Hessian, loss: 1.0877720908726101e-10\n",
      "Epoch 3 Hessian, loss: 1.0877690338378586e-10\n"
     ]
    }
   ],
   "source": [
    "from jaxfun.galerkin.Legendre import Legendre\n",
    "\n",
    "VN = Legendre(60)\n",
    "v = FlaxFunction(\n",
    "    VN, rngs=nnx.Rngs(1001), kernel_init=nnx.initializers.xavier_uniform(), name=\"v\"\n",
    ")\n",
    "# We can set up the least squares problem as below\n",
    "# res = Div(Grad(v)) + alpha*v - (Div(Grad(ue)) + alpha*ue)\n",
    "# eqs = LSQR((res, xj), (v, xb))\n",
    "# train_step = train(eqs)\n",
    "# But we can also just use the definition from above, since the choice of\n",
    "# model is made in the optimizer.\n",
    "\n",
    "opt_adam = adam(v.module)\n",
    "run_optimizer(loss_fn, opt_adam, 5000, 1000)\n",
    "opt_lbfgs = lbfgs(v.module)\n",
    "run_optimizer(loss_fn, opt_lbfgs, 1000, 100)\n",
    "opt_hess = GaussNewton(v.module, use_lstsq=False, cg_max_iter=500)\n",
    "run_optimizer(loss_fn, opt_hess, 10, 1, abs_limit_loss=ulp(1))"
   ]
  },
  {
   "cell_type": "markdown",
   "id": "cfc886a7",
   "metadata": {},
   "source": [
    "Note that with only 4 Newton iterations the error plunges to zero. Comparing now with the exact solution we get a very accurate $L^2$ error"
   ]
  },
  {
   "cell_type": "code",
   "execution_count": 20,
   "id": "5b4c2d21",
   "metadata": {},
   "outputs": [
    {
     "name": "stdout",
     "output_type": "stream",
     "text": [
      "Error 8.457823907242077e-08\n"
     ]
    }
   ],
   "source": [
    "print(\n",
    "    \"Error\",\n",
    "    jnp.linalg.norm(v.module(xj) - uej) / jnp.sqrt(len(xj)),\n",
    ")"
   ]
  },
  {
   "cell_type": "code",
   "execution_count": 21,
   "id": "ffcfe77c",
   "metadata": {},
   "outputs": [
    {
     "data": {
      "image/png": "[encoded data removed]",
      "text/plain": [
       "<Figure size 640x480 with 1 Axes>"
      ]
     },
     "metadata": {},
     "output_type": "display_data"
    }
   ],
   "source": [
    "plt.plot(xj, v.module(xj) - uej, \"b*\")\n",
    "plt.title(\"Error\");"
   ]
  },
  {
   "cell_type": "markdown",
   "id": "d4057c75",
   "metadata": {},
   "source": [
    "# Implicit spectral least squares"
   ]
  },
  {
   "cell_type": "code",
   "execution_count": 22,
   "id": "62ef9b2d",
   "metadata": {},
   "outputs": [
    {
     "name": "stdout",
     "output_type": "stream",
     "text": [
      "2.56813631446418e-09\n"
     ]
    }
   ],
   "source": [
    "from jaxfun.galerkin import FunctionSpace, TestFunction, TrialFunction, inner\n",
    "\n",
    "D = FunctionSpace(\n",
    "    60, Legendre, bcs={\"left\": {\"D\": 0}, \"right\": {\"D\": 0}}, name=\"D\", fun_str=\"psi\"\n",
    ")\n",
    "v = TestFunction(D, name=\"v\")\n",
    "u = TrialFunction(D, name=\"u\")\n",
    "\n",
    "A, L = inner(\n",
    "    # v * (Div(Grad(u)) + alpha * u) - v * (Div(Grad(ue)) + alpha * ue), # Galerkin\n",
    "    (Div(Grad(v)) + alpha * v) * (Div(Grad(u)) + alpha * u)\n",
    "    - (Div(Grad(v)) + alpha * v) * (Div(Grad(ue)) + alpha * ue),  # LSQ\n",
    "    sparse=True,\n",
    "    sparse_tol=1000,\n",
    "    return_all_items=False,\n",
    ")\n",
    "\n",
    "uh = jnp.linalg.solve(A.todense(), L)\n",
    "uj = D.evaluate(xj, uh)\n",
    "uej = lambdify(x, ue)(xj)\n",
    "error = jnp.linalg.norm(uj - uej) / jnp.sqrt(len(xj))\n",
    "print(error)"
   ]
  },
  {
   "cell_type": "code",
   "execution_count": 23,
   "id": "60683451",
   "metadata": {},
   "outputs": [
    {
     "data": {
      "image/png": "[encoded data removed]",
      "text/plain": [
       "<Figure size 640x480 with 1 Axes>"
      ]
     },
     "metadata": {},
     "output_type": "display_data"
    }
   ],
   "source": [
    "plt.plot(xj, uj - uej, \"b*\")\n",
    "plt.title(\"Error\");"
   ]
  },
  {
   "cell_type": "markdown",
   "id": "a689fc80",
   "metadata": {},
   "source": [
    "The solution with implicit Galerkin or least squares is about as accurate as the regular least squares."
   ]
  },
  {
   "cell_type": "code",
   "execution_count": null,
   "id": "6966e6cd",
   "metadata": {},
   "outputs": [],
   "source": []
  }
 ],
 "metadata": {
  "kernelspec": {
   "display_name": "jaxfun (3.12.7)",
   "language": "python",
   "name": "python3"
  },
  "language_info": {
   "codemirror_mode": {
    "name": "ipython",
    "version": 3
   },
   "file_extension": ".py",
   "mimetype": "text/x-python",
   "name": "python",
   "nbconvert_exporter": "python",
   "pygments_lexer": "ipython3",
   "version": "3.12.7"
  }
 },
 "nbformat": 4,
 "nbformat_minor": 5
}

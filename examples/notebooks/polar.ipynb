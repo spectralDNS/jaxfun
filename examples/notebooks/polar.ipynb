{
 "cells": [
  {
   "cell_type": "markdown",
   "metadata": {},
   "source": [
    "# Polar coordinates with jaxfun\n",
    "\n",
    "Just some tests to illustrate curvilinear coordinates."
   ]
  },
  {
   "cell_type": "code",
   "execution_count": 1,
   "metadata": {},
   "outputs": [],
   "source": [
    "# ruff: noqa: F405\n",
    "import numpy as np\n",
    "import sympy as sp\n",
    "\n",
    "from jaxfun import *\n",
    "from jaxfun.basespace import Domain\n",
    "\n",
    "#system = 'polar'\n",
    "system = \"cylindrical\"\n",
    "r, theta, z = sp.symbols(\"r,theta,z\", real=True, positive=True)\n",
    "\n",
    "if system == \"polar\":\n",
    "    C = get_CoordSys(\"C\", sp.Lambda((r, theta), (r * sp.cos(theta), r * sp.sin(theta))))\n",
    "    R = FunctionSpace(\n",
    "        20,\n",
    "        Legendre.Legendre,\n",
    "        bcs={\"left\": {\"D\": 0}, \"right\": {\"D\": 0}},\n",
    "        domain=Domain(0.5, 1),\n",
    "        name=\"R\",\n",
    "        fun_str=\"phi\",\n",
    "    )\n",
    "    T = FunctionSpace(\n",
    "        20,\n",
    "        Legendre.Legendre,\n",
    "        bcs={\"left\": {\"D\": 0}, \"right\": {\"D\": 0}},\n",
    "        domain=Domain(0, np.pi),\n",
    "        name=\"T\",\n",
    "        fun_str=\"psi\",\n",
    "    )\n",
    "    P = TensorProductSpace((R, T), system=C, name=\"P\")\n",
    "\n",
    "elif system == \"cylindrical\":\n",
    "    C = get_CoordSys(\n",
    "        \"C\", sp.Lambda((r, theta, z), (r * sp.cos(theta), r * sp.sin(theta), z))\n",
    "    )\n",
    "    R = FunctionSpace(\n",
    "        20,\n",
    "        Legendre.Legendre,\n",
    "        bcs={\"left\": {\"D\": 0}, \"right\": {\"D\": 0}},\n",
    "        domain=Domain(0.5, 1),\n",
    "        name=\"R\",\n",
    "        fun_str=\"phi\",\n",
    "    )\n",
    "    T = FunctionSpace(\n",
    "        20,\n",
    "        Legendre.Legendre,\n",
    "        bcs={\"left\": {\"D\": 0}, \"right\": {\"D\": 0}},\n",
    "        domain=Domain(0, np.pi),\n",
    "        name=\"T\",\n",
    "        fun_str=\"psi\",\n",
    "    )\n",
    "    Z = FunctionSpace(20, Legendre.Legendre, domain=Domain(0, 1), name=\"Z\", fun_str=\"L\")\n",
    "    P = TensorProductSpace((R, T, Z), system=C, name=\"P\")"
   ]
  },
  {
   "cell_type": "code",
   "execution_count": 2,
   "metadata": {},
   "outputs": [
    {
     "data": {
      "text/latex": [
       "$\\displaystyle \\nabla\\cdot \\displaystyle \\nabla u(x, y, z; P)$"
      ],
      "text/plain": [
       "Div(Grad(u(x, y, z; P)))"
      ]
     },
     "execution_count": 2,
     "metadata": {},
     "output_type": "execute_result"
    }
   ],
   "source": [
    "u = TrialFunction(P, name=\"u\")\n",
    "du = Div(Grad(u))\n",
    "du"
   ]
  },
  {
   "cell_type": "code",
   "execution_count": 3,
   "metadata": {},
   "outputs": [
    {
     "data": {
      "text/latex": [
       "$\\displaystyle \\phi_l(r) \\psi_m(\\theta) \\frac{d^{2}}{d z^{2}} L_n(z) + \\frac{r L_n(z) \\psi_m(\\theta) \\frac{d^{2}}{d r^{2}} \\phi_l(r) + L_n(z) \\psi_m(\\theta) \\frac{d}{d r} \\phi_l(r)}{r} + \\frac{L_n(z) \\phi_l(r) \\frac{d^{2}}{d \\theta^{2}} \\psi_m(\\theta)}{r^{2}}$"
      ],
      "text/plain": [
       "phi_l(r)*psi_m(theta)*Derivative(L_n(z), (z, 2)) + (r*L_n(z)*psi_m(theta)*Derivative(phi_l(r), (r, 2)) + L_n(z)*psi_m(theta)*Derivative(phi_l(r), r))/r + L_n(z)*phi_l(r)*Derivative(psi_m(theta), (theta, 2))/r**2"
      ]
     },
     "execution_count": 3,
     "metadata": {},
     "output_type": "execute_result"
    }
   ],
   "source": [
    "du.doit()"
   ]
  },
  {
   "cell_type": "code",
   "execution_count": 4,
   "metadata": {},
   "outputs": [
    {
     "data": {
      "text/plain": [
       "\"Div(Grad(TrialFunction(x, y, z, Symbol('P'))))\""
      ]
     },
     "execution_count": 4,
     "metadata": {},
     "output_type": "execute_result"
    }
   ],
   "source": [
    "from sympy import srepr\n",
    "\n",
    "srepr(du)"
   ]
  },
  {
   "cell_type": "code",
   "execution_count": 5,
   "metadata": {},
   "outputs": [
    {
     "data": {
      "text/latex": [
       "$\\displaystyle \\left(x + y + z\\right) \\nabla\\cdot \\displaystyle \\nabla u(x, y, z; P)$"
      ],
      "text/plain": [
       "(x + y + z)*Div(Grad(u(x, y, z; P)))"
      ]
     },
     "execution_count": 5,
     "metadata": {},
     "output_type": "execute_result"
    }
   ],
   "source": [
    "du = sp.Add.fromiter(C._parent.base_scalars()) * Div(Grad(u))\n",
    "du"
   ]
  },
  {
   "cell_type": "code",
   "execution_count": 6,
   "metadata": {},
   "outputs": [
    {
     "data": {
      "text/plain": [
       "\"Mul(Add(x, y, z), Div(Grad(TrialFunction(x, y, z, Symbol('P')))))\""
      ]
     },
     "execution_count": 6,
     "metadata": {},
     "output_type": "execute_result"
    }
   ],
   "source": [
    "srepr(du)"
   ]
  },
  {
   "cell_type": "code",
   "execution_count": 7,
   "metadata": {},
   "outputs": [
    {
     "data": {
      "text/latex": [
       "$\\displaystyle \\left(r \\sin{\\left(\\theta \\right)} + r \\cos{\\left(\\theta \\right)} + z\\right) \\left(\\phi_l(r) \\psi_m(\\theta) \\frac{d^{2}}{d z^{2}} L_n(z) + \\frac{r L_n(z) \\psi_m(\\theta) \\frac{d^{2}}{d r^{2}} \\phi_l(r) + L_n(z) \\psi_m(\\theta) \\frac{d}{d r} \\phi_l(r)}{r} + \\frac{L_n(z) \\phi_l(r) \\frac{d^{2}}{d \\theta^{2}} \\psi_m(\\theta)}{r^{2}}\\right)$"
      ],
      "text/plain": [
       "(r*sin(theta) + r*cos(theta) + z)*(phi_l(r)*psi_m(theta)*Derivative(L_n(z), (z, 2)) + (r*L_n(z)*psi_m(theta)*Derivative(phi_l(r), (r, 2)) + L_n(z)*psi_m(theta)*Derivative(phi_l(r), r))/r + L_n(z)*phi_l(r)*Derivative(psi_m(theta), (theta, 2))/r**2)"
      ]
     },
     "execution_count": 7,
     "metadata": {},
     "output_type": "execute_result"
    }
   ],
   "source": [
    "du.doit()"
   ]
  },
  {
   "cell_type": "code",
   "execution_count": 8,
   "metadata": {},
   "outputs": [
    {
     "data": {
      "text/latex": [
       "$\\displaystyle \\left(L_n(z) \\psi_m(\\theta) \\frac{d}{d r} \\phi_l(r)\\right)\\mathbf{b_{r}} + \\left(\\frac{L_n(z) \\phi_l(r) \\frac{d}{d \\theta} \\psi_m(\\theta)}{r^{2}}\\right)\\mathbf{b_{\\theta}} + \\left(\\phi_l(r) \\psi_m(\\theta) \\frac{d}{d z} L_n(z)\\right)\\mathbf{b_{z}}$"
      ],
      "text/plain": [
       "(L_n(z)*psi_m(theta)*Derivative(phi_l(r), r))*C.b_r + (L_n(z)*phi_l(r)*Derivative(psi_m(theta), theta)/r**2)*C.b_theta + (phi_l(r)*psi_m(theta)*Derivative(L_n(z), z))*C.b_z"
      ]
     },
     "execution_count": 8,
     "metadata": {},
     "output_type": "execute_result"
    }
   ],
   "source": [
    "Grad(u).doit()"
   ]
  },
  {
   "cell_type": "code",
   "execution_count": 9,
   "metadata": {},
   "outputs": [
    {
     "data": {
      "text/latex": [
       "$\\displaystyle g(x, y, z)$"
      ],
      "text/plain": [
       "g(x, y, z)"
      ]
     },
     "execution_count": 9,
     "metadata": {},
     "output_type": "execute_result"
    }
   ],
   "source": [
    "g = arguments.ScalarFunction(\"g\", C)\n",
    "g"
   ]
  },
  {
   "cell_type": "code",
   "execution_count": 10,
   "metadata": {},
   "outputs": [
    {
     "data": {
      "text/latex": [
       "$\\displaystyle G{\\left(r,\\theta,z \\right)}$"
      ],
      "text/plain": [
       "G(r, theta, z)"
      ]
     },
     "execution_count": 10,
     "metadata": {},
     "output_type": "execute_result"
    }
   ],
   "source": [
    "G = g.doit()\n",
    "G"
   ]
  },
  {
   "cell_type": "code",
   "execution_count": 11,
   "metadata": {},
   "outputs": [
    {
     "data": {
      "text/latex": [
       "$\\displaystyle \\nabla\\cdot \\displaystyle \\nabla g(x, y, z)$"
      ],
      "text/plain": [
       "Div(Grad(g(x, y, z)))"
      ]
     },
     "execution_count": 11,
     "metadata": {},
     "output_type": "execute_result"
    }
   ],
   "source": [
    "Div(Grad(g))"
   ]
  },
  {
   "cell_type": "code",
   "execution_count": 12,
   "metadata": {},
   "outputs": [
    {
     "data": {
      "text/latex": [
       "$\\displaystyle \\frac{\\partial^{2}}{\\partial z^{2}} G{\\left(r,\\theta,z \\right)} + \\frac{r \\frac{\\partial^{2}}{\\partial r^{2}} G{\\left(r,\\theta,z \\right)} + \\frac{\\partial}{\\partial r} G{\\left(r,\\theta,z \\right)}}{r} + \\frac{\\frac{\\partial^{2}}{\\partial \\theta^{2}} G{\\left(r,\\theta,z \\right)}}{r^{2}}$"
      ],
      "text/plain": [
       "Derivative(G(r, theta, z), (z, 2)) + (r*Derivative(G(r, theta, z), (r, 2)) + Derivative(G(r, theta, z), r))/r + Derivative(G(r, theta, z), (theta, 2))/r**2"
      ]
     },
     "execution_count": 12,
     "metadata": {},
     "output_type": "execute_result"
    }
   ],
   "source": [
    "Div(Grad(g)).doit()"
   ]
  },
  {
   "cell_type": "code",
   "execution_count": 13,
   "metadata": {},
   "outputs": [
    {
     "data": {
      "text/plain": [
       "'R⊗T⊗Z'"
      ]
     },
     "execution_count": 13,
     "metadata": {},
     "output_type": "execute_result"
    }
   ],
   "source": [
    "P.tensorname"
   ]
  },
  {
   "cell_type": "code",
   "execution_count": 14,
   "metadata": {},
   "outputs": [
    {
     "data": {
      "text/plain": [
       "'P×P×P'"
      ]
     },
     "execution_count": 14,
     "metadata": {},
     "output_type": "execute_result"
    }
   ],
   "source": [
    "V = VectorTensorProductSpace(P, name=\"V\")\n",
    "V.tensorname"
   ]
  },
  {
   "cell_type": "code",
   "execution_count": 15,
   "metadata": {},
   "outputs": [
    {
     "data": {
      "text/plain": [
       "'V'"
      ]
     },
     "execution_count": 15,
     "metadata": {},
     "output_type": "execute_result"
    }
   ],
   "source": [
    "V.name"
   ]
  },
  {
   "cell_type": "code",
   "execution_count": 16,
   "metadata": {},
   "outputs": [
    {
     "data": {
      "text/latex": [
       "$\\displaystyle \\mathbf{ {v} }(x, y, z; V)$"
      ],
      "text/plain": [
       "v(x, y, z; V)"
      ]
     },
     "execution_count": 16,
     "metadata": {},
     "output_type": "execute_result"
    }
   ],
   "source": [
    "v = TestFunction(V, name=\"v\")\n",
    "v"
   ]
  },
  {
   "cell_type": "code",
   "execution_count": 17,
   "metadata": {},
   "outputs": [
    {
     "data": {
      "text/latex": [
       "$\\displaystyle \\left(L_k^{(0)}(z) \\phi_i^{(0)}(r) \\psi_j^{(0)}(\\theta)\\right)\\mathbf{b_{r}} + \\left(L_k^{(1)}(z) \\phi_i^{(1)}(r) \\psi_j^{(1)}(\\theta)\\right)\\mathbf{b_{\\theta}} + \\left(L_k^{(2)}(z) \\phi_i^{(2)}(r) \\psi_j^{(2)}(\\theta)\\right)\\mathbf{b_{z}}$"
      ],
      "text/plain": [
       "(L_k^{(0)}(z)*phi_i^{(0)}(r)*psi_j^{(0)}(theta))*C.b_r + (L_k^{(1)}(z)*phi_i^{(1)}(r)*psi_j^{(1)}(theta))*C.b_theta + (L_k^{(2)}(z)*phi_i^{(2)}(r)*psi_j^{(2)}(theta))*C.b_z"
      ]
     },
     "execution_count": 17,
     "metadata": {},
     "output_type": "execute_result"
    }
   ],
   "source": [
    "v.doit()"
   ]
  },
  {
   "cell_type": "code",
   "execution_count": 18,
   "metadata": {},
   "outputs": [
    {
     "data": {
      "text/latex": [
       "$\\displaystyle r^{2} \\left(L_k^{(1)}(z)\\right)^{2} \\left(\\phi_i^{(1)}(r)\\right)^{2} \\left(\\psi_j^{(1)}(\\theta)\\right)^{2} + \\left(L_k^{(0)}(z)\\right)^{2} \\left(\\phi_i^{(0)}(r)\\right)^{2} \\left(\\psi_j^{(0)}(\\theta)\\right)^{2} + \\left(L_k^{(2)}(z)\\right)^{2} \\left(\\phi_i^{(2)}(r)\\right)^{2} \\left(\\psi_j^{(2)}(\\theta)\\right)^{2}$"
      ],
      "text/plain": [
       "r**2*L_k^{(1)}(z)**2*phi_i^{(1)}(r)**2*psi_j^{(1)}(theta)**2 + L_k^{(0)}(z)**2*phi_i^{(0)}(r)**2*psi_j^{(0)}(theta)**2 + L_k^{(2)}(z)**2*phi_i^{(2)}(r)**2*psi_j^{(2)}(theta)**2"
      ]
     },
     "execution_count": 18,
     "metadata": {},
     "output_type": "execute_result"
    }
   ],
   "source": [
    "Dot(v, v).doit()"
   ]
  },
  {
   "cell_type": "code",
   "execution_count": 19,
   "metadata": {},
   "outputs": [
    {
     "data": {
      "text/latex": [
       "$\\displaystyle \\left(- r L_k^{(2)}(z) L_k^{(1)}(z) \\phi_i^{(2)}(r) \\phi_i^{(1)}(r) \\psi_j^{(2)}(\\theta) \\psi_j^{(1)}(\\theta) + r L_k^{(1)}(z) L_k^{(2)}(z) \\phi_i^{(1)}(r) \\phi_i^{(2)}(r) \\psi_j^{(1)}(\\theta) \\psi_j^{(2)}(\\theta)\\right)\\mathbf{b_{r}} + \\left(- \\frac{L_k^{(0)}(z) L_k^{(2)}(z) \\phi_i^{(0)}(r) \\phi_i^{(2)}(r) \\psi_j^{(0)}(\\theta) \\psi_j^{(2)}(\\theta)}{r} + \\frac{L_k^{(2)}(z) L_k^{(0)}(z) \\phi_i^{(2)}(r) \\phi_i^{(0)}(r) \\psi_j^{(2)}(\\theta) \\psi_j^{(0)}(\\theta)}{r}\\right)\\mathbf{b_{\\theta}} + \\left(- r L_k^{(1)}(z) L_k^{(0)}(z) \\phi_i^{(1)}(r) \\phi_i^{(0)}(r) \\psi_j^{(1)}(\\theta) \\psi_j^{(0)}(\\theta) + r L_k^{(0)}(z) L_k^{(1)}(z) \\phi_i^{(0)}(r) \\phi_i^{(1)}(r) \\psi_j^{(0)}(\\theta) \\psi_j^{(1)}(\\theta)\\right)\\mathbf{b_{z}}$"
      ],
      "text/plain": [
       "(-r*L_k^{(2)}(z)*L_k^{(1)}(z)*phi_i^{(2)}(r)*phi_i^{(1)}(r)*psi_j^{(2)}(theta)*psi_j^{(1)}(theta) + r*L_k^{(1)}(z)*L_k^{(2)}(z)*phi_i^{(1)}(r)*phi_i^{(2)}(r)*psi_j^{(1)}(theta)*psi_j^{(2)}(theta))*C.b_r + (-L_k^{(0)}(z)*L_k^{(2)}(z)*phi_i^{(0)}(r)*phi_i^{(2)}(r)*psi_j^{(0)}(theta)*psi_j^{(2)}(theta)/r + L_k^{(2)}(z)*L_k^{(0)}(z)*phi_i^{(2)}(r)*phi_i^{(0)}(r)*psi_j^{(2)}(theta)*psi_j^{(0)}(theta)/r)*C.b_theta + (-r*L_k^{(1)}(z)*L_k^{(0)}(z)*phi_i^{(1)}(r)*phi_i^{(0)}(r)*psi_j^{(1)}(theta)*psi_j^{(0)}(theta) + r*L_k^{(0)}(z)*L_k^{(1)}(z)*phi_i^{(0)}(r)*phi_i^{(1)}(r)*psi_j^{(0)}(theta)*psi_j^{(1)}(theta))*C.b_z"
      ]
     },
     "metadata": {},
     "output_type": "display_data"
    }
   ],
   "source": [
    "if C.dims == 3:\n",
    "    c = Cross(v, v).doit()\n",
    "    display(c)"
   ]
  },
  {
   "cell_type": "code",
   "execution_count": 20,
   "metadata": {},
   "outputs": [
    {
     "data": {
      "text/latex": [
       "$\\displaystyle \\mathbf{ {v} }(x, y, z; V) \\times \\mathbf{b_{r}}$"
      ],
      "text/plain": [
       "Cross(v(x, y, z; V), C.b_r)"
      ]
     },
     "metadata": {},
     "output_type": "display_data"
    },
    {
     "data": {
      "text/latex": [
       "$\\displaystyle \\left(\\frac{L_k^{(2)}(z) \\phi_i^{(2)}(r) \\psi_j^{(2)}(\\theta)}{r}\\right)\\mathbf{b_{\\theta}} + \\left(- r L_k^{(1)}(z) \\phi_i^{(1)}(r) \\psi_j^{(1)}(\\theta)\\right)\\mathbf{b_{z}}$"
      ],
      "text/plain": [
       "(L_k^{(2)}(z)*phi_i^{(2)}(r)*psi_j^{(2)}(theta)/r)*C.b_theta + (-r*L_k^{(1)}(z)*phi_i^{(1)}(r)*psi_j^{(1)}(theta))*C.b_z"
      ]
     },
     "metadata": {},
     "output_type": "display_data"
    }
   ],
   "source": [
    "if C.dims == 3:\n",
    "    c = Cross(v, C.b_r)\n",
    "    display(c)\n",
    "    display(c.doit())"
   ]
  },
  {
   "cell_type": "code",
   "execution_count": 21,
   "metadata": {},
   "outputs": [
    {
     "data": {
      "text/latex": [
       "$\\displaystyle \\nabla\\times \\mathbf{ {v} }(x, y, z; V)$"
      ],
      "text/plain": [
       "Curl(v(x, y, z; V))"
      ]
     },
     "metadata": {},
     "output_type": "display_data"
    },
    {
     "data": {
      "text/latex": [
       "$\\displaystyle \\left(\\frac{- r^{2} \\phi_i^{(1)}(r) \\psi_j^{(1)}(\\theta) \\frac{d}{d z} L_k^{(1)}(z) + L_k^{(2)}(z) \\phi_i^{(2)}(r) \\frac{d}{d \\theta} \\psi_j^{(2)}(\\theta)}{r}\\right)\\mathbf{b_{r}} + \\left(\\frac{- L_k^{(2)}(z) \\psi_j^{(2)}(\\theta) \\frac{d}{d r} \\phi_i^{(2)}(r) + \\phi_i^{(0)}(r) \\psi_j^{(0)}(\\theta) \\frac{d}{d z} L_k^{(0)}(z)}{r}\\right)\\mathbf{b_{\\theta}} + \\left(\\frac{r^{2} L_k^{(1)}(z) \\psi_j^{(1)}(\\theta) \\frac{d}{d r} \\phi_i^{(1)}(r) + 2 r L_k^{(1)}(z) \\phi_i^{(1)}(r) \\psi_j^{(1)}(\\theta) - L_k^{(0)}(z) \\phi_i^{(0)}(r) \\frac{d}{d \\theta} \\psi_j^{(0)}(\\theta)}{r}\\right)\\mathbf{b_{z}}$"
      ],
      "text/plain": [
       "((-r**2*phi_i^{(1)}(r)*psi_j^{(1)}(theta)*Derivative(L_k^{(1)}(z), z) + L_k^{(2)}(z)*phi_i^{(2)}(r)*Derivative(psi_j^{(2)}(theta), theta))/r)*C.b_r + ((-L_k^{(2)}(z)*psi_j^{(2)}(theta)*Derivative(phi_i^{(2)}(r), r) + phi_i^{(0)}(r)*psi_j^{(0)}(theta)*Derivative(L_k^{(0)}(z), z))/r)*C.b_theta + ((r**2*L_k^{(1)}(z)*psi_j^{(1)}(theta)*Derivative(phi_i^{(1)}(r), r) + 2*r*L_k^{(1)}(z)*phi_i^{(1)}(r)*psi_j^{(1)}(theta) - L_k^{(0)}(z)*phi_i^{(0)}(r)*Derivative(psi_j^{(0)}(theta), theta))/r)*C.b_z"
      ]
     },
     "metadata": {},
     "output_type": "display_data"
    },
    {
     "data": {
      "text/latex": [
       "$\\displaystyle \\left(- \\left(- L_k^{(2)}(z) \\psi_j^{(2)}(\\theta) \\frac{d}{d r} \\phi_i^{(2)}(r) + \\phi_i^{(0)}(r) \\psi_j^{(0)}(\\theta) \\frac{d}{d z} L_k^{(0)}(z)\\right) \\sin{\\left(\\theta \\right)} + \\frac{\\left(- r^{2} \\phi_i^{(1)}(r) \\psi_j^{(1)}(\\theta) \\frac{d}{d z} L_k^{(1)}(z) + L_k^{(2)}(z) \\phi_i^{(2)}(r) \\frac{d}{d \\theta} \\psi_j^{(2)}(\\theta)\\right) \\cos{\\left(\\theta \\right)}}{r}\\right)\\mathbf{{i}} + \\left(\\left(- L_k^{(2)}(z) \\psi_j^{(2)}(\\theta) \\frac{d}{d r} \\phi_i^{(2)}(r) + \\phi_i^{(0)}(r) \\psi_j^{(0)}(\\theta) \\frac{d}{d z} L_k^{(0)}(z)\\right) \\cos{\\left(\\theta \\right)} + \\frac{\\left(- r^{2} \\phi_i^{(1)}(r) \\psi_j^{(1)}(\\theta) \\frac{d}{d z} L_k^{(1)}(z) + L_k^{(2)}(z) \\phi_i^{(2)}(r) \\frac{d}{d \\theta} \\psi_j^{(2)}(\\theta)\\right) \\sin{\\left(\\theta \\right)}}{r}\\right)\\mathbf{{j}} + \\left(\\frac{r^{2} L_k^{(1)}(z) \\psi_j^{(1)}(\\theta) \\frac{d}{d r} \\phi_i^{(1)}(r) + 2 r L_k^{(1)}(z) \\phi_i^{(1)}(r) \\psi_j^{(1)}(\\theta) - L_k^{(0)}(z) \\phi_i^{(0)}(r) \\frac{d}{d \\theta} \\psi_j^{(0)}(\\theta)}{r}\\right)\\mathbf{{k}}$"
      ],
      "text/plain": [
       "(-(-L_k^{(2)}(z)*psi_j^{(2)}(theta)*Derivative(phi_i^{(2)}(r), r) + phi_i^{(0)}(r)*psi_j^{(0)}(theta)*Derivative(L_k^{(0)}(z), z))*sin(theta) + (-r**2*phi_i^{(1)}(r)*psi_j^{(1)}(theta)*Derivative(L_k^{(1)}(z), z) + L_k^{(2)}(z)*phi_i^{(2)}(r)*Derivative(psi_j^{(2)}(theta), theta))*cos(theta)/r)*R.i + ((-L_k^{(2)}(z)*psi_j^{(2)}(theta)*Derivative(phi_i^{(2)}(r), r) + phi_i^{(0)}(r)*psi_j^{(0)}(theta)*Derivative(L_k^{(0)}(z), z))*cos(theta) + (-r**2*phi_i^{(1)}(r)*psi_j^{(1)}(theta)*Derivative(L_k^{(1)}(z), z) + L_k^{(2)}(z)*phi_i^{(2)}(r)*Derivative(psi_j^{(2)}(theta), theta))*sin(theta)/r)*R.j + ((r**2*L_k^{(1)}(z)*psi_j^{(1)}(theta)*Derivative(phi_i^{(1)}(r), r) + 2*r*L_k^{(1)}(z)*phi_i^{(1)}(r)*psi_j^{(1)}(theta) - L_k^{(0)}(z)*phi_i^{(0)}(r)*Derivative(psi_j^{(0)}(theta), theta))/r)*R.k"
      ]
     },
     "metadata": {},
     "output_type": "display_data"
    }
   ],
   "source": [
    "if C.dims == 3:\n",
    "    d = Curl(v)\n",
    "    R = C.to_cartesian(d.doit())\n",
    "    display(d)\n",
    "    display(d.doit())\n",
    "    display(R)"
   ]
  },
  {
   "cell_type": "code",
   "execution_count": 22,
   "metadata": {},
   "outputs": [
    {
     "data": {
      "text/latex": [
       "$\\displaystyle \\mathbf{{h}}(x, y, z)$"
      ],
      "text/plain": [
       "\u001b[1mh\u001b[0m(x, y, z)"
      ]
     },
     "execution_count": 22,
     "metadata": {},
     "output_type": "execute_result"
    }
   ],
   "source": [
    "h = arguments.VectorFunction(\"h\", C)\n",
    "h"
   ]
  },
  {
   "cell_type": "code",
   "execution_count": 23,
   "metadata": {},
   "outputs": [
    {
     "data": {
      "text/latex": [
       "$\\displaystyle \\left(H_{r}{\\left(r,\\theta,z \\right)}\\right)\\mathbf{b_{r}} + \\left(H_{\\theta}{\\left(r,\\theta,z \\right)}\\right)\\mathbf{b_{\\theta}} + \\left(H_{z}{\\left(r,\\theta,z \\right)}\\right)\\mathbf{b_{z}}$"
      ],
      "text/plain": [
       "(H_r(r, theta, z))*C.b_r + (H_\\theta(r, theta, z))*C.b_theta + (H_z(r, theta, z))*C.b_z"
      ]
     },
     "execution_count": 23,
     "metadata": {},
     "output_type": "execute_result"
    }
   ],
   "source": [
    "H = h.doit()\n",
    "H"
   ]
  },
  {
   "cell_type": "code",
   "execution_count": 24,
   "metadata": {},
   "outputs": [
    {
     "data": {
      "text/plain": [
       "\"Dot(TrialFunction(x, y, z, Symbol('V')), TestFunction(x, y, z, Symbol('V')))\""
      ]
     },
     "execution_count": 24,
     "metadata": {},
     "output_type": "execute_result"
    }
   ],
   "source": [
    "u = TrialFunction(V, name=\"u\")\n",
    "uv = Dot(u, v)\n",
    "srepr(uv)"
   ]
  },
  {
   "cell_type": "code",
   "execution_count": 25,
   "metadata": {},
   "outputs": [
    {
     "data": {
      "text/latex": [
       "$\\displaystyle r^{2} L_n^{(1)}(z) L_k^{(1)}(z) \\phi_l^{(1)}(r) \\phi_i^{(1)}(r) \\psi_m^{(1)}(\\theta) \\psi_j^{(1)}(\\theta) + L_n^{(0)}(z) L_k^{(0)}(z) \\phi_l^{(0)}(r) \\phi_i^{(0)}(r) \\psi_m^{(0)}(\\theta) \\psi_j^{(0)}(\\theta) + L_n^{(2)}(z) L_k^{(2)}(z) \\phi_l^{(2)}(r) \\phi_i^{(2)}(r) \\psi_m^{(2)}(\\theta) \\psi_j^{(2)}(\\theta)$"
      ],
      "text/plain": [
       "r**2*L_n^{(1)}(z)*L_k^{(1)}(z)*phi_l^{(1)}(r)*phi_i^{(1)}(r)*psi_m^{(1)}(theta)*psi_j^{(1)}(theta) + L_n^{(0)}(z)*L_k^{(0)}(z)*phi_l^{(0)}(r)*phi_i^{(0)}(r)*psi_m^{(0)}(theta)*psi_j^{(0)}(theta) + L_n^{(2)}(z)*L_k^{(2)}(z)*phi_l^{(2)}(r)*phi_i^{(2)}(r)*psi_m^{(2)}(theta)*psi_j^{(2)}(theta)"
      ]
     },
     "execution_count": 25,
     "metadata": {},
     "output_type": "execute_result"
    }
   ],
   "source": [
    "UV = uv.doit()\n",
    "UV"
   ]
  },
  {
   "cell_type": "code",
   "execution_count": 26,
   "metadata": {},
   "outputs": [
    {
     "data": {
      "text/plain": [
       "(L_n^{(0)}(z)*L_k^{(0)}(z)*phi_l^{(0)}(r)*phi_i^{(0)}(r)*psi_m^{(0)}(theta)*psi_j^{(0)}(theta),\n",
       " L_n^{(2)}(z)*L_k^{(2)}(z)*phi_l^{(2)}(r)*phi_i^{(2)}(r)*psi_m^{(2)}(theta)*psi_j^{(2)}(theta),\n",
       " r**2*L_n^{(1)}(z)*L_k^{(1)}(z)*phi_l^{(1)}(r)*phi_i^{(1)}(r)*psi_m^{(1)}(theta)*psi_j^{(1)}(theta))"
      ]
     },
     "execution_count": 26,
     "metadata": {},
     "output_type": "execute_result"
    }
   ],
   "source": [
    "UV.args"
   ]
  },
  {
   "cell_type": "code",
   "execution_count": 27,
   "metadata": {},
   "outputs": [],
   "source": [
    "a = sp.separatevars(UV.args[1], dict=True, symbols=C._base_scalars)"
   ]
  },
  {
   "cell_type": "code",
   "execution_count": 28,
   "metadata": {},
   "outputs": [
    {
     "data": {
      "text/plain": [
       "{r: phi_l^{(2)}(r)*phi_i^{(2)}(r),\n",
       " theta: psi_m^{(2)}(theta)*psi_j^{(2)}(theta),\n",
       " z: L_n^{(2)}(z)*L_k^{(2)}(z),\n",
       " 'coeff': 1}"
      ]
     },
     "execution_count": 28,
     "metadata": {},
     "output_type": "execute_result"
    }
   ],
   "source": [
    "a"
   ]
  },
  {
   "cell_type": "code",
   "execution_count": 29,
   "metadata": {},
   "outputs": [
    {
     "name": "stdout",
     "output_type": "stream",
     "text": [
      "0\n",
      "0\n",
      "1\n",
      "1\n",
      "2\n",
      "2\n"
     ]
    }
   ],
   "source": [
    "for r in C._base_scalars:\n",
    "    for j in a[r].args:\n",
    "        try:\n",
    "            print(j.local_index)\n",
    "        except AttributeError:\n",
    "            pass"
   ]
  },
  {
   "cell_type": "code",
   "execution_count": null,
   "metadata": {},
   "outputs": [
    {
     "ename": "ImportError",
     "evalue": "cannot import name 'CompositeMLP' from 'jaxfun.pinns' (/Users/mikaelmortensen/MySoftware/jaxfun/src/jaxfun/pinns/__init__.py)",
     "output_type": "error",
     "traceback": [
      "\u001b[0;31m---------------------------------------------------------------------------\u001b[0m",
      "\u001b[0;31mImportError\u001b[0m                               Traceback (most recent call last)",
      "Cell \u001b[0;32mIn[30], line 5\u001b[0m\n\u001b[1;32m      3\u001b[0m \u001b[38;5;28;01mfrom\u001b[39;00m\u001b[38;5;250m \u001b[39m\u001b[38;5;21;01mjaxfun\u001b[39;00m\u001b[38;5;21;01m.\u001b[39;00m\u001b[38;5;21;01marguments\u001b[39;00m\u001b[38;5;250m \u001b[39m\u001b[38;5;28;01mimport\u001b[39;00m Constant, Identity\n\u001b[1;32m      4\u001b[0m \u001b[38;5;28;01mfrom\u001b[39;00m\u001b[38;5;250m \u001b[39m\u001b[38;5;21;01mjaxfun\u001b[39;00m\u001b[38;5;21;01m.\u001b[39;00m\u001b[38;5;21;01moperators\u001b[39;00m\u001b[38;5;250m \u001b[39m\u001b[38;5;28;01mimport\u001b[39;00m Cross, Curl, Div, Dot, Grad, Outer\n\u001b[0;32m----> 5\u001b[0m \u001b[38;5;28;01mfrom\u001b[39;00m\u001b[38;5;250m \u001b[39m\u001b[38;5;21;01mjaxfun\u001b[39;00m\u001b[38;5;21;01m.\u001b[39;00m\u001b[38;5;21;01mpinns\u001b[39;00m\u001b[38;5;250m \u001b[39m\u001b[38;5;28;01mimport\u001b[39;00m CompositeMLP, FlaxFunction, MLPSpace\n\u001b[1;32m      7\u001b[0m V \u001b[38;5;241m=\u001b[39m MLPSpace([\u001b[38;5;241m8\u001b[39m], dims\u001b[38;5;241m=\u001b[39mC\u001b[38;5;241m.\u001b[39mdims, rank\u001b[38;5;241m=\u001b[39m\u001b[38;5;241m1\u001b[39m, system\u001b[38;5;241m=\u001b[39mC, name\u001b[38;5;241m=\u001b[39m\u001b[38;5;124m\"\u001b[39m\u001b[38;5;124mV\u001b[39m\u001b[38;5;124m\"\u001b[39m)  \u001b[38;5;66;03m# Vector space for velocity\u001b[39;00m\n\u001b[1;32m      8\u001b[0m Q \u001b[38;5;241m=\u001b[39m MLPSpace([\u001b[38;5;241m8\u001b[39m], dims\u001b[38;5;241m=\u001b[39mC\u001b[38;5;241m.\u001b[39mdims, rank\u001b[38;5;241m=\u001b[39m\u001b[38;5;241m0\u001b[39m, system\u001b[38;5;241m=\u001b[39mC, name\u001b[38;5;241m=\u001b[39m\u001b[38;5;124m\"\u001b[39m\u001b[38;5;124mQ\u001b[39m\u001b[38;5;124m\"\u001b[39m)  \u001b[38;5;66;03m# Scalar space for pressure\u001b[39;00m\n",
      "\u001b[0;31mImportError\u001b[0m: cannot import name 'CompositeMLP' from 'jaxfun.pinns' (/Users/mikaelmortensen/MySoftware/jaxfun/src/jaxfun/pinns/__init__.py)"
     ]
    }
   ],
   "source": [
    "from flax import nnx\n",
    "\n",
    "from jaxfun.arguments import Constant, Identity\n",
    "from jaxfun.operators import Cross, Curl, Div, Dot, Grad, Outer\n",
    "from jaxfun.pinns import FlaxFunction, MLPSpace\n",
    "\n",
    "V = MLPSpace([8], dims=C.dims, rank=1, system=C, name=\"V\")  # Vector space for velocity\n",
    "Q = MLPSpace([8], dims=C.dims, rank=0, system=C, name=\"Q\")  # Scalar space for pressure\n",
    "\n",
    "u = FlaxFunction(V, \"u\", rngs=nnx.Rngs(2002))\n",
    "p = FlaxFunction(Q, \"p\", rngs=nnx.Rngs(1001))"
   ]
  },
  {
   "cell_type": "code",
   "execution_count": null,
   "metadata": {},
   "outputs": [],
   "source": [
    "C.simplify(Div(u).doit())"
   ]
  },
  {
   "cell_type": "code",
   "execution_count": null,
   "metadata": {},
   "outputs": [],
   "source": [
    "R1 = Dot(Grad(u), u) - Div(Grad(u)) + Grad(p)\n",
    "R1"
   ]
  },
  {
   "cell_type": "code",
   "execution_count": null,
   "metadata": {},
   "outputs": [],
   "source": [
    "I = Identity(C)\n",
    "R2 = Div(Outer(u, u)) - Div(\n",
    "    (Grad(u) + Grad(u).T - sp.Rational(2, 3) * Div(u) * I) + p * I\n",
    ") \n",
    "R2.doit()"
   ]
  },
  {
   "cell_type": "code",
   "execution_count": null,
   "metadata": {},
   "outputs": [],
   "source": [
    "if C.dims == 3:\n",
    "    R3 = Cross(Curl(u), u) + sp.S.Half*Grad(Dot(u, u)) - Div(Grad(u)) + Grad(p)\n",
    "    display(R3)\n",
    "    display(R3.doit())"
   ]
  },
  {
   "cell_type": "code",
   "execution_count": null,
   "metadata": {},
   "outputs": [],
   "source": [
    "ut = Dot(u, C.get_contravariant_basis_vector(1)).doit()\n",
    "sp.srepr(ut)"
   ]
  },
  {
   "cell_type": "code",
   "execution_count": null,
   "metadata": {},
   "outputs": [],
   "source": [
    "uu = Outer(u, u).doit()"
   ]
  },
  {
   "cell_type": "code",
   "execution_count": null,
   "metadata": {},
   "outputs": [],
   "source": [
    "uu"
   ]
  },
  {
   "cell_type": "code",
   "execution_count": null,
   "metadata": {},
   "outputs": [],
   "source": [
    "C.simplify(Dot(R1, C.get_contravariant_basis_vector(0)).doit())"
   ]
  },
  {
   "cell_type": "code",
   "execution_count": null,
   "metadata": {},
   "outputs": [],
   "source": [
    "C.simplify(R1.doit())"
   ]
  },
  {
   "cell_type": "code",
   "execution_count": null,
   "metadata": {},
   "outputs": [],
   "source": [
    "r1 = Dot(R1, C.get_contravariant_basis_vector(0)).doit()\n",
    "r1"
   ]
  },
  {
   "cell_type": "code",
   "execution_count": null,
   "metadata": {},
   "outputs": [],
   "source": [
    "r1.expand()"
   ]
  },
  {
   "cell_type": "code",
   "execution_count": null,
   "metadata": {},
   "outputs": [],
   "source": []
  }
 ],
 "metadata": {
  "kernelspec": {
   "display_name": "jaxfun (3.12.7)",
   "language": "python",
   "name": "python3"
  },
  "language_info": {
   "codemirror_mode": {
    "name": "ipython",
    "version": 3
   },
   "file_extension": ".py",
   "mimetype": "text/x-python",
   "name": "python",
   "nbconvert_exporter": "python",
   "pygments_lexer": "ipython3",
   "version": "3.12.7"
  }
 },
 "nbformat": 4,
 "nbformat_minor": 2
}

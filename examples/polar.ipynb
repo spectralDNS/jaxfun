{
 "cells": [
  {
   "cell_type": "markdown",
   "metadata": {},
   "source": [
    "# Polar coordinates with jaxfun"
   ]
  },
  {
   "cell_type": "code",
   "execution_count": 1,
   "metadata": {},
   "outputs": [],
   "source": [
    "from jaxfun import *\n",
    "from jaxfun.Basespace import Domain\n",
    "import numpy as np\n",
    "import sympy as sp\n",
    "\n",
    "r, theta = sp.symbols('r,theta', real=True)\n",
    "C = get_CoordSys('C', sp.Lambda((r, theta), (r*sp.cos(theta), r*sp.sin(theta))))\n",
    "Dr = Composite(Legendre.Legendre, 20, bcs={'left': {'D': 0}, 'right': {'D': 0}}, domain=Domain(0.5, 1), name='Dr', fun_str='phi')\n",
    "Dt = Composite(Legendre.Legendre, 20, bcs={'left': {'D': 0}, 'right': {'D': 0}}, domain=Domain(0, np.pi), name='Dt', fun_str='psi')\n",
    "T = TensorProductSpace((Dr, Dt), coordinates=C, name='T')"
   ]
  },
  {
   "cell_type": "code",
   "execution_count": 2,
   "metadata": {},
   "outputs": [
    {
     "data": {
      "text/latex": [
       "$\\displaystyle \\nabla\\cdot \\nabla u(x, y; T)$"
      ],
      "text/plain": [
       "Div(Grad(u(x, y; T)))"
      ]
     },
     "execution_count": 2,
     "metadata": {},
     "output_type": "execute_result"
    }
   ],
   "source": [
    "u = TrialFunction(T, name='u')\n",
    "du = Div(Grad(u))\n",
    "du"
   ]
  },
  {
   "cell_type": "code",
   "execution_count": 7,
   "metadata": {},
   "outputs": [
    {
     "data": {
      "text/latex": [
       "$\\displaystyle \\frac{r \\psi(\\theta) \\frac{\\partial^{2}}{\\partial r^{2}} \\phi(r) + \\psi(\\theta) \\frac{\\partial}{\\partial r} \\phi(r)}{r} + \\frac{\\phi(r) \\frac{\\partial^{2}}{\\partial \\theta^{2}} \\psi(\\theta)}{r^{2}}$"
      ],
      "text/plain": [
       "(r*psi(theta)*Derivative(phi(r), (r, 2)) + psi(theta)*Derivative(phi(r), r))/r + phi(r)*Derivative(psi(theta), (theta, 2))/r**2"
      ]
     },
     "execution_count": 7,
     "metadata": {},
     "output_type": "execute_result"
    }
   ],
   "source": [
    "du.doit()"
   ]
  },
  {
   "cell_type": "code",
   "execution_count": 4,
   "metadata": {},
   "outputs": [
    {
     "data": {
      "text/plain": [
       "\"Div(Grad(TrialFunction(x, y, Symbol('T'))))\""
      ]
     },
     "execution_count": 4,
     "metadata": {},
     "output_type": "execute_result"
    }
   ],
   "source": [
    "from sympy import srepr\n",
    "srepr(du)"
   ]
  },
  {
   "cell_type": "code",
   "execution_count": 5,
   "metadata": {},
   "outputs": [
    {
     "data": {
      "text/latex": [
       "$\\displaystyle \\left(\\psi(\\theta) \\frac{\\partial}{\\partial r} \\phi(r)\\right)\\mathbf{b_{r}} + \\left(\\frac{\\phi(r) \\frac{\\partial}{\\partial \\theta} \\psi(\\theta)}{r^{2}}\\right)\\mathbf{b_{\\theta}}$"
      ],
      "text/plain": [
       "(psi(theta)*Derivative(phi(r), r))*C.b_r + (phi(r)*Derivative(psi(theta), theta)/r**2)*C.b_theta"
      ]
     },
     "execution_count": 5,
     "metadata": {},
     "output_type": "execute_result"
    }
   ],
   "source": [
    "Grad(u).doit()"
   ]
  },
  {
   "cell_type": "code",
   "execution_count": 9,
   "metadata": {},
   "outputs": [
    {
     "data": {
      "text/latex": [
       "$\\displaystyle g(x, y)$"
      ],
      "text/plain": [
       "g(x, y)"
      ]
     },
     "execution_count": 9,
     "metadata": {},
     "output_type": "execute_result"
    }
   ],
   "source": [
    "g = arguments.SpatialFunction('g', C)\n",
    "g"
   ]
  },
  {
   "cell_type": "code",
   "execution_count": 10,
   "metadata": {},
   "outputs": [
    {
     "data": {
      "text/latex": [
       "$\\displaystyle G{\\left(r,\\theta \\right)}$"
      ],
      "text/plain": [
       "G(r, theta)"
      ]
     },
     "execution_count": 10,
     "metadata": {},
     "output_type": "execute_result"
    }
   ],
   "source": [
    "g.doit()"
   ]
  },
  {
   "cell_type": "code",
   "execution_count": 11,
   "metadata": {},
   "outputs": [
    {
     "data": {
      "text/latex": [
       "$\\displaystyle \\nabla\\cdot \\nabla g(x, y)$"
      ],
      "text/plain": [
       "Div(Grad(g(x, y)))"
      ]
     },
     "execution_count": 11,
     "metadata": {},
     "output_type": "execute_result"
    }
   ],
   "source": [
    "Div(Grad(g))"
   ]
  },
  {
   "cell_type": "code",
   "execution_count": 12,
   "metadata": {},
   "outputs": [
    {
     "data": {
      "text/latex": [
       "$\\displaystyle \\frac{r \\frac{\\partial^{2}}{\\partial r^{2}} G{\\left(r,\\theta \\right)} + \\frac{\\partial}{\\partial r} G{\\left(r,\\theta \\right)}}{r} + \\frac{\\frac{\\partial^{2}}{\\partial \\theta^{2}} G{\\left(r,\\theta \\right)}}{r^{2}}$"
      ],
      "text/plain": [
       "(r*Derivative(G(r, theta), (r, 2)) + Derivative(G(r, theta), r))/r + Derivative(G(r, theta), (theta, 2))/r**2"
      ]
     },
     "execution_count": 12,
     "metadata": {},
     "output_type": "execute_result"
    }
   ],
   "source": [
    "Div(Grad(g)).doit()"
   ]
  },
  {
   "cell_type": "code",
   "execution_count": null,
   "metadata": {},
   "outputs": [],
   "source": []
  }
 ],
 "metadata": {
  "kernelspec": {
   "display_name": "jax-intro",
   "language": "python",
   "name": "python3"
  },
  "language_info": {
   "codemirror_mode": {
    "name": "ipython",
    "version": 3
   },
   "file_extension": ".py",
   "mimetype": "text/x-python",
   "name": "python",
   "nbconvert_exporter": "python",
   "pygments_lexer": "ipython3",
   "version": "3.12.7"
  }
 },
 "nbformat": 4,
 "nbformat_minor": 2
}
